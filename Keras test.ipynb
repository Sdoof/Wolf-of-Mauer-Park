{
 "cells": [
  {
   "cell_type": "code",
   "execution_count": 29,
   "metadata": {
    "collapsed": false
   },
   "outputs": [],
   "source": [
    "%qtconsole\n",
    "import numpy as np\n",
    "import pandas as pd\n",
    "from service import files_service\n",
    "from model.models import TradeModel\n",
    "from sklearn.preprocessing import normalize\n",
    "\n",
    "from keras.models import Sequential\n",
    "from keras.layers.core import Dense, Activation,Dropout\n",
    "from keras.layers import LSTM\n",
    "from keras.utils import np_utils"
   ]
  },
  {
   "cell_type": "markdown",
   "metadata": {},
   "source": [
    "Set folder for data"
   ]
  },
  {
   "cell_type": "code",
   "execution_count": 2,
   "metadata": {
    "collapsed": true
   },
   "outputs": [],
   "source": [
    "PATH = \"data/test_all_periods/\""
   ]
  },
  {
   "cell_type": "code",
   "execution_count": 3,
   "metadata": {
    "collapsed": false
   },
   "outputs": [],
   "source": [
    "files = files_service.get_files(PATH,extension='.csv')\n",
    "files = [files[2]]"
   ]
  },
  {
   "cell_type": "code",
   "execution_count": 4,
   "metadata": {
    "collapsed": false
   },
   "outputs": [
    {
     "data": {
      "text/plain": [
       "['EURUSD_UTC_4H_Bid_2010.01.01_2017.02.18.csv']"
      ]
     },
     "execution_count": 4,
     "metadata": {},
     "output_type": "execute_result"
    }
   ],
   "source": [
    "files"
   ]
  },
  {
   "cell_type": "code",
   "execution_count": 5,
   "metadata": {
    "collapsed": false
   },
   "outputs": [],
   "source": [
    "df = pd.read_csv(\"\".join([PATH,files[0]]))"
   ]
  },
  {
   "cell_type": "code",
   "execution_count": 6,
   "metadata": {
    "collapsed": false
   },
   "outputs": [
    {
     "data": {
      "text/html": [
       "<div>\n",
       "<table border=\"1\" class=\"dataframe\">\n",
       "  <thead>\n",
       "    <tr style=\"text-align: right;\">\n",
       "      <th></th>\n",
       "      <th>Time (UTC)</th>\n",
       "      <th>Open</th>\n",
       "      <th>High</th>\n",
       "      <th>Low</th>\n",
       "      <th>Close</th>\n",
       "      <th>Volume</th>\n",
       "    </tr>\n",
       "  </thead>\n",
       "  <tbody>\n",
       "    <tr>\n",
       "      <th>0</th>\n",
       "      <td>01.01.2010 08:00:00</td>\n",
       "      <td>1.43297</td>\n",
       "      <td>1.43346</td>\n",
       "      <td>1.43218</td>\n",
       "      <td>1.43306</td>\n",
       "      <td>18182.8</td>\n",
       "    </tr>\n",
       "    <tr>\n",
       "      <th>1</th>\n",
       "      <td>01.01.2010 12:00:00</td>\n",
       "      <td>1.43321</td>\n",
       "      <td>1.43354</td>\n",
       "      <td>1.43207</td>\n",
       "      <td>1.43337</td>\n",
       "      <td>15405.0</td>\n",
       "    </tr>\n",
       "    <tr>\n",
       "      <th>2</th>\n",
       "      <td>01.01.2010 16:00:00</td>\n",
       "      <td>1.43337</td>\n",
       "      <td>1.43356</td>\n",
       "      <td>1.43225</td>\n",
       "      <td>1.43342</td>\n",
       "      <td>13920.0</td>\n",
       "    </tr>\n",
       "    <tr>\n",
       "      <th>3</th>\n",
       "      <td>01.01.2010 20:00:00</td>\n",
       "      <td>1.43331</td>\n",
       "      <td>1.43356</td>\n",
       "      <td>1.43315</td>\n",
       "      <td>1.43335</td>\n",
       "      <td>6956.1</td>\n",
       "    </tr>\n",
       "    <tr>\n",
       "      <th>4</th>\n",
       "      <td>03.01.2010 20:00:00</td>\n",
       "      <td>1.43024</td>\n",
       "      <td>1.43359</td>\n",
       "      <td>1.42951</td>\n",
       "      <td>1.43141</td>\n",
       "      <td>3001.6</td>\n",
       "    </tr>\n",
       "  </tbody>\n",
       "</table>\n",
       "</div>"
      ],
      "text/plain": [
       "            Time (UTC)     Open     High      Low    Close  Volume \n",
       "0  01.01.2010 08:00:00  1.43297  1.43346  1.43218  1.43306  18182.8\n",
       "1  01.01.2010 12:00:00  1.43321  1.43354  1.43207  1.43337  15405.0\n",
       "2  01.01.2010 16:00:00  1.43337  1.43356  1.43225  1.43342  13920.0\n",
       "3  01.01.2010 20:00:00  1.43331  1.43356  1.43315  1.43335   6956.1\n",
       "4  03.01.2010 20:00:00  1.43024  1.43359  1.42951  1.43141   3001.6"
      ]
     },
     "execution_count": 6,
     "metadata": {},
     "output_type": "execute_result"
    }
   ],
   "source": [
    "df.head()"
   ]
  },
  {
   "cell_type": "code",
   "execution_count": 7,
   "metadata": {
    "collapsed": false
   },
   "outputs": [
    {
     "name": "stdout",
     "output_type": "stream",
     "text": [
      "<class 'pandas.core.frame.DataFrame'>\n",
      "RangeIndex: 11536 entries, 0 to 11535\n",
      "Data columns (total 6 columns):\n",
      "Time (UTC)    11536 non-null object\n",
      "Open          11536 non-null float64\n",
      "High          11536 non-null float64\n",
      "Low           11536 non-null float64\n",
      "Close         11536 non-null float64\n",
      "Volume        11536 non-null float64\n",
      "dtypes: float64(5), object(1)\n",
      "memory usage: 540.8+ KB\n"
     ]
    }
   ],
   "source": [
    "df.info()"
   ]
  },
  {
   "cell_type": "code",
   "execution_count": 8,
   "metadata": {
    "collapsed": false
   },
   "outputs": [
    {
     "name": "stdout",
     "output_type": "stream",
     "text": [
      "EURUSD_UTC_4H_Bid_2010.01.01_2017.02.18 \"4H\"\n"
     ]
    }
   ],
   "source": [
    "TradeModel_dict={}\n",
    "for f in files:\n",
    "    name = f.split('.csv')[0]\n",
    "    frequency =  '\\\"' + f.split('_')[2] + '\\\"'\n",
    "    print name, frequency\n",
    "    path = PATH+f\n",
    "    tm = TradeModel(path,name,frequency=frequency)\n",
    "    TradeModel_dict[name]= tm"
   ]
  },
  {
   "cell_type": "code",
   "execution_count": 9,
   "metadata": {
    "collapsed": false
   },
   "outputs": [],
   "source": [
    "tm =TradeModel_dict['EURUSD_UTC_4H_Bid_2010.01.01_2017.02.18']"
   ]
  },
  {
   "cell_type": "code",
   "execution_count": 10,
   "metadata": {
    "collapsed": true
   },
   "outputs": [],
   "source": [
    "tm.df.to_csv('tradeModel_data.csv')"
   ]
  },
  {
   "cell_type": "code",
   "execution_count": 11,
   "metadata": {
    "collapsed": true
   },
   "outputs": [],
   "source": [
    "df = tm.df"
   ]
  },
  {
   "cell_type": "code",
   "execution_count": 12,
   "metadata": {
    "collapsed": false
   },
   "outputs": [
    {
     "data": {
      "text/html": [
       "<div>\n",
       "<table border=\"1\" class=\"dataframe\">\n",
       "  <thead>\n",
       "    <tr style=\"text-align: right;\">\n",
       "      <th></th>\n",
       "      <th>Open</th>\n",
       "      <th>High</th>\n",
       "      <th>Low</th>\n",
       "      <th>Close</th>\n",
       "      <th>Volume</th>\n",
       "      <th>KC_M_1</th>\n",
       "      <th>KC_U_1</th>\n",
       "      <th>KC_D_1</th>\n",
       "      <th>KC_M_2</th>\n",
       "      <th>KC_U_2</th>\n",
       "      <th>...</th>\n",
       "      <th>DOWN_next_Low_under_Close</th>\n",
       "      <th>DOWN_next_High_over_Close</th>\n",
       "      <th>UP_next_High_over_Close</th>\n",
       "      <th>UP_next_Low_under_Close</th>\n",
       "      <th>DOWN_next_Low_and_High</th>\n",
       "      <th>UP_next_Low_and_High</th>\n",
       "      <th>hour</th>\n",
       "      <th>day</th>\n",
       "      <th>month</th>\n",
       "      <th>year</th>\n",
       "    </tr>\n",
       "    <tr>\n",
       "      <th>date_time</th>\n",
       "      <th></th>\n",
       "      <th></th>\n",
       "      <th></th>\n",
       "      <th></th>\n",
       "      <th></th>\n",
       "      <th></th>\n",
       "      <th></th>\n",
       "      <th></th>\n",
       "      <th></th>\n",
       "      <th></th>\n",
       "      <th></th>\n",
       "      <th></th>\n",
       "      <th></th>\n",
       "      <th></th>\n",
       "      <th></th>\n",
       "      <th></th>\n",
       "      <th></th>\n",
       "      <th></th>\n",
       "      <th></th>\n",
       "      <th></th>\n",
       "      <th></th>\n",
       "    </tr>\n",
       "  </thead>\n",
       "  <tbody>\n",
       "    <tr>\n",
       "      <th>2010-01-01 08:00:00</th>\n",
       "      <td>1.43297</td>\n",
       "      <td>1.43346</td>\n",
       "      <td>1.43218</td>\n",
       "      <td>1.43306</td>\n",
       "      <td>18182.8</td>\n",
       "      <td>NaN</td>\n",
       "      <td>NaN</td>\n",
       "      <td>NaN</td>\n",
       "      <td>NaN</td>\n",
       "      <td>NaN</td>\n",
       "      <td>...</td>\n",
       "      <td>0</td>\n",
       "      <td>0</td>\n",
       "      <td>0</td>\n",
       "      <td>0</td>\n",
       "      <td>0</td>\n",
       "      <td>0</td>\n",
       "      <td>8</td>\n",
       "      <td>4</td>\n",
       "      <td>1</td>\n",
       "      <td>2010</td>\n",
       "    </tr>\n",
       "    <tr>\n",
       "      <th>2010-01-01 12:00:00</th>\n",
       "      <td>1.43321</td>\n",
       "      <td>1.43354</td>\n",
       "      <td>1.43207</td>\n",
       "      <td>1.43337</td>\n",
       "      <td>15405.0</td>\n",
       "      <td>NaN</td>\n",
       "      <td>NaN</td>\n",
       "      <td>NaN</td>\n",
       "      <td>NaN</td>\n",
       "      <td>NaN</td>\n",
       "      <td>...</td>\n",
       "      <td>0</td>\n",
       "      <td>0</td>\n",
       "      <td>0</td>\n",
       "      <td>0</td>\n",
       "      <td>0</td>\n",
       "      <td>0</td>\n",
       "      <td>12</td>\n",
       "      <td>4</td>\n",
       "      <td>1</td>\n",
       "      <td>2010</td>\n",
       "    </tr>\n",
       "    <tr>\n",
       "      <th>2010-01-01 16:00:00</th>\n",
       "      <td>1.43337</td>\n",
       "      <td>1.43356</td>\n",
       "      <td>1.43225</td>\n",
       "      <td>1.43342</td>\n",
       "      <td>13920.0</td>\n",
       "      <td>1.432990</td>\n",
       "      <td>1.434343</td>\n",
       "      <td>1.431637</td>\n",
       "      <td>1.432990</td>\n",
       "      <td>1.434343</td>\n",
       "      <td>...</td>\n",
       "      <td>0</td>\n",
       "      <td>0</td>\n",
       "      <td>0</td>\n",
       "      <td>0</td>\n",
       "      <td>0</td>\n",
       "      <td>0</td>\n",
       "      <td>16</td>\n",
       "      <td>4</td>\n",
       "      <td>1</td>\n",
       "      <td>2010</td>\n",
       "    </tr>\n",
       "    <tr>\n",
       "      <th>2010-01-01 20:00:00</th>\n",
       "      <td>1.43331</td>\n",
       "      <td>1.43356</td>\n",
       "      <td>1.43315</td>\n",
       "      <td>1.43335</td>\n",
       "      <td>6956.1</td>\n",
       "      <td>1.433141</td>\n",
       "      <td>1.434204</td>\n",
       "      <td>1.432078</td>\n",
       "      <td>1.433141</td>\n",
       "      <td>1.434204</td>\n",
       "      <td>...</td>\n",
       "      <td>1</td>\n",
       "      <td>0</td>\n",
       "      <td>0</td>\n",
       "      <td>1</td>\n",
       "      <td>0</td>\n",
       "      <td>0</td>\n",
       "      <td>20</td>\n",
       "      <td>4</td>\n",
       "      <td>1</td>\n",
       "      <td>2010</td>\n",
       "    </tr>\n",
       "    <tr>\n",
       "      <th>2010-01-03 20:00:00</th>\n",
       "      <td>1.43024</td>\n",
       "      <td>1.43359</td>\n",
       "      <td>1.42951</td>\n",
       "      <td>1.43141</td>\n",
       "      <td>3001.6</td>\n",
       "      <td>1.432644</td>\n",
       "      <td>1.434578</td>\n",
       "      <td>1.430711</td>\n",
       "      <td>1.432644</td>\n",
       "      <td>1.434578</td>\n",
       "      <td>...</td>\n",
       "      <td>1</td>\n",
       "      <td>0</td>\n",
       "      <td>0</td>\n",
       "      <td>1</td>\n",
       "      <td>0</td>\n",
       "      <td>0</td>\n",
       "      <td>20</td>\n",
       "      <td>6</td>\n",
       "      <td>1</td>\n",
       "      <td>2010</td>\n",
       "    </tr>\n",
       "  </tbody>\n",
       "</table>\n",
       "<p>5 rows × 36 columns</p>\n",
       "</div>"
      ],
      "text/plain": [
       "                        Open     High      Low    Close  Volume     KC_M_1  \\\n",
       "date_time                                                                    \n",
       "2010-01-01 08:00:00  1.43297  1.43346  1.43218  1.43306  18182.8       NaN   \n",
       "2010-01-01 12:00:00  1.43321  1.43354  1.43207  1.43337  15405.0       NaN   \n",
       "2010-01-01 16:00:00  1.43337  1.43356  1.43225  1.43342  13920.0  1.432990   \n",
       "2010-01-01 20:00:00  1.43331  1.43356  1.43315  1.43335   6956.1  1.433141   \n",
       "2010-01-03 20:00:00  1.43024  1.43359  1.42951  1.43141   3001.6  1.432644   \n",
       "\n",
       "                       KC_U_1    KC_D_1    KC_M_2    KC_U_2  ...   \\\n",
       "date_time                                                    ...    \n",
       "2010-01-01 08:00:00       NaN       NaN       NaN       NaN  ...    \n",
       "2010-01-01 12:00:00       NaN       NaN       NaN       NaN  ...    \n",
       "2010-01-01 16:00:00  1.434343  1.431637  1.432990  1.434343  ...    \n",
       "2010-01-01 20:00:00  1.434204  1.432078  1.433141  1.434204  ...    \n",
       "2010-01-03 20:00:00  1.434578  1.430711  1.432644  1.434578  ...    \n",
       "\n",
       "                     DOWN_next_Low_under_Close  DOWN_next_High_over_Close  \\\n",
       "date_time                                                                   \n",
       "2010-01-01 08:00:00                          0                          0   \n",
       "2010-01-01 12:00:00                          0                          0   \n",
       "2010-01-01 16:00:00                          0                          0   \n",
       "2010-01-01 20:00:00                          1                          0   \n",
       "2010-01-03 20:00:00                          1                          0   \n",
       "\n",
       "                     UP_next_High_over_Close  UP_next_Low_under_Close  \\\n",
       "date_time                                                               \n",
       "2010-01-01 08:00:00                        0                        0   \n",
       "2010-01-01 12:00:00                        0                        0   \n",
       "2010-01-01 16:00:00                        0                        0   \n",
       "2010-01-01 20:00:00                        0                        1   \n",
       "2010-01-03 20:00:00                        0                        1   \n",
       "\n",
       "                     DOWN_next_Low_and_High  UP_next_Low_and_High  hour  day  \\\n",
       "date_time                                                                      \n",
       "2010-01-01 08:00:00                       0                     0     8    4   \n",
       "2010-01-01 12:00:00                       0                     0    12    4   \n",
       "2010-01-01 16:00:00                       0                     0    16    4   \n",
       "2010-01-01 20:00:00                       0                     0    20    4   \n",
       "2010-01-03 20:00:00                       0                     0    20    6   \n",
       "\n",
       "                     month  year  \n",
       "date_time                         \n",
       "2010-01-01 08:00:00      1  2010  \n",
       "2010-01-01 12:00:00      1  2010  \n",
       "2010-01-01 16:00:00      1  2010  \n",
       "2010-01-01 20:00:00      1  2010  \n",
       "2010-01-03 20:00:00      1  2010  \n",
       "\n",
       "[5 rows x 36 columns]"
      ]
     },
     "execution_count": 12,
     "metadata": {},
     "output_type": "execute_result"
    }
   ],
   "source": [
    "df.head()"
   ]
  },
  {
   "cell_type": "code",
   "execution_count": 13,
   "metadata": {
    "collapsed": true
   },
   "outputs": [],
   "source": [
    "def train_test_split(tm, date, target):\n",
    "    \n",
    "    \n",
    "              \n",
    "    predictors =tm.get_predictors_columns()\n",
    "    #predictors =['Open','High','Low','High','KC_M_3','KC_U_3','ATR','EMA12','EMA30']\n",
    "    print tm.df.shape\n",
    "    tm.df = tm.df.dropna()\n",
    "    print tm.df.shape\n",
    "    tm.df[predictors] = normalize(tm.df[predictors])\n",
    "\n",
    "    df_train = tm.df[tm.df.index<date]\n",
    "    df_test = tm.df[tm.df.index>=date]\n",
    "    \n",
    "    tm.X_train,tm.y_train = df_train[predictors].values,df_train[target].values\n",
    "    tm.X_test, tm.y_test  = df_test[predictors].values,df_test[target].values  "
   ]
  },
  {
   "cell_type": "code",
   "execution_count": 14,
   "metadata": {
    "collapsed": false
   },
   "outputs": [
    {
     "name": "stdout",
     "output_type": "stream",
     "text": [
      "(11536, 36)\n",
      "(11506, 36)\n"
     ]
    },
    {
     "name": "stderr",
     "output_type": "stream",
     "text": [
      "/home/ramon/anaconda2/lib/python2.7/site-packages/ipykernel/__main__.py:10: SettingWithCopyWarning: \n",
      "A value is trying to be set on a copy of a slice from a DataFrame.\n",
      "Try using .loc[row_indexer,col_indexer] = value instead\n",
      "\n",
      "See the caveats in the documentation: http://pandas.pydata.org/pandas-docs/stable/indexing.html#indexing-view-versus-copy\n",
      "/home/ramon/anaconda2/lib/python2.7/site-packages/pandas/core/indexing.py:465: SettingWithCopyWarning: \n",
      "A value is trying to be set on a copy of a slice from a DataFrame.\n",
      "Try using .loc[row_indexer,col_indexer] = value instead\n",
      "\n",
      "See the caveats in the documentation: http://pandas.pydata.org/pandas-docs/stable/indexing.html#indexing-view-versus-copy\n",
      "  self.obj[item] = s\n"
     ]
    }
   ],
   "source": [
    "train_test_split(tm,\"2017-02-16\",\"DOWN_next_Low_under_Close\")"
   ]
  },
  {
   "cell_type": "code",
   "execution_count": 15,
   "metadata": {
    "collapsed": false
   },
   "outputs": [
    {
     "data": {
      "text/plain": [
       "array([0, 0, 0, 1, 0, 0, 0, 0, 1, 1, 0])"
      ]
     },
     "execution_count": 15,
     "metadata": {},
     "output_type": "execute_result"
    }
   ],
   "source": [
    "tm.y_test"
   ]
  },
  {
   "cell_type": "code",
   "execution_count": 16,
   "metadata": {
    "collapsed": false
   },
   "outputs": [
    {
     "data": {
      "text/plain": [
       "(11, 27)"
      ]
     },
     "execution_count": 16,
     "metadata": {},
     "output_type": "execute_result"
    }
   ],
   "source": [
    "tm.X_test.shape"
   ]
  },
  {
   "cell_type": "code",
   "execution_count": 76,
   "metadata": {
    "collapsed": false
   },
   "outputs": [],
   "source": [
    "X_train = tm.X_train\n",
    "X_test = tm.X_test\n",
    "\n",
    "X_train = np.reshape(X_train, (X_train.shape[0], 1, X_train.shape[1]))\n",
    "X_test = np.reshape(X_test, (X_test.shape[0], 1, X_test.shape[1]))\n",
    "y_train = pd.get_dummies(tm.y_train).values\n",
    "y_test = pd.get_dummies(tm.y_test).values"
   ]
  },
  {
   "cell_type": "code",
   "execution_count": null,
   "metadata": {
    "collapsed": false
   },
   "outputs": [
    {
     "name": "stdout",
     "output_type": "stream",
     "text": [
      "Epoch 1/10\n",
      " 6424/11495 [===============>..............] - ETA: 34s - loss: 0.6567 - acc: 0.6396"
     ]
    }
   ],
   "source": [
    "data_dim = 27\n",
    "timesteps = 1\n",
    "num_classes = 10\n",
    "batch_size = 1\n",
    "\n",
    "model = Sequential()\n",
    "\n",
    "model = Sequential()\n",
    "model.add(LSTM(32, return_sequences=True, stateful=True,\n",
    "               batch_input_shape=(batch_size, timesteps, data_dim)))\n",
    "model.add(LSTM(32, return_sequences=True, stateful=True))\n",
    "model.add(LSTM(32, stateful=True))\n",
    "model.add(Dense(2, activation='softmax'))\n",
    "\n",
    "model.compile(loss='categorical_crossentropy',\n",
    "              optimizer='rmsprop',\n",
    "              metrics=['accuracy'])\n",
    "\n",
    "model.compile(optimizer='adam', loss='categorical_crossentropy', metrics=[\"accuracy\"])\n",
    "\n",
    "model.fit(X_train, y_train, nb_epoch=10, batch_size=1, verbose=1);"
   ]
  },
  {
   "cell_type": "code",
   "execution_count": null,
   "metadata": {
    "collapsed": true
   },
   "outputs": [],
   "source": [
    "loss, accuracy = model.evaluate(test_X, test_y_ohe, verbose=0)\n",
    "print(\"Accuracy = {:.2f}\".format(accuracy))"
   ]
  }
 ],
 "metadata": {
  "anaconda-cloud": {},
  "kernelspec": {
   "display_name": "Python [conda root]",
   "language": "python",
   "name": "conda-root-py"
  },
  "language_info": {
   "codemirror_mode": {
    "name": "ipython",
    "version": 2
   },
   "file_extension": ".py",
   "mimetype": "text/x-python",
   "name": "python",
   "nbconvert_exporter": "python",
   "pygments_lexer": "ipython2",
   "version": "2.7.12"
  }
 },
 "nbformat": 4,
 "nbformat_minor": 1
}
