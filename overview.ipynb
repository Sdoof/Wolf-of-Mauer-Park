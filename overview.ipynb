{
 "cells": [
  {
   "cell_type": "code",
   "execution_count": 1,
   "metadata": {
    "collapsed": false
   },
   "outputs": [
    {
     "name": "stderr",
     "output_type": "stream",
     "text": [
      "2016-12-29 13:37:01,701 [INFO ]  new Simulator created\n",
      "2016-12-29 13:37:01,783 [INFO ]  Start creating the dataset for Open_Ask_EURRUB\n",
      "2016-12-29 13:37:01,976 [INFO ]  Finished creating the dataset for Open_Ask_EURRUB\n",
      "2016-12-29 13:37:02,489 [INFO ]  Start fitting the model Targets : Open_Ask_EURRUB : [2011-09-28 12:00:00-2011-09-28 12:30:00]         ticks_to_shift:[0, 1, 2, 3, 4, 5, 10, 20, 30, 40, 50] shift:3\n",
      "2016-12-29 13:37:02,642 [INFO ]  Start GridSearchCV...\n",
      "2016-12-29 13:39:16,874 [INFO ]  finished  fitting via GridSearchCV\n"
     ]
    },
    {
     "name": "stdout",
     "output_type": "stream",
     "text": [
      "BEST PARAMS {'reg_alpha': 0.2, 'colsample_bytree': 1, 'silent': False, 'colsample_bylevel': 1, 'scale_pos_weight': 1, 'learning_rate': 0.1, 'missing': None, 'max_delta_step': 0, 'nthread': -1, 'base_score': 0.5, 'n_estimators': 200, 'subsample': 1, 'reg_lambda': 1, 'seed': 0, 'min_child_weight': 1, 'objective': 'reg:linear', 'max_depth': 30, 'gamma': 0}\n"
     ]
    },
    {
     "name": "stderr",
     "output_type": "stream",
     "text": [
      "2016-12-29 13:39:17,417 [INFO ]  Simulator Targets : Open_Ask_EURRUB : [2011-09-28 12:00:00-2011-09-28 12:30:00]         ticks_to_shift:[0, 1, 2, 3, 4, 5, 10, 20, 30, 40, 50] shift:3 : R2= 0.452671193771\n",
      "2016-12-29 13:39:17,440 [INFO ]  new Simulator created\n",
      "2016-12-29 13:39:17,585 [INFO ]  Start creating the dataset for Open_Ask_EURRUB\n"
     ]
    },
    {
     "name": "stdout",
     "output_type": "stream",
     "text": [
      "   index  weight                    feature_name\n",
      "59   f11     776   Open_Ask_USDMXN_reg_shifted_4\n",
      "77   f65     157   Open_Ask_USDNOK_reg_shifted_0\n",
      "85   f74     139  Open_Ask_USDNOK_reg_shifted_30\n",
      "65    f1     117  Open_Ask_USDMXN_reg_shifted_50\n",
      "20   f20     116  Open_Ask_EURRUB_reg_shifted_40\n",
      "60   f16     115   Open_Ask_USDMXN_reg_shifted_5\n",
      "10   f57     115        Open_Ask_BRENTCMDUSD_reg\n",
      "87   f76     111  Open_Ask_USDNOK_reg_shifted_50\n",
      "37   f85     109   Open_Ask_USDCAD_reg_shifted_4\n",
      "86   f75     106  Open_Ask_USDNOK_reg_shifted_40\n"
     ]
    },
    {
     "name": "stderr",
     "output_type": "stream",
     "text": [
      "2016-12-29 13:39:17,826 [INFO ]  Finished creating the dataset for Open_Ask_EURRUB\n",
      "2016-12-29 13:39:18,449 [INFO ]  Start fitting the model Targets : Open_Ask_EURRUB : [2011-09-28 12:00:00-2011-09-28 12:30:00]         ticks_to_shift:[0, 1, 2, 3, 4, 5, 10, 20, 30, 40, 50] shift:4\n",
      "2016-12-29 13:39:18,610 [INFO ]  Start GridSearchCV...\n",
      "2016-12-29 13:40:44,750 [INFO ]  finished  fitting via GridSearchCV\n"
     ]
    },
    {
     "name": "stdout",
     "output_type": "stream",
     "text": [
      "BEST PARAMS {'reg_alpha': 0.2, 'colsample_bytree': 1, 'silent': False, 'colsample_bylevel': 1, 'scale_pos_weight': 1, 'learning_rate': 0.1, 'missing': None, 'max_delta_step': 0, 'nthread': -1, 'base_score': 0.5, 'n_estimators': 200, 'subsample': 1, 'reg_lambda': 1, 'seed': 0, 'min_child_weight': 1, 'objective': 'reg:linear', 'max_depth': 30, 'gamma': 0}\n"
     ]
    },
    {
     "name": "stderr",
     "output_type": "stream",
     "text": [
      "2016-12-29 13:40:45,153 [INFO ]  Simulator Targets : Open_Ask_EURRUB : [2011-09-28 12:00:00-2011-09-28 12:30:00]         ticks_to_shift:[0, 1, 2, 3, 4, 5, 10, 20, 30, 40, 50] shift:4 : R2= 0.435988309975\n",
      "2016-12-29 13:40:45,172 [INFO ]  new Simulator created\n",
      "2016-12-29 13:40:45,252 [INFO ]  Start creating the dataset for Open_Ask_EURRUB\n"
     ]
    },
    {
     "name": "stdout",
     "output_type": "stream",
     "text": [
      "   index  weight                    feature_name\n",
      "59   f11     778   Open_Ask_USDMXN_reg_shifted_4\n",
      "85   f74     145  Open_Ask_USDNOK_reg_shifted_30\n",
      "20   f20     133  Open_Ask_EURRUB_reg_shifted_40\n",
      "77   f65     131   Open_Ask_USDNOK_reg_shifted_0\n",
      "37   f85     125   Open_Ask_USDCAD_reg_shifted_4\n",
      "60   f16     125   Open_Ask_USDMXN_reg_shifted_5\n",
      "87   f76     116  Open_Ask_USDNOK_reg_shifted_50\n",
      "65    f1     108  Open_Ask_USDMXN_reg_shifted_50\n",
      "86   f75     108  Open_Ask_USDNOK_reg_shifted_40\n",
      "19   f21     104  Open_Ask_EURRUB_reg_shifted_30\n"
     ]
    },
    {
     "name": "stderr",
     "output_type": "stream",
     "text": [
      "2016-12-29 13:40:45,445 [INFO ]  Finished creating the dataset for Open_Ask_EURRUB\n",
      "2016-12-29 13:40:45,959 [INFO ]  Start fitting the model Targets : Open_Ask_EURRUB : [2011-09-28 12:00:00-2011-09-28 12:30:00]         ticks_to_shift:[0, 1, 2, 3, 4, 5, 10, 20, 30, 40, 50] shift:6\n",
      "2016-12-29 13:40:46,096 [INFO ]  Start GridSearchCV...\n",
      "2016-12-29 13:41:53,793 [INFO ]  finished  fitting via GridSearchCV\n"
     ]
    },
    {
     "name": "stdout",
     "output_type": "stream",
     "text": [
      "BEST PARAMS {'reg_alpha': 0.2, 'colsample_bytree': 1, 'silent': False, 'colsample_bylevel': 1, 'scale_pos_weight': 1, 'learning_rate': 0.1, 'missing': None, 'max_delta_step': 0, 'nthread': -1, 'base_score': 0.5, 'n_estimators': 200, 'subsample': 1, 'reg_lambda': 1, 'seed': 0, 'min_child_weight': 1, 'objective': 'reg:linear', 'max_depth': 30, 'gamma': 0}\n"
     ]
    },
    {
     "name": "stderr",
     "output_type": "stream",
     "text": [
      "2016-12-29 13:41:54,189 [INFO ]  Simulator Targets : Open_Ask_EURRUB : [2011-09-28 12:00:00-2011-09-28 12:30:00]         ticks_to_shift:[0, 1, 2, 3, 4, 5, 10, 20, 30, 40, 50] shift:6 : R2= 0.388690929764\n",
      "2016-12-29 13:41:54,208 [INFO ]  new Simulator created\n",
      "2016-12-29 13:41:54,291 [INFO ]  Start creating the dataset for Open_Ask_EURRUB\n"
     ]
    },
    {
     "name": "stdout",
     "output_type": "stream",
     "text": [
      "   index  weight                    feature_name\n",
      "59   f11     780   Open_Ask_USDMXN_reg_shifted_4\n",
      "77   f65     153   Open_Ask_USDNOK_reg_shifted_0\n",
      "20   f20     127  Open_Ask_EURRUB_reg_shifted_40\n",
      "87   f76     122  Open_Ask_USDNOK_reg_shifted_50\n",
      "86   f75     122  Open_Ask_USDNOK_reg_shifted_40\n",
      "85   f74     122  Open_Ask_USDNOK_reg_shifted_30\n",
      "19   f21     119  Open_Ask_EURRUB_reg_shifted_30\n",
      "10   f57     118        Open_Ask_BRENTCMDUSD_reg\n",
      "29   f32     113  Open_Ask_USDRUB_reg_shifted_20\n",
      "65    f1     113  Open_Ask_USDMXN_reg_shifted_50\n"
     ]
    },
    {
     "name": "stderr",
     "output_type": "stream",
     "text": [
      "2016-12-29 13:41:54,496 [INFO ]  Finished creating the dataset for Open_Ask_EURRUB\n",
      "2016-12-29 13:41:55,065 [INFO ]  Start fitting the model Targets : Open_Ask_EURRUB : [2011-09-28 12:00:00-2011-09-28 12:30:00]         ticks_to_shift:[0, 1, 2, 3, 4, 5, 10, 20, 30, 40, 50] shift:10\n",
      "2016-12-29 13:41:55,221 [INFO ]  Start GridSearchCV...\n",
      "2016-12-29 13:43:07,107 [INFO ]  finished  fitting via GridSearchCV\n"
     ]
    },
    {
     "name": "stdout",
     "output_type": "stream",
     "text": [
      "BEST PARAMS {'reg_alpha': 0.2, 'colsample_bytree': 1, 'silent': False, 'colsample_bylevel': 1, 'scale_pos_weight': 1, 'learning_rate': 0.1, 'missing': None, 'max_delta_step': 0, 'nthread': -1, 'base_score': 0.5, 'n_estimators': 200, 'subsample': 1, 'reg_lambda': 1, 'seed': 0, 'min_child_weight': 1, 'objective': 'reg:linear', 'max_depth': 30, 'gamma': 0}\n"
     ]
    },
    {
     "name": "stderr",
     "output_type": "stream",
     "text": [
      "2016-12-29 13:43:07,534 [INFO ]  Simulator Targets : Open_Ask_EURRUB : [2011-09-28 12:00:00-2011-09-28 12:30:00]         ticks_to_shift:[0, 1, 2, 3, 4, 5, 10, 20, 30, 40, 50] shift:10 : R2= 0.436272446193\n",
      "2016-12-29 13:43:07,553 [INFO ]  new Simulator created\n",
      "2016-12-29 13:43:07,658 [INFO ]  Start creating the dataset for Open_Ask_EURRUB\n"
     ]
    },
    {
     "name": "stdout",
     "output_type": "stream",
     "text": [
      "   index  weight                        feature_name\n",
      "59   f11     756       Open_Ask_USDMXN_reg_shifted_4\n",
      "85   f74     147      Open_Ask_USDNOK_reg_shifted_30\n",
      "77   f65     140       Open_Ask_USDNOK_reg_shifted_0\n",
      "65    f1     135      Open_Ask_USDMXN_reg_shifted_50\n",
      "20   f20     124      Open_Ask_EURRUB_reg_shifted_40\n",
      "86   f75     122      Open_Ask_USDNOK_reg_shifted_40\n",
      "10   f57     122            Open_Ask_BRENTCMDUSD_reg\n",
      "91   f73     105  Open_Ask_BRENTCMDUSD_reg_shifted_3\n",
      "87   f76     103      Open_Ask_USDNOK_reg_shifted_50\n",
      "37   f85     100       Open_Ask_USDCAD_reg_shifted_4\n"
     ]
    },
    {
     "name": "stderr",
     "output_type": "stream",
     "text": [
      "2016-12-29 13:43:07,942 [INFO ]  Finished creating the dataset for Open_Ask_EURRUB\n",
      "2016-12-29 13:43:08,628 [INFO ]  Start fitting the model Targets : Open_Ask_EURRUB : [2011-09-28 12:00:00-2011-09-28 12:30:00]         ticks_to_shift:[0, 1, 2, 3, 4, 5, 10, 20, 30, 40, 50] shift:20\n",
      "2016-12-29 13:43:08,781 [INFO ]  Start GridSearchCV...\n",
      "2016-12-29 13:44:18,611 [INFO ]  finished  fitting via GridSearchCV\n"
     ]
    },
    {
     "name": "stdout",
     "output_type": "stream",
     "text": [
      "BEST PARAMS {'reg_alpha': 0.2, 'colsample_bytree': 1, 'silent': False, 'colsample_bylevel': 1, 'scale_pos_weight': 1, 'learning_rate': 0.1, 'missing': None, 'max_delta_step': 0, 'nthread': -1, 'base_score': 0.5, 'n_estimators': 200, 'subsample': 1, 'reg_lambda': 1, 'seed': 0, 'min_child_weight': 1, 'objective': 'reg:linear', 'max_depth': 30, 'gamma': 0}\n"
     ]
    },
    {
     "name": "stderr",
     "output_type": "stream",
     "text": [
      "2016-12-29 13:44:19,013 [INFO ]  Simulator Targets : Open_Ask_EURRUB : [2011-09-28 12:00:00-2011-09-28 12:30:00]         ticks_to_shift:[0, 1, 2, 3, 4, 5, 10, 20, 30, 40, 50] shift:20 : R2= 0.509356547915\n",
      "2016-12-29 13:44:19,031 [INFO ]  new Simulator created\n",
      "2016-12-29 13:44:19,107 [INFO ]  Start creating the dataset for Open_Ask_EURRUB\n"
     ]
    },
    {
     "name": "stdout",
     "output_type": "stream",
     "text": [
      "   index  weight                        feature_name\n",
      "59   f11     683       Open_Ask_USDMXN_reg_shifted_4\n",
      "86   f76     109      Open_Ask_USDNOK_reg_shifted_40\n",
      "84   f74     109      Open_Ask_USDNOK_reg_shifted_20\n",
      "90   f73     105  Open_Ask_BRENTCMDUSD_reg_shifted_2\n",
      "19   f21     105      Open_Ask_EURRUB_reg_shifted_30\n",
      "76   f65     101      Open_Ask_EURNOK_reg_shifted_50\n",
      "85   f75     100      Open_Ask_USDNOK_reg_shifted_30\n",
      "39   f87      96      Open_Ask_USDCAD_reg_shifted_10\n",
      "10   f57      94            Open_Ask_BRENTCMDUSD_reg\n",
      "20   f20      94      Open_Ask_EURRUB_reg_shifted_40\n"
     ]
    },
    {
     "name": "stderr",
     "output_type": "stream",
     "text": [
      "2016-12-29 13:44:19,315 [INFO ]  Finished creating the dataset for Open_Ask_EURRUB\n",
      "2016-12-29 13:44:19,871 [INFO ]  Start fitting the model Targets : Open_Ask_EURRUB : [2011-09-28 12:00:00-2011-09-28 12:30:00]         ticks_to_shift:[0, 1, 2, 3, 4, 5, 10, 20, 30, 40, 50] shift:30\n",
      "2016-12-29 13:44:20,016 [INFO ]  Start GridSearchCV...\n",
      "2016-12-29 13:45:31,516 [INFO ]  finished  fitting via GridSearchCV\n"
     ]
    },
    {
     "name": "stdout",
     "output_type": "stream",
     "text": [
      "BEST PARAMS {'reg_alpha': 0.2, 'colsample_bytree': 1, 'silent': False, 'colsample_bylevel': 1, 'scale_pos_weight': 1, 'learning_rate': 0.1, 'missing': None, 'max_delta_step': 0, 'nthread': -1, 'base_score': 0.5, 'n_estimators': 200, 'subsample': 1, 'reg_lambda': 1, 'seed': 0, 'min_child_weight': 1, 'objective': 'reg:linear', 'max_depth': 30, 'gamma': 0}\n"
     ]
    },
    {
     "name": "stderr",
     "output_type": "stream",
     "text": [
      "2016-12-29 13:45:31,982 [INFO ]  Simulator Targets : Open_Ask_EURRUB : [2011-09-28 12:00:00-2011-09-28 12:30:00]         ticks_to_shift:[0, 1, 2, 3, 4, 5, 10, 20, 30, 40, 50] shift:30 : R2= 0.575668433489\n",
      "2016-12-29 13:45:32,003 [INFO ]  new Simulator created\n",
      "2016-12-29 13:45:32,081 [INFO ]  Start creating the dataset for Open_Ask_EURRUB\n"
     ]
    },
    {
     "name": "stdout",
     "output_type": "stream",
     "text": [
      "   index  weight                         feature_name\n",
      "59   f11     750        Open_Ask_USDMXN_reg_shifted_4\n",
      "19   f21     147       Open_Ask_EURRUB_reg_shifted_30\n",
      "85   f74     135       Open_Ask_USDNOK_reg_shifted_30\n",
      "90   f72     124   Open_Ask_BRENTCMDUSD_reg_shifted_2\n",
      "65    f1     117       Open_Ask_USDMXN_reg_shifted_50\n",
      "91   f73     115   Open_Ask_BRENTCMDUSD_reg_shifted_3\n",
      "77   f65     110        Open_Ask_USDNOK_reg_shifted_0\n",
      "87   f76     110       Open_Ask_USDNOK_reg_shifted_50\n",
      "53   f98     102  Open_Ask_LIGHTCMDUSD_reg_shifted_40\n",
      "60   f16     102        Open_Ask_USDMXN_reg_shifted_5\n"
     ]
    },
    {
     "name": "stderr",
     "output_type": "stream",
     "text": [
      "2016-12-29 13:45:32,326 [INFO ]  Finished creating the dataset for Open_Ask_EURRUB\n",
      "2016-12-29 13:45:32,898 [INFO ]  Start fitting the model Targets : Open_Ask_EURRUB : [2011-09-28 12:00:00-2011-09-28 12:30:00]         ticks_to_shift:[0, 1, 2, 3, 4, 5, 10, 20, 30, 40, 50] shift:40\n",
      "2016-12-29 13:45:33,058 [INFO ]  Start GridSearchCV...\n",
      "2016-12-29 13:46:44,280 [INFO ]  finished  fitting via GridSearchCV\n"
     ]
    },
    {
     "name": "stdout",
     "output_type": "stream",
     "text": [
      "BEST PARAMS {'reg_alpha': 0.2, 'colsample_bytree': 1, 'silent': False, 'colsample_bylevel': 1, 'scale_pos_weight': 1, 'learning_rate': 0.1, 'missing': None, 'max_delta_step': 0, 'nthread': -1, 'base_score': 0.5, 'n_estimators': 200, 'subsample': 1, 'reg_lambda': 1, 'seed': 0, 'min_child_weight': 1, 'objective': 'reg:linear', 'max_depth': 30, 'gamma': 0}\n"
     ]
    },
    {
     "name": "stderr",
     "output_type": "stream",
     "text": [
      "2016-12-29 13:46:44,678 [INFO ]  Simulator Targets : Open_Ask_EURRUB : [2011-09-28 12:00:00-2011-09-28 12:30:00]         ticks_to_shift:[0, 1, 2, 3, 4, 5, 10, 20, 30, 40, 50] shift:40 : R2= 0.62897698954\n",
      "2016-12-29 13:46:44,694 [INFO ]  new Simulator created\n",
      "2016-12-29 13:46:44,763 [INFO ]  Start creating the dataset for Open_Ask_EURRUB\n"
     ]
    },
    {
     "name": "stdout",
     "output_type": "stream",
     "text": [
      "   index  weight                         feature_name\n",
      "59   f11     693        Open_Ask_USDMXN_reg_shifted_4\n",
      "19   f21     121       Open_Ask_EURRUB_reg_shifted_30\n",
      "77   f65     117        Open_Ask_USDNOK_reg_shifted_0\n",
      "87   f76     114       Open_Ask_USDNOK_reg_shifted_50\n",
      "90   f72     113   Open_Ask_BRENTCMDUSD_reg_shifted_2\n",
      "55   f19     106        Open_Ask_USDMXN_reg_shifted_0\n",
      "85   f74     104       Open_Ask_USDNOK_reg_shifted_30\n",
      "86   f75     100       Open_Ask_USDNOK_reg_shifted_40\n",
      "54   f18      98  Open_Ask_LIGHTCMDUSD_reg_shifted_50\n",
      "91   f73      97   Open_Ask_BRENTCMDUSD_reg_shifted_3\n"
     ]
    },
    {
     "name": "stderr",
     "output_type": "stream",
     "text": [
      "2016-12-29 13:46:44,970 [INFO ]  Finished creating the dataset for Open_Ask_EURRUB\n",
      "2016-12-29 13:46:45,527 [INFO ]  Start fitting the model Targets : Open_Ask_EURRUB : [2011-09-28 12:00:00-2011-09-28 12:30:00]         ticks_to_shift:[0, 1, 2, 3, 4, 5, 10, 20, 30, 40, 50] shift:50\n",
      "2016-12-29 13:46:45,665 [INFO ]  Start GridSearchCV...\n",
      "2016-12-29 13:47:58,798 [INFO ]  finished  fitting via GridSearchCV\n"
     ]
    },
    {
     "name": "stdout",
     "output_type": "stream",
     "text": [
      "BEST PARAMS {'reg_alpha': 0.2, 'colsample_bytree': 1, 'silent': False, 'colsample_bylevel': 1, 'scale_pos_weight': 1, 'learning_rate': 0.1, 'missing': None, 'max_delta_step': 0, 'nthread': -1, 'base_score': 0.5, 'n_estimators': 200, 'subsample': 1, 'reg_lambda': 1, 'seed': 0, 'min_child_weight': 1, 'objective': 'reg:linear', 'max_depth': 30, 'gamma': 0}\n"
     ]
    },
    {
     "name": "stderr",
     "output_type": "stream",
     "text": [
      "2016-12-29 13:47:59,264 [INFO ]  Simulator Targets : Open_Ask_EURRUB : [2011-09-28 12:00:00-2011-09-28 12:30:00]         ticks_to_shift:[0, 1, 2, 3, 4, 5, 10, 20, 30, 40, 50] shift:50 : R2= 0.685103076888\n"
     ]
    },
    {
     "name": "stdout",
     "output_type": "stream",
     "text": [
      "   index  weight                        feature_name\n",
      "59   f11     699       Open_Ask_USDMXN_reg_shifted_4\n",
      "85   f74     124      Open_Ask_USDNOK_reg_shifted_30\n",
      "87   f76     115      Open_Ask_USDNOK_reg_shifted_50\n",
      "86   f75     112      Open_Ask_USDNOK_reg_shifted_40\n",
      "19   f21     111      Open_Ask_EURRUB_reg_shifted_30\n",
      "10   f57      97            Open_Ask_BRENTCMDUSD_reg\n",
      "77   f65      97       Open_Ask_USDNOK_reg_shifted_0\n",
      "37   f85      93       Open_Ask_USDCAD_reg_shifted_4\n",
      "90   f72      93  Open_Ask_BRENTCMDUSD_reg_shifted_2\n",
      "79   f63      93       Open_Ask_USDNOK_reg_shifted_2\n"
     ]
    }
   ],
   "source": [
    "%matplotlib inline \n",
    "%load_ext autoreload\n",
    "%autoreload 2\n",
    "import os\n",
    "import pandas as pd\n",
    "import logging\n",
    "from model.models import Simulator\n",
    "import service.regressor as regressor\n",
    "import pickle\n",
    "\n",
    "import service.files_service as fs\n",
    "import csv\n",
    "import datetime\n",
    "\n",
    "\n",
    "cols =['Open_Ask_EURRUB', 'Open_Ask_USDRUB', 'Open_Ask_USDCAD', 'Open_Ask_LIGHTCMDUSD', 'Open_Ask_USDMXN', 'Open_Ask_EURNOK', 'Open_Ask_USDNOK', 'Open_Ask_BRENTCMDUSD']\n",
    "\n",
    "def compute(targets):\n",
    "    for target in targets:\n",
    "        for shift in [3,4,6,10,20,30,40,50]:\n",
    "            simulator = Simulator(dt_from='2011-09-28 12:00', dt_to='2011-09-28 12:30', target=target, shift=shift,fit_model=True,\n",
    "                         datasource_path='data/merged_no_spread_ultralight.csv',ticks_to_shift=[0,1,2,3,4,5,10,20,30,40,50])\n",
    "            regressor.dataset(simulator)\n",
    "            regressor.fit(simulator)\n",
    "            regressor.predict(simulator)\n",
    "            print simulator.features_weight[:10]\n",
    "\n",
    "\n",
    "compute(['Open_Ask_EURRUB'])\n",
    "# , u'Open_Ask_USDRUB',\n",
    "#        u'Open_Ask_USDCAD', u'Open_Ask_LIGHTCMDUSD', u'Open_Ask_USDMXN',\n",
    "#        u'Open_Ask_EURNOK', u'Open_Ask_USDNOK', u'Open_Ask_BRENTCMDUSD'])"
   ]
  }
 ],
 "metadata": {
  "anaconda-cloud": {},
  "kernelspec": {
   "display_name": "Python [default]",
   "language": "python",
   "name": "python2"
  },
  "language_info": {
   "codemirror_mode": {
    "name": "ipython",
    "version": 2
   },
   "file_extension": ".py",
   "mimetype": "text/x-python",
   "name": "python",
   "nbconvert_exporter": "python",
   "pygments_lexer": "ipython2",
   "version": "2.7.12"
  }
 },
 "nbformat": 4,
 "nbformat_minor": 1
}
