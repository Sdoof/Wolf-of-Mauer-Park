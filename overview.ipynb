{
 "cells": [
  {
   "cell_type": "code",
   "execution_count": 1,
   "metadata": {
    "collapsed": false
   },
   "outputs": [],
   "source": [
    "%matplotlib inline \n",
    "%load_ext autoreload\n",
    "%autoreload 2\n",
    "import os\n",
    "import pandas as pd\n",
    "import logging\n",
    "from model.models import Simulator\n",
    "import service.predictions as predictions\n",
    "import pickle\n",
    "import service.files_service as fs\n",
    "import csv"
   ]
  },
  {
   "cell_type": "code",
   "execution_count": 2,
   "metadata": {
    "collapsed": true
   },
   "outputs": [],
   "source": [
    "df = pd.read_csv('/drive_ext4/merged_no_spread.csv',sep=';')\n"
   ]
  },
  {
   "cell_type": "code",
   "execution_count": 3,
   "metadata": {
    "collapsed": false
   },
   "outputs": [
    {
     "data": {
      "text/plain": [
       "(2735537, 172)"
      ]
     },
     "execution_count": 3,
     "metadata": {},
     "output_type": "execute_result"
    }
   ],
   "source": [
    "df.shape"
   ]
  },
  {
   "cell_type": "code",
   "execution_count": 4,
   "metadata": {
    "collapsed": false
   },
   "outputs": [
    {
     "name": "stderr",
     "output_type": "stream",
     "text": [
      "2016-12-21 21:28:15,902 [INFO ]  new Simulator created\n"
     ]
    }
   ],
   "source": [
    "simulator = Simulator(dt_from='2016-01-12 10:00', dt_to='2016-01-12 10:10', targets=['Open_Ask_USDMXN'], shift=3, fit_model=False)"
   ]
  },
  {
   "cell_type": "code",
   "execution_count": 5,
   "metadata": {
    "collapsed": false
   },
   "outputs": [
    {
     "name": "stderr",
     "output_type": "stream",
     "text": [
      "2016-12-21 21:28:15,921 [INFO ]  start reading the source data..\n",
      "2016-12-21 21:28:19,836 [INFO ]  source  file read, size of dataframe : (100000, 250)\n",
      "2016-12-21 21:28:19,838 [INFO ]  compute prediction for Open_Ask_USDMXN : {'to': datetime.datetime(2016, 1, 12, 10, 10), 'from': datetime.datetime(2016, 1, 12, 10, 0)}\n",
      "2016-12-21 21:28:19,838 [INFO ]  starting creating dataset...\n",
      "2016-12-21 21:28:20,051 [INFO ]  finished preparing dataset\n"
     ]
    },
    {
     "name": "stdout",
     "output_type": "stream",
     "text": [
      "Open_Ask_USDMXN\n",
      "cal_time\n",
      "cal_hour\n",
      "cal_minute\n",
      "cal_dayofweek\n",
      "cal_dayofyear\n",
      "Unnamed: 0_reg\n",
      "Open_Ask_EURRUB_reg\n",
      "High_Ask_EURRUB_reg\n",
      "Low_Ask_EURRUB_reg\n",
      "Close_Ask_EURRUB_reg\n",
      "Volume_Ask_EURRUB_reg\n",
      "Open_Bid_EURRUB_reg\n",
      "High_Bid_EURRUB_reg\n",
      "Low_Bid_EURRUB_reg\n",
      "Close_Bid_EURRUB_reg\n",
      "Volume_Bid_EURRUB_reg\n",
      "Open_spread_EURRUB_reg\n",
      "Low_spread_EURRUB_reg\n",
      "High_spread_EURRUB_reg\n",
      "Close_spread_EURRUB_reg\n",
      "Volume_spread_EURRUB_reg\n",
      "Open_Ask_USDRUB_reg\n",
      "High_Ask_USDRUB_reg\n",
      "Low_Ask_USDRUB_reg\n",
      "Close_Ask_USDRUB_reg\n",
      "Volume_Ask_USDRUB_reg\n",
      "Open_Bid_USDRUB_reg\n",
      "High_Bid_USDRUB_reg\n",
      "Low_Bid_USDRUB_reg\n",
      "Close_Bid_USDRUB_reg\n",
      "Volume_Bid_USDRUB_reg\n",
      "Open_spread_USDRUB_reg\n",
      "Low_spread_USDRUB_reg\n",
      "High_spread_USDRUB_reg\n",
      "Close_spread_USDRUB_reg\n",
      "Volume_spread_USDRUB_reg\n",
      "Open_Ask_USDCAD_reg\n",
      "High_Ask_USDCAD_reg\n",
      "Low_Ask_USDCAD_reg\n",
      "Close_Ask_USDCAD_reg\n",
      "Volume_Ask_USDCAD_reg\n",
      "Open_Bid_USDCAD_reg\n",
      "High_Bid_USDCAD_reg\n",
      "Low_Bid_USDCAD_reg\n",
      "Close_Bid_USDCAD_reg\n",
      "Volume_Bid_USDCAD_reg\n",
      "Open_spread_USDCAD_reg\n",
      "Low_spread_USDCAD_reg\n",
      "High_spread_USDCAD_reg\n",
      "Close_spread_USDCAD_reg\n",
      "Volume_spread_USDCAD_reg\n",
      "Open_Ask_LIGHTCMDUSD_reg\n",
      "High_Ask_LIGHTCMDUSD_reg\n",
      "Low_Ask_LIGHTCMDUSD_reg\n",
      "Close_Ask_LIGHTCMDUSD_reg\n",
      "Volume_Ask_LIGHTCMDUSD_reg\n",
      "Open_Bid_LIGHTCMDUSD_reg\n",
      "High_Bid_LIGHTCMDUSD_reg\n",
      "Low_Bid_LIGHTCMDUSD_reg\n",
      "Close_Bid_LIGHTCMDUSD_reg\n",
      "Volume_Bid_LIGHTCMDUSD_reg\n",
      "Open_spread_LIGHTCMDUSD_reg\n",
      "Low_spread_LIGHTCMDUSD_reg\n",
      "High_spread_LIGHTCMDUSD_reg\n",
      "Close_spread_LIGHTCMDUSD_reg\n",
      "Volume_spread_LIGHTCMDUSD_reg\n",
      "High_Ask_USDMXN_reg\n",
      "Low_Ask_USDMXN_reg\n",
      "Close_Ask_USDMXN_reg\n",
      "Volume_Ask_USDMXN_reg\n",
      "Open_Bid_USDMXN_reg\n",
      "High_Bid_USDMXN_reg\n",
      "Low_Bid_USDMXN_reg\n",
      "Close_Bid_USDMXN_reg\n",
      "Volume_Bid_USDMXN_reg\n",
      "Open_spread_USDMXN_reg\n",
      "Low_spread_USDMXN_reg\n",
      "High_spread_USDMXN_reg\n",
      "Close_spread_USDMXN_reg\n",
      "Volume_spread_USDMXN_reg\n",
      "Open_Ask_EURNOK_reg\n",
      "High_Ask_EURNOK_reg\n",
      "Low_Ask_EURNOK_reg\n",
      "Close_Ask_EURNOK_reg\n",
      "Volume_Ask_EURNOK_reg\n",
      "Open_Bid_EURNOK_reg\n",
      "High_Bid_EURNOK_reg\n",
      "Low_Bid_EURNOK_reg\n",
      "Close_Bid_EURNOK_reg\n",
      "Volume_Bid_EURNOK_reg\n",
      "Open_spread_EURNOK_reg\n",
      "Low_spread_EURNOK_reg\n",
      "High_spread_EURNOK_reg\n",
      "Close_spread_EURNOK_reg\n",
      "Volume_spread_EURNOK_reg\n",
      "Open_Ask_USDNOK_reg\n",
      "High_Ask_USDNOK_reg\n",
      "Low_Ask_USDNOK_reg\n",
      "Close_Ask_USDNOK_reg\n",
      "Volume_Ask_USDNOK_reg\n",
      "Open_Bid_USDNOK_reg\n",
      "High_Bid_USDNOK_reg\n",
      "Low_Bid_USDNOK_reg\n",
      "Close_Bid_USDNOK_reg\n",
      "Volume_Bid_USDNOK_reg\n",
      "Open_spread_USDNOK_reg\n",
      "Low_spread_USDNOK_reg\n",
      "High_spread_USDNOK_reg\n",
      "Close_spread_USDNOK_reg\n",
      "Volume_spread_USDNOK_reg\n",
      "Open_Ask_BRENTCMDUSD_reg\n",
      "High_Ask_BRENTCMDUSD_reg\n",
      "Low_Ask_BRENTCMDUSD_reg\n",
      "Close_Ask_BRENTCMDUSD_reg\n",
      "Volume_Ask_BRENTCMDUSD_reg\n",
      "Open_Bid_BRENTCMDUSD_reg\n",
      "High_Bid_BRENTCMDUSD_reg\n",
      "Low_Bid_BRENTCMDUSD_reg\n",
      "Close_Bid_BRENTCMDUSD_reg\n",
      "Volume_Bid_BRENTCMDUSD_reg\n",
      "Open_spread_BRENTCMDUSD_reg\n",
      "Low_spread_BRENTCMDUSD_reg\n",
      "High_spread_BRENTCMDUSD_reg\n",
      "Close_spread_BRENTCMDUSD_reg\n",
      "Volume_spread_BRENTCMDUSD_reg\n"
     ]
    },
    {
     "name": "stderr",
     "output_type": "stream",
     "text": [
      "2016-12-21 21:28:20,343 [INFO ]  Finished compute predictions\n",
      "2016-12-21 21:28:20,348 [INFO ]  FINISHED\n"
     ]
    }
   ],
   "source": [
    "predictions.compute_and_pickle(simulator=simulator, dataset_path='/drive_ext4/merge_light_first_rows.csv')\n"
   ]
  },
  {
   "cell_type": "code",
   "execution_count": 10,
   "metadata": {
    "collapsed": false
   },
   "outputs": [
    {
     "data": {
      "text/html": [
       "<div>\n",
       "<table border=\"1\" class=\"dataframe\">\n",
       "  <thead>\n",
       "    <tr style=\"text-align: right;\">\n",
       "      <th></th>\n",
       "      <th>observed</th>\n",
       "      <th>predicted</th>\n",
       "    </tr>\n",
       "  </thead>\n",
       "  <tbody>\n",
       "  </tbody>\n",
       "</table>\n",
       "</div>"
      ],
      "text/plain": [
       "Empty DataFrame\n",
       "Columns: [observed, predicted]\n",
       "Index: []"
      ]
     },
     "execution_count": 10,
     "metadata": {},
     "output_type": "execute_result"
    }
   ],
   "source": [
    "simulator.predictions[0].df.head()"
   ]
  }
 ],
 "metadata": {
  "anaconda-cloud": {},
  "kernelspec": {
   "display_name": "Python [default]",
   "language": "python",
   "name": "python2"
  },
  "language_info": {
   "codemirror_mode": {
    "name": "ipython",
    "version": 2
   },
   "file_extension": ".py",
   "mimetype": "text/x-python",
   "name": "python",
   "nbconvert_exporter": "python",
   "pygments_lexer": "ipython2",
   "version": "2.7.12"
  }
 },
 "nbformat": 4,
 "nbformat_minor": 1
}
