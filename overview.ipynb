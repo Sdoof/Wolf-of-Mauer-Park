{
 "cells": [
  {
   "cell_type": "code",
   "execution_count": 1,
   "metadata": {
    "collapsed": false
   },
   "outputs": [],
   "source": [
    "%matplotlib inline \n",
    "%load_ext autoreload\n",
    "%autoreload 2\n",
    "import os\n",
    "import pandas as pd\n",
    "import logging\n",
    "from model.models import Simulator\n",
    "import service.predictions as predictions\n",
    "import pickle\n",
    "import service.files_service as fs\n",
    "import csv"
   ]
  },
  {
   "cell_type": "code",
   "execution_count": null,
   "metadata": {
    "collapsed": false
   },
   "outputs": [
    {
     "name": "stderr",
     "output_type": "stream",
     "text": [
      "2016-12-21 19:21:13,599 [INFO ]  new Simulator created\n"
     ]
    }
   ],
   "source": [
    "simulator = Simulator(dt_from='2016-01-12 10:00', dt_to='2016-01-12 10:30', targets=['USDMXN'], shift=3, fit_model=True)"
   ]
  },
  {
   "cell_type": "code",
   "execution_count": null,
   "metadata": {
    "collapsed": false
   },
   "outputs": [
    {
     "name": "stderr",
     "output_type": "stream",
     "text": [
      "2016-12-21 19:21:13,618 [INFO ]  start reading the source data..\n"
     ]
    }
   ],
   "source": [
    "predictions.compute_and_pickle(simulator=simulator, dataset_path='/drive_ext4/merged_light.csv')"
   ]
  },
  {
   "cell_type": "code",
   "execution_count": null,
   "metadata": {
    "collapsed": true
   },
   "outputs": [],
   "source": []
  },
  {
   "cell_type": "code",
   "execution_count": null,
   "metadata": {
    "collapsed": true
   },
   "outputs": [],
   "source": [
    "def remove_avg(file_path):\n",
    "    chunk=pd.read_csv('/drive_ext4/ask_bid/transformed/merged/merged.csv', chunksize=1000000,sep=';')\n",
    "   \n",
    "    df_light = pd.DataFrame()\n",
    "    \n",
    "    for i,c in enumerate(chunk):\n",
    "        cols = c.columns.tolist()\n",
    "        cols_filtered = [col for col in cols if not ('_rolling'  in col or '_ewma'  in col)]\n",
    "        print i\n",
    "        c = c[cols_filtered]\n",
    "        df_light = pd.concat([df_light,c],axis=0)\n",
    "    return df_light\n",
    "    \n",
    "    "
   ]
  },
  {
   "cell_type": "code",
   "execution_count": null,
   "metadata": {
    "collapsed": false
   },
   "outputs": [],
   "source": [
    "df_light_merged= remove_avg('/drive_ext4/ask_bid/transformed/merged/merged.csv')"
   ]
  },
  {
   "cell_type": "code",
   "execution_count": null,
   "metadata": {
    "collapsed": false
   },
   "outputs": [],
   "source": [
    "df_light_merged.to_csv('/drive_ext4/ask_bid/transformed/merged/merged_light.csv',sep=';')"
   ]
  },
  {
   "cell_type": "code",
   "execution_count": null,
   "metadata": {
    "collapsed": false
   },
   "outputs": [],
   "source": [
    "cols = df.columns.tolist()\n",
    "\n",
    "cols_filtered = [col for col in cols if not ('_rolling'  in col or '_ewma'  in col)]"
   ]
  },
  {
   "cell_type": "code",
   "execution_count": null,
   "metadata": {
    "collapsed": false
   },
   "outputs": [],
   "source": [
    "cols_filtered"
   ]
  },
  {
   "cell_type": "code",
   "execution_count": null,
   "metadata": {
    "collapsed": true
   },
   "outputs": [],
   "source": [
    "df_t.head()"
   ]
  },
  {
   "cell_type": "code",
   "execution_count": null,
   "metadata": {
    "collapsed": false
   },
   "outputs": [],
   "source": [
    "simulator = Simulator(dt_from='2016-12-01 8:00',dt_to='2016-12-01 20:00',targets=['Close_Ask_EURRUB'],steps=60,\n",
    "                       shift=3, fit_model=False)"
   ]
  },
  {
   "cell_type": "code",
   "execution_count": null,
   "metadata": {
    "collapsed": false
   },
   "outputs": [],
   "source": [
    "predictions.compute_and_pickle(simulator,dataset_path='data/brent_wti/ask_bid/transformed/EURRUB/merged/merged.csv')"
   ]
  },
  {
   "cell_type": "code",
   "execution_count": null,
   "metadata": {
    "collapsed": false
   },
   "outputs": [],
   "source": [
    "predictions.plot_predictions(simulator)"
   ]
  }
 ],
 "metadata": {
  "anaconda-cloud": {},
  "kernelspec": {
   "display_name": "Python [default]",
   "language": "python",
   "name": "python2"
  },
  "language_info": {
   "codemirror_mode": {
    "name": "ipython",
    "version": 2
   },
   "file_extension": ".py",
   "mimetype": "text/x-python",
   "name": "python",
   "nbconvert_exporter": "python",
   "pygments_lexer": "ipython2",
   "version": "2.7.12"
  }
 },
 "nbformat": 4,
 "nbformat_minor": 1
}
