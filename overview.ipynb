{
 "cells": [
  {
   "cell_type": "code",
   "execution_count": 1,
   "metadata": {
    "collapsed": false
   },
   "outputs": [],
   "source": [
    "%matplotlib inline \n",
    "%load_ext autoreload\n",
    "%autoreload 2\n",
    "import os\n",
    "import pandas as pd\n",
    "import logging\n",
    "from model.models import Simulator\n",
    "import service.regressor as regressor\n",
    "import pickle\n",
    "import seaborn as sns\n",
    "\n",
    "\n",
    "import service.files_service as fs\n",
    "import csv\n",
    "import datetime"
   ]
  },
  {
   "cell_type": "code",
   "execution_count": 2,
   "metadata": {
    "collapsed": false
   },
   "outputs": [
    {
     "name": "stderr",
     "output_type": "stream",
     "text": [
      "2016-12-30 12:05:30,509 [INFO ]  new Simulator created\n"
     ]
    }
   ],
   "source": [
    "datasource_path = 'data/merged_no_spread_light.csv'\n",
    "simulator = Simulator(dt_from='2016-10-24 12:00', dt_to='2016-12-1 12:30', target='Open_Ask_USDCAD', shift=3, fit_model=True,\n",
    "                                  datasource_path=datasource_path, clf='classifier', ticks_to_shift=[0, 1, 2, 3, 4, 5, 10, 20, 30, 40, 50], verbose=True)"
   ]
  },
  {
   "cell_type": "code",
   "execution_count": 3,
   "metadata": {
    "collapsed": false
   },
   "outputs": [
    {
     "name": "stderr",
     "output_type": "stream",
     "text": [
      "2016-12-30 12:05:39,084 [INFO ]  Start creating the dataset for Open_Ask_USDCAD\n",
      "2016-12-30 12:05:39,086 [INFO ]  Add previous ticks...\n",
      "2016-12-30 12:05:39,088 [INFO ]  Columns with shifted ticks : \n",
      "2016-12-30 12:05:39,090 [INFO ]  ['Open_Ask_USDCAD_reg', 'High_Ask_USDCAD_reg', 'Low_Ask_USDCAD_reg', 'Close_Ask_USDCAD_reg', 'Volume_Ask_USDCAD_reg', 'Open_Bid_USDCAD_reg', 'High_Bid_USDCAD_reg', 'Low_Bid_USDCAD_reg', 'Close_Bid_USDCAD_reg', 'Volume_Bid_USDCAD_reg', 'Open_Ask_EURRUB_reg', 'Open_Ask_USDRUB_reg', 'Open_Ask_USDCAD_reg', 'Open_Ask_LIGHTCMDUSD_reg', 'Open_Ask_USDMXN_reg', 'Open_Ask_EURNOK_reg', 'Open_Ask_USDNOK_reg', 'Open_Ask_BRENTCMDUSD_reg']\n",
      "2016-12-30 12:06:20,987 [INFO ]  Clean features...\n",
      "2016-12-30 12:06:20,989 [INFO ]  Features to be used as predictors :\n",
      "2016-12-30 12:06:20,990 [INFO ]  set(['Open_Ask_EURRUB_reg_shifted_10', 'High_Bid_USDCAD_reg_shifted_30', 'Open_Bid_USDCAD_reg_shifted_3', 'Open_Ask_USDNOK_reg_shifted_50', 'Open_Ask_USDMXN_reg_shifted_10', 'High_Ask_USDCAD_reg_shifted_30', 'Low_Bid_USDCAD_reg_shifted_10', 'Close_Bid_USDCAD_reg_shifted_3', 'Close_Bid_USDCAD_reg_shifted_2', 'Close_Bid_USDCAD_reg_shifted_5', 'Close_Bid_USDCAD_reg_shifted_4', 'Open_Ask_USDCAD_reg_shifted_30', 'Open_Bid_USDCAD_reg_shifted_0', 'Open_Ask_USDCAD_reg_shifted_0', 'Open_Ask_USDCAD_reg_shifted_1', 'Open_Ask_USDCAD_reg_shifted_2', 'Open_Ask_USDCAD_reg_shifted_3', 'Open_Ask_USDCAD_reg_shifted_4', 'Open_Ask_USDCAD_reg_shifted_5', 'Open_Ask_EURRUB_reg_shifted_30', 'Close_Bid_USDCAD_reg_shifted_20', 'Open_Ask_EURNOK_reg', 'Open_Ask_USDRUB_reg_shifted_10', 'High_Bid_USDCAD_reg_shifted_20', 'Open_Bid_USDCAD_reg_shifted_1', 'Open_Ask_USDNOK_reg_shifted_1', 'Open_Ask_BRENTCMDUSD_reg_shifted_20', 'Open_Ask_USDCAD_reg_shifted_50', 'High_Ask_USDCAD_reg_shifted_20', 'Open_Ask_EURNOK_reg_shifted_30', 'High_Bid_USDCAD_reg_shifted_2', 'Open_Ask_USDCAD_reg_shifted_20', 'Volume_Bid_USDCAD_reg_shifted_20', 'Volume_Ask_USDCAD_reg_shifted_5', 'Open_Ask_EURRUB_reg', 'Low_Ask_USDCAD_reg_shifted_50', 'Low_Ask_USDCAD_reg_shifted_10', 'Close_Bid_USDCAD_reg_shifted_1', 'Low_Bid_USDCAD_reg_shifted_30', 'Volume_Bid_USDCAD_reg_shifted_2', 'High_Bid_USDCAD_reg_shifted_10', 'Open_Ask_USDNOK_reg', 'Volume_Bid_USDCAD_reg_shifted_3', 'High_Ask_USDCAD_reg_shifted_5', 'Open_Bid_USDCAD_reg_shifted_4', 'Open_Bid_USDCAD_reg_shifted_5', 'High_Ask_USDCAD_reg_shifted_0', 'High_Ask_USDCAD_reg_shifted_1', 'High_Ask_USDCAD_reg_shifted_2', 'High_Ask_USDCAD_reg_shifted_3', 'Open_Bid_USDCAD_reg_shifted_10', 'High_Ask_USDCAD_reg_shifted_50', 'Close_Bid_USDCAD_reg_shifted_0', 'Open_Ask_USDCAD_reg_shifted_40', 'Open_Ask_BRENTCMDUSD_reg_shifted_30', 'Open_Ask_EURNOK_reg_shifted_20', 'Close_Ask_USDCAD_reg_shifted_20', 'Open_Ask_USDCAD_reg_shifted_10', 'Open_Ask_BRENTCMDUSD_reg_shifted_40', 'Close_Bid_USDCAD_reg_shifted_50', 'Close_Ask_USDCAD_reg_shifted_10', 'Open_Ask_LIGHTCMDUSD_reg_shifted_50', 'Volume_Ask_USDCAD_reg_shifted_50', 'Open_Ask_USDMXN_reg_shifted_40', 'Open_Bid_USDCAD_reg_shifted_2', 'Low_Bid_USDCAD_reg_shifted_20', 'High_Ask_USDCAD_reg_shifted_40', 'Open_Ask_EURNOK_reg_shifted_50', 'Open_Ask_EURRUB_reg_shifted_40', 'Open_Ask_BRENTCMDUSD_reg_shifted_50', 'Close_Bid_USDCAD_reg_shifted_40', 'High_Bid_USDCAD_reg_shifted_3', 'Volume_Ask_USDCAD_reg_shifted_40', 'Open_Ask_LIGHTCMDUSD_reg_shifted_40', 'Low_Bid_USDCAD_reg_shifted_50', 'Open_Ask_USDNOK_reg_shifted_4', 'Open_Ask_USDNOK_reg_shifted_5', 'Volume_Bid_USDCAD_reg_shifted_30', 'Open_Ask_LIGHTCMDUSD_reg_shifted_30', 'Open_Ask_USDNOK_reg_shifted_0', 'cal_minute', 'Open_Ask_USDNOK_reg_shifted_2', 'Open_Ask_USDNOK_reg_shifted_3', 'Volume_Ask_USDCAD_reg_shifted_4', 'Open_Ask_EURNOK_reg_shifted_40', 'High_Bid_USDCAD_reg_shifted_0', 'High_Bid_USDCAD_reg_shifted_1', 'Volume_Ask_USDCAD_reg_shifted_0', 'Volume_Ask_USDCAD_reg_shifted_1', 'Volume_Ask_USDCAD_reg_shifted_2', 'Volume_Ask_USDCAD_reg_shifted_3', 'Volume_Bid_USDCAD_reg_shifted_10', 'cal_dayofyear', 'Open_Ask_EURRUB_reg_shifted_50', 'Open_Ask_USDRUB_reg_shifted_40', 'Open_Ask_USDNOK_reg_shifted_10', 'Open_Ask_USDMXN_reg_shifted_50', 'High_Bid_USDCAD_reg_shifted_4', 'Close_Bid_USDCAD_reg_shifted_30', 'Close_Ask_USDCAD_reg_shifted_30', 'Open_Ask_LIGHTCMDUSD_reg_shifted_1', 'Open_Ask_LIGHTCMDUSD_reg_shifted_0', 'Open_Ask_LIGHTCMDUSD_reg_shifted_3', 'Open_Ask_LIGHTCMDUSD_reg_shifted_2', 'Open_Ask_LIGHTCMDUSD_reg_shifted_5', 'Open_Ask_LIGHTCMDUSD_reg_shifted_4', 'High_Ask_USDCAD_reg_shifted_4', 'cal_dayofweek', 'Open_Bid_USDCAD_reg_shifted_30', 'Open_Ask_EURRUB_reg_shifted_5', 'Open_Ask_EURRUB_reg_shifted_4', 'Open_Ask_EURRUB_reg_shifted_3', 'Open_Ask_EURRUB_reg_shifted_2', 'Open_Ask_EURRUB_reg_shifted_1', 'Open_Ask_EURRUB_reg_shifted_0', 'High_Bid_USDCAD_reg_shifted_5', 'Low_Bid_USDCAD_reg_shifted_40', 'Open_Ask_EURNOK_reg_shifted_4', 'Open_Ask_EURNOK_reg_shifted_5', 'Volume_Ask_USDCAD_reg_shifted_20', 'Open_Ask_EURNOK_reg_shifted_0', 'Open_Ask_EURNOK_reg_shifted_1', 'Open_Ask_EURRUB_reg_shifted_20', 'Open_Ask_EURNOK_reg_shifted_3', 'Volume_Ask_USDCAD_reg_shifted_10', 'Open_Ask_USDMXN_reg_shifted_20', 'Open_Ask_USDRUB_reg_shifted_50', 'Volume_Ask_USDCAD_reg_shifted_30', 'Open_Ask_USDMXN_reg_shifted_3', 'Open_Ask_USDMXN_reg_shifted_2', 'Open_Ask_USDMXN_reg_shifted_1', 'Open_Ask_USDMXN_reg_shifted_0', 'Open_Ask_USDMXN_reg_shifted_5', 'Open_Ask_USDMXN_reg_shifted_4', 'Open_Bid_USDCAD_reg_shifted_50', 'Low_Ask_USDCAD_reg_shifted_4', 'Open_Ask_USDMXN_reg', 'Close_Ask_USDCAD_reg_shifted_2', 'cal_hour', 'Close_Ask_USDCAD_reg_shifted_50', 'Open_Ask_LIGHTCMDUSD_reg_shifted_10', 'Open_Ask_USDRUB_reg_shifted_20', 'Volume_Bid_USDCAD_reg_shifted_50', 'Close_Ask_USDCAD_reg_shifted_5', 'Close_Ask_USDCAD_reg_shifted_4', 'Close_Ask_USDCAD_reg_shifted_3', 'Low_Ask_USDCAD_reg_shifted_30', 'Close_Ask_USDCAD_reg_shifted_1', 'Close_Ask_USDCAD_reg_shifted_0', 'Open_Ask_USDNOK_reg_shifted_30', 'Open_Ask_USDMXN_reg_shifted_30', 'High_Ask_USDCAD_reg_shifted_10', 'Low_Ask_USDCAD_reg_shifted_40', 'Low_Bid_USDCAD_reg_shifted_0', 'Low_Bid_USDCAD_reg_shifted_3', 'Low_Bid_USDCAD_reg_shifted_2', 'Low_Bid_USDCAD_reg_shifted_5', 'Low_Bid_USDCAD_reg_shifted_4', 'Open_Ask_USDRUB_reg', 'Open_Bid_USDCAD_reg_shifted_40', 'High_Bid_USDCAD_reg_shifted_50', 'Open_Ask_LIGHTCMDUSD_reg_shifted_20', 'Open_Ask_BRENTCMDUSD_reg_shifted_4', 'Open_Ask_BRENTCMDUSD_reg_shifted_5', 'Open_Ask_BRENTCMDUSD_reg_shifted_2', 'Open_Ask_BRENTCMDUSD_reg_shifted_3', 'Open_Ask_BRENTCMDUSD_reg_shifted_0', 'Open_Ask_BRENTCMDUSD_reg_shifted_1', 'Close_Bid_USDCAD_reg_shifted_10', 'Open_Ask_LIGHTCMDUSD_reg', 'Low_Bid_USDCAD_reg_shifted_1', 'Volume_Bid_USDCAD_reg_shifted_0', 'Volume_Bid_USDCAD_reg_shifted_1', 'Volume_Bid_USDCAD_reg_shifted_4', 'Volume_Bid_USDCAD_reg_shifted_5', 'Close_Ask_USDCAD_reg_shifted_40', 'Open_Ask_USDRUB_reg_shifted_30', 'High_Bid_USDCAD_reg_shifted_40', 'Open_Ask_EURNOK_reg_shifted_2', 'Low_Ask_USDCAD_reg_shifted_20', 'Open_Ask_USDNOK_reg_shifted_20', 'Volume_Bid_USDCAD_reg_shifted_40', 'Open_Bid_USDCAD_reg_shifted_20', 'Open_Ask_EURNOK_reg_shifted_10', 'Open_Ask_USDNOK_reg_shifted_40', 'Open_Ask_BRENTCMDUSD_reg_shifted_10', 'Low_Ask_USDCAD_reg_shifted_5', 'Open_Ask_BRENTCMDUSD_reg', 'Low_Ask_USDCAD_reg_shifted_3', 'Low_Ask_USDCAD_reg_shifted_2', 'Low_Ask_USDCAD_reg_shifted_1', 'Low_Ask_USDCAD_reg_shifted_0', 'Open_Ask_USDRUB_reg_shifted_5', 'Open_Ask_USDRUB_reg_shifted_4', 'Open_Ask_USDRUB_reg_shifted_3', 'Open_Ask_USDRUB_reg_shifted_2', 'Open_Ask_USDRUB_reg_shifted_1', 'Open_Ask_USDRUB_reg_shifted_0'])\n",
      "2016-12-30 12:06:21,146 [INFO ]  Finished creating the dataset for Open_Ask_USDCAD\n",
      "2016-12-30 12:06:48,983 [INFO ]  Start fitting the model Target : Open_Ask_USDCAD : clf : classifier : [2016-10-24 12:00:00-2016-12-01 12:30:00]         ticks_to_shift:[0, 1, 2, 3, 4, 5, 10, 20, 30, 40, 50] shift:3\n",
      "2016-12-30 12:06:57,169 [INFO ]  Start GridSearchCV...\n",
      "2016-12-30 13:45:16,503 [ERROR]  <class 'xgboost.sklearn.XGBClassifier'>\n"
     ]
    },
    {
     "name": "stdout",
     "output_type": "stream",
     "text": [
      "BEST PARAMS {'reg_alpha': 0.2, 'colsample_bytree': 1, 'silent': False, 'colsample_bylevel': 1, 'scale_pos_weight': 1, 'learning_rate': 0.1, 'missing': None, 'max_delta_step': 0, 'nthread': -1, 'base_score': 0.5, 'n_estimators': 200, 'subsample': 1, 'reg_lambda': 1, 'seed': 0, 'min_child_weight': 1, 'objective': 'binary:logistic', 'max_depth': 7, 'gamma': 0}\n"
     ]
    },
    {
     "ename": "NotImplementedError",
     "evalue": "",
     "output_type": "error",
     "traceback": [
      "\u001b[0;31m---------------------------------------------------------------------------\u001b[0m",
      "\u001b[0;31mNotImplementedError\u001b[0m                       Traceback (most recent call last)",
      "\u001b[0;32m<ipython-input-3-bcfee5d55a54>\u001b[0m in \u001b[0;36m<module>\u001b[0;34m()\u001b[0m\n\u001b[1;32m      1\u001b[0m \u001b[0mregressor\u001b[0m\u001b[0;34m.\u001b[0m\u001b[0mdataset\u001b[0m\u001b[0;34m(\u001b[0m\u001b[0msimulator\u001b[0m\u001b[0;34m)\u001b[0m\u001b[0;34m\u001b[0m\u001b[0m\n\u001b[0;32m----> 2\u001b[0;31m \u001b[0mregressor\u001b[0m\u001b[0;34m.\u001b[0m\u001b[0mfit\u001b[0m\u001b[0;34m(\u001b[0m\u001b[0msimulator\u001b[0m\u001b[0;34m)\u001b[0m\u001b[0;34m\u001b[0m\u001b[0m\n\u001b[0m\u001b[1;32m      3\u001b[0m \u001b[0mregressor\u001b[0m\u001b[0;34m.\u001b[0m\u001b[0mpredict\u001b[0m\u001b[0;34m(\u001b[0m\u001b[0msimulator\u001b[0m\u001b[0;34m)\u001b[0m\u001b[0;34m\u001b[0m\u001b[0m\n",
      "\u001b[0;32m/home/ramon/workspace/trade/service/regressor.pyc\u001b[0m in \u001b[0;36mfit\u001b[0;34m(simulator)\u001b[0m\n\u001b[1;32m    112\u001b[0m \u001b[0;34m\u001b[0m\u001b[0m\n\u001b[1;32m    113\u001b[0m     \u001b[0mdataset\u001b[0m \u001b[0;34m=\u001b[0m \u001b[0mpickle_load\u001b[0m\u001b[0;34m(\u001b[0m\u001b[0;34m'dataset'\u001b[0m\u001b[0;34m,\u001b[0m \u001b[0msimulator\u001b[0m\u001b[0;34m)\u001b[0m\u001b[0;34m\u001b[0m\u001b[0m\n\u001b[0;32m--> 114\u001b[0;31m     \u001b[0mfit_model\u001b[0m\u001b[0;34m(\u001b[0m\u001b[0mdataset\u001b[0m\u001b[0;34m,\u001b[0m \u001b[0msimulator\u001b[0m\u001b[0;34m)\u001b[0m\u001b[0;34m\u001b[0m\u001b[0m\n\u001b[0m\u001b[1;32m    115\u001b[0m     \u001b[0msimulator\u001b[0m\u001b[0;34m.\u001b[0m\u001b[0mfeatures_weight\u001b[0m \u001b[0;34m=\u001b[0m \u001b[0mfeatures_weight\u001b[0m\u001b[0;34m(\u001b[0m\u001b[0msimulator\u001b[0m\u001b[0;34m)\u001b[0m\u001b[0;34m\u001b[0m\u001b[0m\n\u001b[1;32m    116\u001b[0m \u001b[0;34m\u001b[0m\u001b[0m\n",
      "\u001b[0;32m/home/ramon/workspace/trade/service/regressor.pyc\u001b[0m in \u001b[0;36mfit_model\u001b[0;34m(dataset, simulator)\u001b[0m\n\u001b[1;32m     90\u001b[0m         \u001b[0mlogging\u001b[0m\u001b[0;34m.\u001b[0m\u001b[0minfo\u001b[0m\u001b[0;34m(\u001b[0m\u001b[0;34m'Start GridSearchCV...'\u001b[0m\u001b[0;34m)\u001b[0m\u001b[0;34m\u001b[0m\u001b[0m\n\u001b[1;32m     91\u001b[0m         cv_optimize(simulator,\n\u001b[0;32m---> 92\u001b[0;31m                     clf, params, dataset['training_X'], dataset['training_y'])\n\u001b[0m\u001b[1;32m     93\u001b[0m         \u001b[0mlogging\u001b[0m\u001b[0;34m.\u001b[0m\u001b[0minfo\u001b[0m\u001b[0;34m(\u001b[0m\u001b[0;34m'finished  fitting via GridSearchCV'\u001b[0m\u001b[0;34m)\u001b[0m\u001b[0;34m\u001b[0m\u001b[0m\n\u001b[1;32m     94\u001b[0m \u001b[0;34m\u001b[0m\u001b[0m\n",
      "\u001b[0;32m/home/ramon/workspace/trade/service/regressor.pyc\u001b[0m in \u001b[0;36mcv_optimize\u001b[0;34m(simulator, clf, parameters, Xtrain, ytrain, n_folds)\u001b[0m\n\u001b[1;32m     64\u001b[0m     \u001b[0;32mprint\u001b[0m \u001b[0;34m\"BEST PARAMS\"\u001b[0m\u001b[0;34m,\u001b[0m \u001b[0mgs\u001b[0m\u001b[0;34m.\u001b[0m\u001b[0mbest_params_\u001b[0m\u001b[0;34m\u001b[0m\u001b[0m\n\u001b[1;32m     65\u001b[0m     \u001b[0mbest\u001b[0m \u001b[0;34m=\u001b[0m \u001b[0mgs\u001b[0m\u001b[0;34m.\u001b[0m\u001b[0mbest_estimator_\u001b[0m\u001b[0;34m\u001b[0m\u001b[0m\n\u001b[0;32m---> 66\u001b[0;31m     \u001b[0mpickle_dump\u001b[0m\u001b[0;34m(\u001b[0m\u001b[0mbest\u001b[0m\u001b[0;34m,\u001b[0m \u001b[0msimulator\u001b[0m\u001b[0;34m)\u001b[0m\u001b[0;34m\u001b[0m\u001b[0m\n\u001b[0m\u001b[1;32m     67\u001b[0m \u001b[0;34m\u001b[0m\u001b[0m\n\u001b[1;32m     68\u001b[0m \u001b[0;34m\u001b[0m\u001b[0m\n",
      "\u001b[0;32m/home/ramon/workspace/trade/service/persistence.pyc\u001b[0m in \u001b[0;36mpickle_dump\u001b[0;34m(object_, simulator)\u001b[0m\n\u001b[1;32m     26\u001b[0m \u001b[0;34m\u001b[0m\u001b[0m\n\u001b[1;32m     27\u001b[0m \u001b[0;32mdef\u001b[0m \u001b[0mpickle_dump\u001b[0m\u001b[0;34m(\u001b[0m\u001b[0mobject_\u001b[0m\u001b[0;34m,\u001b[0m \u001b[0msimulator\u001b[0m\u001b[0;34m)\u001b[0m\u001b[0;34m:\u001b[0m\u001b[0;34m\u001b[0m\u001b[0m\n\u001b[0;32m---> 28\u001b[0;31m     \u001b[0mlabel\u001b[0m \u001b[0;34m=\u001b[0m \u001b[0m_get_label\u001b[0m\u001b[0;34m(\u001b[0m\u001b[0mobject_\u001b[0m\u001b[0;34m)\u001b[0m\u001b[0;34m\u001b[0m\u001b[0m\n\u001b[0m\u001b[1;32m     29\u001b[0m     pickle.dump(object_, open(config.data_store_path +\n\u001b[1;32m     30\u001b[0m                               'predictions/{0}_{1}_with_{2}_shifts.p'.format(label, simulator.target,\n",
      "\u001b[0;32m/home/ramon/workspace/trade/service/persistence.pyc\u001b[0m in \u001b[0;36m_get_label\u001b[0;34m(object_)\u001b[0m\n\u001b[1;32m     22\u001b[0m     \u001b[0;32melse\u001b[0m\u001b[0;34m:\u001b[0m\u001b[0;34m\u001b[0m\u001b[0m\n\u001b[1;32m     23\u001b[0m         \u001b[0mlogging\u001b[0m\u001b[0;34m.\u001b[0m\u001b[0merror\u001b[0m\u001b[0;34m(\u001b[0m\u001b[0mtype\u001b[0m\u001b[0;34m(\u001b[0m\u001b[0mobject_\u001b[0m\u001b[0;34m)\u001b[0m\u001b[0;34m)\u001b[0m\u001b[0;34m\u001b[0m\u001b[0m\n\u001b[0;32m---> 24\u001b[0;31m         \u001b[0;32mraise\u001b[0m \u001b[0mNotImplementedError\u001b[0m\u001b[0;34m\u001b[0m\u001b[0m\n\u001b[0m\u001b[1;32m     25\u001b[0m \u001b[0;34m\u001b[0m\u001b[0m\n\u001b[1;32m     26\u001b[0m \u001b[0;34m\u001b[0m\u001b[0m\n",
      "\u001b[0;31mNotImplementedError\u001b[0m: "
     ]
    }
   ],
   "source": [
    "regressor.dataset(simulator)\n",
    "regressor.fit(simulator)\n",
    "regressor.predict(simulator)"
   ]
  },
  {
   "cell_type": "code",
   "execution_count": 4,
   "metadata": {
    "collapsed": false
   },
   "outputs": [
    {
     "ename": "NameError",
     "evalue": "name 'best' is not defined",
     "output_type": "error",
     "traceback": [
      "\u001b[0;31m---------------------------------------------------------------------------\u001b[0m",
      "\u001b[0;31mNameError\u001b[0m                                 Traceback (most recent call last)",
      "\u001b[0;32m<ipython-input-4-ff62741ba96c>\u001b[0m in \u001b[0;36m<module>\u001b[0;34m()\u001b[0m\n\u001b[0;32m----> 1\u001b[0;31m \u001b[0mbest\u001b[0m\u001b[0;34m\u001b[0m\u001b[0m\n\u001b[0m",
      "\u001b[0;31mNameError\u001b[0m: name 'best' is not defined"
     ]
    }
   ],
   "source": [
    "best"
   ]
  },
  {
   "cell_type": "code",
   "execution_count": null,
   "metadata": {
    "collapsed": false
   },
   "outputs": [],
   "source": [
    "df_t = simulator.predictions\n",
    "#df_t=df_t[(df_t.index>'2016-10-24 12:30') & (df_t.index<'2016-10-24 14:00')]\n",
    "df_t.head()"
   ]
  },
  {
   "cell_type": "code",
   "execution_count": null,
   "metadata": {
    "collapsed": false
   },
   "outputs": [],
   "source": [
    "df_t.is_correct.plot(style='ro')"
   ]
  }
 ],
 "metadata": {
  "anaconda-cloud": {},
  "kernelspec": {
   "display_name": "Python [default]",
   "language": "python",
   "name": "python2"
  },
  "language_info": {
   "codemirror_mode": {
    "name": "ipython",
    "version": 2
   },
   "file_extension": ".py",
   "mimetype": "text/x-python",
   "name": "python",
   "nbconvert_exporter": "python",
   "pygments_lexer": "ipython2",
   "version": "2.7.12"
  }
 },
 "nbformat": 4,
 "nbformat_minor": 1
}
