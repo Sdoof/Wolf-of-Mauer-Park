{
 "cells": [
  {
   "cell_type": "code",
   "execution_count": 1,
   "metadata": {
    "collapsed": true
   },
   "outputs": [],
   "source": [
    "import service.files_combiner as files"
   ]
  },
  {
   "cell_type": "code",
   "execution_count": 2,
   "metadata": {
    "collapsed": false
   },
   "outputs": [],
   "source": [
    "d = files.get_csv_files_dict()"
   ]
  },
  {
   "cell_type": "code",
   "execution_count": 3,
   "metadata": {
    "collapsed": false
   },
   "outputs": [
    {
     "data": {
      "text/plain": [
       "'CADCHF_UTC_Ticks_Bid_2016.01.02_2016.12.08.csv'"
      ]
     },
     "execution_count": 3,
     "metadata": {},
     "output_type": "execute_result"
    }
   ],
   "source": [
    "d['CADCHF']"
   ]
  },
  {
   "cell_type": "code",
   "execution_count": 4,
   "metadata": {
    "collapsed": false
   },
   "outputs": [
    {
     "name": "stdout",
     "output_type": "stream",
     "text": [
      "['BRENTCMDUSD_UTC_Ticks_Bid_2016.01.02_2016.12.08.csv', 'EURCHF_UTC_Ticks_Bid_2016.01.02_2016.12.08.csv', 'EURUSD_UTC_Ticks_Bid_2016.08.02_2016.11.22.csv', 'GBPCHF_UTC_Ticks_Bid_2016.01.02_2016.12.08.csv', 'CADCHF_UTC_Ticks_Bid_2016.01.02_2016.12.08.csv', 'CHFSGD_UTC_Ticks_Bid_2016.01.02_2016.12.08.csv', 'XAGUSD_UTC_Ticks_Bid_2016.01.02_2016.12.08.csv', 'GBPUSD_UTC_Ticks_Bid_2016.08.02_2016.11.22.csv', 'EURGBP_UTC_Ticks_Bid_2016.08.02_2016.11.22.csv']\n"
     ]
    }
   ],
   "source": [
    "files.create_raw_data(sample_period='1D')"
   ]
  }
 ],
 "metadata": {
  "kernelspec": {
   "display_name": "Python [conda root]",
   "language": "python",
   "name": "conda-root-py"
  },
  "language_info": {
   "codemirror_mode": {
    "name": "ipython",
    "version": 2
   },
   "file_extension": ".py",
   "mimetype": "text/x-python",
   "name": "python",
   "nbconvert_exporter": "python",
   "pygments_lexer": "ipython2",
   "version": "2.7.12"
  }
 },
 "nbformat": 4,
 "nbformat_minor": 1
}
