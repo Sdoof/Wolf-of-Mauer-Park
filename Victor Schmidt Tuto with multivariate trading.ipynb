{
 "cells": [
  {
   "cell_type": "code",
   "execution_count": 7,
   "metadata": {
    "collapsed": false
   },
   "outputs": [],
   "source": [
    "%matplotlib inline\n",
    "import matplotlib.pyplot as plt\n",
    "import numpy as np\n",
    "import pandas as pd\n",
    "import time\n",
    "import csv\n",
    "from sklearn import preprocessing\n",
    "from sklearn.metrics import confusion_matrix,classification_report\n",
    "from keras.models import Sequential\n",
    "from keras.layers.core import Dense, Activation, Dropout\n",
    "from keras.layers.recurrent import LSTM\n",
    "from keras.layers import TimeDistributed,BatchNormalization\n",
    "from keras import optimizers\n",
    "import pickle\n",
    "np.random.seed(1234)\n",
    "np.set_printoptions(suppress=True)\n"
   ]
  },
  {
   "cell_type": "markdown",
   "metadata": {},
   "source": [
    "## Combine multivariate\n",
    "https://stackoverflow.com/questions/36992855/keras-how-should-i-prepare-input-data-for-rnn"
   ]
  },
  {
   "cell_type": "markdown",
   "metadata": {},
   "source": [
    "# Data preparation"
   ]
  },
  {
   "cell_type": "markdown",
   "metadata": {},
   "source": [
    "## Convert data to sequences"
   ]
  },
  {
   "cell_type": "code",
   "execution_count": 2,
   "metadata": {
    "collapsed": false
   },
   "outputs": [],
   "source": [
    "COLUMNS = [u'Open', u'High', u'Low', u'Close', u'Volume ', u'KC_M_1', u'KC_U_1',\n",
    "       u'KC_D_1', u'KC_M_2', u'KC_U_2', u'KC_D_2', u'KC_M_3', u'KC_U_3',\n",
    "       u'KC_D_3', u'Donchian_High_3', u'Donchian_Low_3', u'ATR', u'EMA12',\n",
    "       u'EMA30', u'cs_size', u'cs_body_size', u'cs_body_pos', u'cs_body_ratio']\n",
    "\n",
    "COLUMNS_BOOLEAN =  ['DOWN_next_Low_under_Close',\n",
    " 'DOWN_next_High_over_Close',\n",
    " 'UP_next_High_over_Close',\n",
    " 'UP_next_Low_under_Close',\n",
    " 'DOWN_next_Low_and_High',\n",
    " 'UP_next_Low_and_High']\n"
   ]
  },
  {
   "cell_type": "code",
   "execution_count": 3,
   "metadata": {
    "collapsed": false
   },
   "outputs": [],
   "source": [
    "def convert_to_sequences(df,predictors_name_list, target_name):\n",
    "    \n",
    "    df = df.drop('date_time',axis=1)\n",
    "    \n",
    "    # drop the first 30 lines, because EMA30 is empty\n",
    "    df = df[30:-1]\n",
    "    df = df[-3000:]\n",
    "    print df.tail(1)\n",
    "    print df.head(1)\n",
    "    \n",
    "    COL_DAY_BEFORE = [col+\"_day_before\" for col in COLUMNS_BOOLEAN]\n",
    "    df[COL_DAY_BEFORE] = df[COLUMNS_BOOLEAN].shift(1)\n",
    "    day_before = df[COL_DAY_BEFORE].values\n",
    "    day_before = np.nan_to_num(day_before)\n",
    "    print day_before    \n",
    "    \n",
    "    #df = df[:1000]\n",
    "    \n",
    "    # add an index column to check the correct alignment between predictor & target\n",
    "    df['index']=df.index\n",
    "    index = df.index.values\n",
    "    index = index.reshape(index.size,1)\n",
    "\n",
    "    predictors = df[predictors_name_list].values\n",
    "   \n",
    "    target = df[['index']+ target_name].values\n",
    "    print \"target :\"\n",
    "    print target\n",
    "        \n",
    "    # regularize\n",
    "    minmax = preprocessing.StandardScaler()\n",
    "    print predictors[0]\n",
    "    print predictors.shape\n",
    "    \n",
    "    predictors_scaled = minmax.fit_transform(predictors)\n",
    "    predictors_scaled = predictors\n",
    "    print predictors[:,0][0]\n",
    "    print predictors_scaled[0]\n",
    "    \n",
    "    \n",
    "    print \"shapes\"\n",
    "    print day_before.shape\n",
    "    print index.shape\n",
    "    print predictors_scaled.shape\n",
    "    \n",
    "    print \"end shape\"\n",
    "    #predictors_scaled_with_index = np.concatenate((index,predictors_scaled,day_before),axis=1)\n",
    "    predictors_scaled_with_index = np.concatenate((index,predictors_scaled),axis=1)\n",
    "\n",
    "    #predictors_scaled_with_index = np.concatenate((index,day_before),axis=1)\n",
    "  \n",
    "    print predictors_scaled_with_index[:5]\n",
    "\n",
    "    return predictors_scaled_with_index,target"
   ]
  },
  {
   "cell_type": "code",
   "execution_count": 4,
   "metadata": {
    "collapsed": true
   },
   "outputs": [],
   "source": [
    "def create_sequences(predictors,target, drop_index=False):\n",
    "    drop_ix = drop_index*1\n",
    "\n",
    "    flag = 0\n",
    "    time_steps = 50\n",
    "\n",
    "    for sample in range(time_steps,predictors.shape[0]):\n",
    "        \n",
    "        tmp_predictors = np.array([predictors[sample-time_steps:sample][:,range(drop_ix,predictors.shape[1])]])\n",
    "        \n",
    "        if flag==0:\n",
    "            new_input_predictor = tmp_predictors\n",
    "            flag = 1\n",
    "\n",
    "        else:\n",
    "            new_input_predictor = np.concatenate((new_input_predictor,tmp_predictors))\n",
    "            \n",
    "    new_input_target = target[time_steps-1:-1][:,range(drop_ix,target.shape[1])]\n",
    "    \n",
    "            \n",
    "    return new_input_predictor,new_input_target"
   ]
  },
  {
   "cell_type": "code",
   "execution_count": 5,
   "metadata": {
    "collapsed": false
   },
   "outputs": [
    {
     "data": {
      "text/plain": [
       "DOWN_next_Low_under_Close    0.070066\n",
       "DOWN_next_High_over_Close    0.000392\n",
       "UP_next_High_over_Close      0.069574\n",
       "UP_next_Low_under_Close      0.088129\n",
       "DOWN_next_Low_and_High       0.000392\n",
       "UP_next_Low_and_High         0.003382\n",
       "Name: mean, dtype: float64"
      ]
     },
     "execution_count": 5,
     "metadata": {},
     "output_type": "execute_result"
    }
   ],
   "source": [
    "df = pd.read_csv(\"tradeModel_data.csv\")\n",
    "\n",
    "df[COLUMNS_BOOLEAN].describe().loc['mean']"
   ]
  },
  {
   "cell_type": "code",
   "execution_count": 6,
   "metadata": {
    "collapsed": false
   },
   "outputs": [
    {
     "name": "stdout",
     "output_type": "stream",
     "text": [
      "0    1\n",
      "1    0\n",
      "2    0\n",
      "3    1\n",
      "4    0\n",
      "Name: next_day_High_UP, dtype: int64\n",
      "0.460745120435\n"
     ]
    }
   ],
   "source": [
    "df['next_day_High_UP']=((df.High<df.next_High))*1\n",
    "print df.next_day_High_UP.head()\n",
    "print df.next_day_High_UP.mean()"
   ]
  },
  {
   "cell_type": "code",
   "execution_count": 7,
   "metadata": {
    "collapsed": false
   },
   "outputs": [
    {
     "name": "stdout",
     "output_type": "stream",
     "text": [
      "          Open     High      Low    Close  Volume     KC_M_1    KC_U_1  \\\n",
      "89299  1.06085  1.06158  1.06072  1.06145   1287.7  1.061029  1.061609   \n",
      "\n",
      "         KC_D_1    KC_M_2    KC_U_2        ...         \\\n",
      "89299  1.060449  1.061029  1.061609        ...          \n",
      "\n",
      "       DOWN_next_High_over_Close  UP_next_High_over_Close  \\\n",
      "89299                          0                        0   \n",
      "\n",
      "       UP_next_Low_under_Close  DOWN_next_Low_and_High  UP_next_Low_and_High  \\\n",
      "89299                        0                       0                     0   \n",
      "\n",
      "       hour  day  month  year  next_day_High_UP  \n",
      "89299    21    4      2  2017                 0  \n",
      "\n",
      "[1 rows x 37 columns]\n",
      "          Open     High      Low    Close  Volume     KC_M_1    KC_U_1  \\\n",
      "86300  1.06072  1.06161  1.06056  1.06123  4036.48  1.061009  1.062266   \n",
      "\n",
      "         KC_D_1    KC_M_2    KC_U_2        ...         \\\n",
      "86300  1.059752  1.061009  1.062266        ...          \n",
      "\n",
      "       DOWN_next_High_over_Close  UP_next_High_over_Close  \\\n",
      "86300                          0                        0   \n",
      "\n",
      "       UP_next_Low_under_Close  DOWN_next_Low_and_High  UP_next_Low_and_High  \\\n",
      "86300                        0                       0                     0   \n",
      "\n",
      "       hour  day  month  year  next_day_High_UP  \n",
      "86300     9    2     11  2016                 0  \n",
      "\n",
      "[1 rows x 37 columns]\n",
      "[[ 0.  0.  0.  0.  0.  0.]\n",
      " [ 0.  0.  0.  0.  0.  0.]\n",
      " [ 0.  0.  0.  0.  0.  0.]\n",
      " ..., \n",
      " [ 0.  0.  0.  0.  0.  0.]\n",
      " [ 0.  0.  0.  0.  0.  0.]\n",
      " [ 0.  0.  0.  0.  0.  0.]]\n",
      "target :\n",
      "[[86300     0]\n",
      " [86301     1]\n",
      " [86302     1]\n",
      " ..., \n",
      " [89297     1]\n",
      " [89298     1]\n",
      " [89299     0]]\n",
      "[    1.06072        1.06161        1.06056        1.06123     4036.48\n",
      "     1.06204        1.06004        0.00112665     1.06207514     1.06235171\n",
      "     0.00105        0.00011   ]\n",
      "(3000, 12)\n",
      "1.06072\n",
      "[    1.06072        1.06161        1.06056        1.06123     4036.48\n",
      "     1.06204        1.06004        0.00112665     1.06207514     1.06235171\n",
      "     0.00105        0.00011   ]\n",
      "shapes\n",
      "(3000, 6)\n",
      "(3000, 1)\n",
      "(3000, 12)\n",
      "end shape\n",
      "[[ 86300.              1.06072         1.06161         1.06056         1.06123\n",
      "    4036.48            1.06204         1.06004         0.00112665\n",
      "       1.06207514      1.06235171      0.00105         0.00011   ]\n",
      " [ 86301.              1.0612          1.06154         1.06043         1.06143\n",
      "    4131.87            1.06161         1.06004         0.00112249\n",
      "       1.06197589      1.06229225      0.00111        -0.00033   ]\n",
      " [ 86302.              1.06144         1.06311         1.06107         1.06274\n",
      "    7921.07            1.06311         1.06043         0.00135187\n",
      "       1.06209344      1.06232113      0.00204         0.        ]\n",
      " [ 86303.              1.06273         1.06365         1.062           1.06273\n",
      "    6532.06            1.06365         1.06043         0.0014264\n",
      "       1.06219137      1.06234751      0.00165         0.000095  ]\n",
      " [ 86304.              1.06273         1.06361         1.06215         1.06224\n",
      "    5177.35            1.06365         1.06107         0.0014348\n",
      "       1.06219885      1.06234058      0.00146         0.000395  ]]\n"
     ]
    }
   ],
   "source": [
    "predictors,target = convert_to_sequences(df,[ u'Open', u'High', u'Low', u'Close',u'Volume ',u'Donchian_High_3', u'Donchian_Low_3', u'ATR', u'EMA12',\n",
    "       u'EMA30', u'cs_size', u'cs_body_ratio'],['next_day_High_UP'])"
   ]
  },
  {
   "cell_type": "code",
   "execution_count": 8,
   "metadata": {
    "collapsed": false
   },
   "outputs": [
    {
     "name": "stdout",
     "output_type": "stream",
     "text": [
      "[[ 86300.              1.06072         1.06161         1.06056         1.06123\n",
      "    4036.48            1.06204         1.06004         0.00112665\n",
      "       1.06207514      1.06235171      0.00105         0.00011   ]\n",
      " [ 86301.              1.0612          1.06154         1.06043         1.06143\n",
      "    4131.87            1.06161         1.06004         0.00112249\n",
      "       1.06197589      1.06229225      0.00111        -0.00033   ]\n",
      " [ 86302.              1.06144         1.06311         1.06107         1.06274\n",
      "    7921.07            1.06311         1.06043         0.00135187\n",
      "       1.06209344      1.06232113      0.00204         0.        ]\n",
      " [ 86303.              1.06273         1.06365         1.062           1.06273\n",
      "    6532.06            1.06365         1.06043         0.0014264\n",
      "       1.06219137      1.06234751      0.00165         0.000095  ]\n",
      " [ 86304.              1.06273         1.06361         1.06215         1.06224\n",
      "    5177.35            1.06365         1.06107         0.0014348\n",
      "       1.06219885      1.06234058      0.00146         0.000395  ]\n",
      " [ 86305.              1.06223         1.06234         1.06156         1.06165\n",
      "    6202.49            1.06365         1.06156         0.0012711\n",
      "       1.06211442      1.06229602      0.00078         0.00001   ]\n",
      " [ 86306.              1.06165         1.06234         1.06115         1.06122\n",
      "    6373.21            1.06361         1.06115         0.00125082\n",
      "       1.06197681      1.0622266       0.00119         0.00031   ]\n",
      " [ 86307.              1.06121         1.06132         1.05899         1.05906\n",
      "    8508.16            1.06234         1.05899         0.00152062\n",
      "       1.06152807      1.06202231      0.00233         0.00002   ]\n",
      " [ 86308.              1.05905         1.05905         1.05565         1.0557\n",
      "   13186.92            1.06234         1.05565         0.00199296\n",
      "       1.06063145      1.06161441      0.0034         -0.000025  ]\n",
      " [ 86309.              1.05572         1.05577         1.05412         1.05545\n",
      "   11423.61            1.06132         1.05412         0.00190722\n",
      "       1.0598343       1.06121671      0.00165        -0.00064   ]]\n",
      "\n",
      " ++++++++++++++++++ \n",
      "\n",
      "[[86300     0]\n",
      " [86301     1]\n",
      " [86302     1]\n",
      " [86303     0]\n",
      " [86304     0]\n",
      " [86305     0]\n",
      " [86306     0]\n",
      " [86307     0]\n",
      " [86308     0]\n",
      " [86309     1]]\n"
     ]
    }
   ],
   "source": [
    "\n",
    "print predictors[:10]\n",
    "print \"\\n ++++++++++++++++++ \\n\"\n",
    "print target[:10]"
   ]
  },
  {
   "cell_type": "code",
   "execution_count": 9,
   "metadata": {
    "collapsed": false
   },
   "outputs": [
    {
     "name": "stdout",
     "output_type": "stream",
     "text": [
      "(3000, 13) (3000, 2)\n"
     ]
    }
   ],
   "source": [
    "print predictors.shape,target.shape"
   ]
  },
  {
   "cell_type": "code",
   "execution_count": 10,
   "metadata": {
    "collapsed": false
   },
   "outputs": [
    {
     "name": "stdout",
     "output_type": "stream",
     "text": [
      "(2950, 50, 12)\n",
      "(2950, 1)\n"
     ]
    }
   ],
   "source": [
    "predictors_sequenced,target_sequenced = create_sequences(predictors,target,drop_index=True)\n",
    "print predictors_sequenced.shape\n",
    "print target_sequenced.shape"
   ]
  },
  {
   "cell_type": "code",
   "execution_count": 11,
   "metadata": {
    "collapsed": false
   },
   "outputs": [
    {
     "data": {
      "text/plain": [
       "array([[    1.06072   ,     1.06161   ,     1.06056   ,     1.06123   ,\n",
       "         4036.48      ,     1.06204   ,     1.06004   ,     0.00112665,\n",
       "            1.06207514,     1.06235171,     0.00105   ,     0.00011   ],\n",
       "       [    1.0612    ,     1.06154   ,     1.06043   ,     1.06143   ,\n",
       "         4131.87      ,     1.06161   ,     1.06004   ,     0.00112249,\n",
       "            1.06197589,     1.06229225,     0.00111   ,    -0.00033   ],\n",
       "       [    1.06144   ,     1.06311   ,     1.06107   ,     1.06274   ,\n",
       "         7921.07      ,     1.06311   ,     1.06043   ,     0.00135187,\n",
       "            1.06209344,     1.06232113,     0.00204   ,     0.        ],\n",
       "       [    1.06273   ,     1.06365   ,     1.062     ,     1.06273   ,\n",
       "         6532.06      ,     1.06365   ,     1.06043   ,     0.0014264 ,\n",
       "            1.06219137,     1.06234751,     0.00165   ,     0.000095  ],\n",
       "       [    1.06273   ,     1.06361   ,     1.06215   ,     1.06224   ,\n",
       "         5177.35      ,     1.06365   ,     1.06107   ,     0.0014348 ,\n",
       "            1.06219885,     1.06234058,     0.00146   ,     0.000395  ]])"
      ]
     },
     "execution_count": 11,
     "metadata": {},
     "output_type": "execute_result"
    }
   ],
   "source": [
    "predictors_sequenced[0][:5]"
   ]
  },
  {
   "cell_type": "code",
   "execution_count": 12,
   "metadata": {
    "collapsed": false
   },
   "outputs": [
    {
     "data": {
      "text/plain": [
       "array([1])"
      ]
     },
     "execution_count": 12,
     "metadata": {},
     "output_type": "execute_result"
    }
   ],
   "source": [
    "target_sequenced[0]"
   ]
  },
  {
   "cell_type": "code",
   "execution_count": 13,
   "metadata": {
    "collapsed": false
   },
   "outputs": [
    {
     "data": {
      "text/plain": [
       "(2950, 50, 12)"
      ]
     },
     "execution_count": 13,
     "metadata": {},
     "output_type": "execute_result"
    }
   ],
   "source": [
    "predictors_sequenced.shape"
   ]
  },
  {
   "cell_type": "code",
   "execution_count": 14,
   "metadata": {
    "collapsed": true
   },
   "outputs": [],
   "source": [
    "new_input_predictor = predictors_sequenced\n",
    "new_input_target = target_sequenced"
   ]
  },
  {
   "cell_type": "code",
   "execution_count": 15,
   "metadata": {
    "collapsed": false
   },
   "outputs": [
    {
     "data": {
      "text/plain": [
       "array([[    1.06072   ,     1.06161   ,     1.06056   ,     1.06123   ,\n",
       "         4036.48      ,     1.06204   ,     1.06004   ,     0.00112665,\n",
       "            1.06207514,     1.06235171,     0.00105   ,     0.00011   ],\n",
       "       [    1.0612    ,     1.06154   ,     1.06043   ,     1.06143   ,\n",
       "         4131.87      ,     1.06161   ,     1.06004   ,     0.00112249,\n",
       "            1.06197589,     1.06229225,     0.00111   ,    -0.00033   ],\n",
       "       [    1.06144   ,     1.06311   ,     1.06107   ,     1.06274   ,\n",
       "         7921.07      ,     1.06311   ,     1.06043   ,     0.00135187,\n",
       "            1.06209344,     1.06232113,     0.00204   ,     0.        ],\n",
       "       [    1.06273   ,     1.06365   ,     1.062     ,     1.06273   ,\n",
       "         6532.06      ,     1.06365   ,     1.06043   ,     0.0014264 ,\n",
       "            1.06219137,     1.06234751,     0.00165   ,     0.000095  ],\n",
       "       [    1.06273   ,     1.06361   ,     1.06215   ,     1.06224   ,\n",
       "         5177.35      ,     1.06365   ,     1.06107   ,     0.0014348 ,\n",
       "            1.06219885,     1.06234058,     0.00146   ,     0.000395  ]])"
      ]
     },
     "execution_count": 15,
     "metadata": {},
     "output_type": "execute_result"
    }
   ],
   "source": [
    "new_input_predictor[0][:5]"
   ]
  },
  {
   "cell_type": "code",
   "execution_count": 16,
   "metadata": {
    "collapsed": false
   },
   "outputs": [
    {
     "data": {
      "text/plain": [
       "array([[1],\n",
       "       [1],\n",
       "       [1],\n",
       "       ..., \n",
       "       [0],\n",
       "       [1],\n",
       "       [1]])"
      ]
     },
     "execution_count": 16,
     "metadata": {},
     "output_type": "execute_result"
    }
   ],
   "source": [
    "new_input_target"
   ]
  },
  {
   "cell_type": "code",
   "execution_count": 17,
   "metadata": {
    "collapsed": false
   },
   "outputs": [],
   "source": [
    "row = int(round(0.9 * new_input_predictor.shape[0]))\n",
    "\n",
    "X_train = new_input_predictor[:row, :]\n",
    "X_test = new_input_predictor[row:,:]\n",
    "\n",
    "y_train = new_input_target[:row,]\n",
    "y_test = new_input_target[row:,]\n",
    "\n",
    "data = [X_train, y_train, X_test, y_test]"
   ]
  },
  {
   "cell_type": "code",
   "execution_count": 18,
   "metadata": {
    "collapsed": true
   },
   "outputs": [],
   "source": [
    "\n",
    "pickle.dump(data, open(\"data_trade.p\", \"wb\"))"
   ]
  },
  {
   "cell_type": "code",
   "execution_count": 8,
   "metadata": {
    "collapsed": false
   },
   "outputs": [],
   "source": [
    "data = pickle.load(open(\"data_trade.p\", \"rb\"))"
   ]
  },
  {
   "cell_type": "code",
   "execution_count": 9,
   "metadata": {
    "collapsed": false
   },
   "outputs": [
    {
     "data": {
      "text/plain": [
       "(2655, 50, 12)"
      ]
     },
     "execution_count": 9,
     "metadata": {},
     "output_type": "execute_result"
    }
   ],
   "source": [
    "data[0].shape"
   ]
  },
  {
   "cell_type": "code",
   "execution_count": 10,
   "metadata": {
    "collapsed": false
   },
   "outputs": [],
   "source": [
    "def build_model():\n",
    "\n",
    "    model = Sequential()\n",
    "    layers = [12, 128, 512, 1]\n",
    "    \n",
    "    model.add(LSTM(units=128, return_sequences=True, input_shape=(None, layers[0])))\n",
    "    model.add(BatchNormalization())\n",
    "    model.add(Dropout(0.2))\n",
    "    \n",
    "    model.add(LSTM(\n",
    "            layers[2],\n",
    "            return_sequences=False))\n",
    "    model.add(BatchNormalization())\n",
    "    model.add(Dropout(0.2))\n",
    "    \n",
    "    model.add(Dense(units=1))\n",
    " \n",
    "    model.add(Activation(\"sigmoid\"))   \n",
    "    #model.add(Activation(\"linear\"))   \n",
    "    \n",
    "    start = time.time()\n",
    "    model.compile(optimizer='adam',\n",
    "              loss='binary_crossentropy',\n",
    "              metrics=['binary_accuracy'])\n",
    "    \n",
    "    #model.compile(loss=\"mse\", optimizer=\"rmsprop\")\n",
    "    \n",
    "    print \"Compilation Time : \", time.time() - start\n",
    "    return model"
   ]
  },
  {
   "cell_type": "code",
   "execution_count": 11,
   "metadata": {
    "collapsed": false
   },
   "outputs": [],
   "source": [
    "def run_network(model=None, data=None):\n",
    "    epochs = 10\n",
    "    ratio = 0.5\n",
    "    \n",
    "    X_train, y_train, X_test, y_test = data\n",
    "\n",
    "    \n",
    "    print '\\nData Loaded. Compiling...\\n'\n",
    "    \n",
    "    if model is None:\n",
    "        model = build_model()\n",
    "        \n",
    "    try:\n",
    "        model.fit(\n",
    "            X_train, y_train,\n",
    "            batch_size=512, epochs=epochs, validation_split=0.05)\n",
    "        \n",
    "        print \"finished fit\"\n",
    "        predicted = model.predict(X_test)\n",
    "        print \"finished predicting\"\n",
    "        \n",
    "        predicted = np.reshape(predicted, (predicted.size,))\n",
    "        print predicted\n",
    "    except KeyboardInterrupt:\n",
    "        print 'Training duration (s) : ', time.time() - global_start_time\n",
    "    return model, y_test, 0\n"
   ]
  },
  {
   "cell_type": "code",
   "execution_count": 12,
   "metadata": {
    "collapsed": false
   },
   "outputs": [
    {
     "name": "stdout",
     "output_type": "stream",
     "text": [
      "\n",
      "Data Loaded. Compiling...\n",
      "\n",
      "Compilation Time :  0.0303571224213\n",
      "Train on 2522 samples, validate on 133 samples\n",
      "Epoch 1/10\n",
      "2522/2522 [==============================] - 57s - loss: 0.9849 - binary_accuracy: 0.4730 - val_loss: 0.6817 - val_binary_accuracy: 0.5865\n",
      "Epoch 2/10\n",
      "2522/2522 [==============================] - 64s - loss: 0.7760 - binary_accuracy: 0.5266 - val_loss: 0.6796 - val_binary_accuracy: 0.5865\n",
      "Epoch 3/10\n",
      "1536/2522 [=================>............] - ETA: 25s - loss: 0.7579 - binary_accuracy: 0.5091Training duration (s) : "
     ]
    },
    {
     "ename": "NameError",
     "evalue": "global name 'global_start_time' is not defined",
     "output_type": "error",
     "traceback": [
      "\u001b[0;31m---------------------------------------------------------------------------\u001b[0m",
      "\u001b[0;31mNameError\u001b[0m                                 Traceback (most recent call last)",
      "\u001b[0;32m<ipython-input-12-2dd7a3f2bc2c>\u001b[0m in \u001b[0;36m<module>\u001b[0;34m()\u001b[0m\n\u001b[0;32m----> 1\u001b[0;31m \u001b[0mmodel\u001b[0m\u001b[0;34m,\u001b[0m\u001b[0my_test\u001b[0m\u001b[0;34m,\u001b[0m\u001b[0m_\u001b[0m \u001b[0;34m=\u001b[0m \u001b[0mrun_network\u001b[0m\u001b[0;34m(\u001b[0m\u001b[0mdata\u001b[0m\u001b[0;34m=\u001b[0m\u001b[0mdata\u001b[0m\u001b[0;34m)\u001b[0m\u001b[0;34m\u001b[0m\u001b[0m\n\u001b[0m",
      "\u001b[0;32m<ipython-input-11-8f16f79380bd>\u001b[0m in \u001b[0;36mrun_network\u001b[0;34m(model, data)\u001b[0m\n\u001b[1;32m     23\u001b[0m         \u001b[0;32mprint\u001b[0m \u001b[0mpredicted\u001b[0m\u001b[0;34m\u001b[0m\u001b[0m\n\u001b[1;32m     24\u001b[0m     \u001b[0;32mexcept\u001b[0m \u001b[0mKeyboardInterrupt\u001b[0m\u001b[0;34m:\u001b[0m\u001b[0;34m\u001b[0m\u001b[0m\n\u001b[0;32m---> 25\u001b[0;31m         \u001b[0;32mprint\u001b[0m \u001b[0;34m'Training duration (s) : '\u001b[0m\u001b[0;34m,\u001b[0m \u001b[0mtime\u001b[0m\u001b[0;34m.\u001b[0m\u001b[0mtime\u001b[0m\u001b[0;34m(\u001b[0m\u001b[0;34m)\u001b[0m \u001b[0;34m-\u001b[0m \u001b[0mglobal_start_time\u001b[0m\u001b[0;34m\u001b[0m\u001b[0m\n\u001b[0m\u001b[1;32m     26\u001b[0m     \u001b[0;32mreturn\u001b[0m \u001b[0mmodel\u001b[0m\u001b[0;34m,\u001b[0m \u001b[0my_test\u001b[0m\u001b[0;34m,\u001b[0m \u001b[0;36m0\u001b[0m\u001b[0;34m\u001b[0m\u001b[0m\n",
      "\u001b[0;31mNameError\u001b[0m: global name 'global_start_time' is not defined"
     ]
    }
   ],
   "source": [
    "model,y_test,_ = run_network(data=data)"
   ]
  },
  {
   "cell_type": "code",
   "execution_count": null,
   "metadata": {
    "collapsed": false
   },
   "outputs": [],
   "source": [
    "prediction= model.predict(X_test)"
   ]
  },
  {
   "cell_type": "code",
   "execution_count": null,
   "metadata": {
    "collapsed": false
   },
   "outputs": [],
   "source": [
    "prediction.shape"
   ]
  },
  {
   "cell_type": "code",
   "execution_count": null,
   "metadata": {
    "collapsed": false
   },
   "outputs": [],
   "source": [
    "prediction.reshape(prediction.size,)"
   ]
  },
  {
   "cell_type": "code",
   "execution_count": null,
   "metadata": {
    "collapsed": false
   },
   "outputs": [],
   "source": [
    "df_prediction = pd.DataFrame({'observed': y_test.reshape(y_test.size,),'predicted':prediction.reshape(prediction.size,)})"
   ]
  },
  {
   "cell_type": "code",
   "execution_count": null,
   "metadata": {
    "collapsed": false
   },
   "outputs": [],
   "source": [
    "df_prediction.describe()"
   ]
  },
  {
   "cell_type": "code",
   "execution_count": null,
   "metadata": {
    "collapsed": false
   },
   "outputs": [],
   "source": [
    "df_prediction['prediction_decision']=(df_prediction.predicted>0.5)*1"
   ]
  },
  {
   "cell_type": "code",
   "execution_count": null,
   "metadata": {
    "collapsed": false
   },
   "outputs": [],
   "source": [
    "df_prediction.observed.value_counts()"
   ]
  },
  {
   "cell_type": "code",
   "execution_count": null,
   "metadata": {
    "collapsed": false
   },
   "outputs": [],
   "source": [
    "confusion_matrix(df_prediction.observed,df_prediction.prediction_decision)"
   ]
  },
  {
   "cell_type": "code",
   "execution_count": null,
   "metadata": {
    "collapsed": false
   },
   "outputs": [],
   "source": [
    "print classification_report(df_prediction.observed,df_prediction.prediction_decision)"
   ]
  }
 ],
 "metadata": {
  "anaconda-cloud": {},
  "kernelspec": {
   "display_name": "Python [conda root]",
   "language": "python",
   "name": "conda-root-py"
  },
  "language_info": {
   "codemirror_mode": {
    "name": "ipython",
    "version": 2
   },
   "file_extension": ".py",
   "mimetype": "text/x-python",
   "name": "python",
   "nbconvert_exporter": "python",
   "pygments_lexer": "ipython2",
   "version": "2.7.12"
  }
 },
 "nbformat": 4,
 "nbformat_minor": 1
}
