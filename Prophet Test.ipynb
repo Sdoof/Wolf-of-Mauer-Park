{
 "cells": [
  {
   "cell_type": "code",
   "execution_count": 1,
   "metadata": {
    "collapsed": false
   },
   "outputs": [
    {
     "name": "stderr",
     "output_type": "stream",
     "text": [
      "/home/ramon/anaconda2/lib/python2.7/site-packages/sklearn/cross_validation.py:44: DeprecationWarning: This module was deprecated in version 0.18 in favor of the model_selection module into which all the refactored classes and functions are moved. Also note that the interface of the new CV iterators are different from that of this module. This module will be removed in 0.20.\n",
      "  \"This module will be removed in 0.20.\", DeprecationWarning)\n"
     ]
    }
   ],
   "source": [
    "%matplotlib inline\n",
    "import pandas as pd\n",
    "import numpy as np\n",
    "import seaborn as sns\n",
    "from fbprophet import Prophet\n",
    "from sklearn.cross_validation import KFold\n",
    "from service.files_service import _get_files"
   ]
  },
  {
   "cell_type": "code",
   "execution_count": 2,
   "metadata": {
    "collapsed": true
   },
   "outputs": [],
   "source": [
    "PATH = 'data/brent_wti/resampled_D/'"
   ]
  },
  {
   "cell_type": "code",
   "execution_count": 3,
   "metadata": {
    "collapsed": false
   },
   "outputs": [],
   "source": [
    "all_files = _get_files(PATH ,extension='.csv',filter_on='_H_')"
   ]
  },
  {
   "cell_type": "code",
   "execution_count": 4,
   "metadata": {
    "collapsed": false
   },
   "outputs": [],
   "source": [
    "def check_date_range(file_name):\n",
    "    df = pd.read_csv(PATH+'resampled_D/'+file_name,parse_dates=['ds'])\n",
    "    print df.ds.min(),df.ds.max()"
   ]
  },
  {
   "cell_type": "code",
   "execution_count": 5,
   "metadata": {
    "collapsed": true
   },
   "outputs": [],
   "source": [
    "def resampler(file_name):\n",
    "    df = pd.read_csv(PATH+file_name)\n",
    "    df['ds'] = pd.to_datetime(df['Time (UTC)'],format='%Y.%m.%d %H:%M:%S')\n",
    "    df = df.set_index('ds').resample('H')\n",
    "    df.to_csv(PATH+'/resampled_H_'+file_name)"
   ]
  },
  {
   "cell_type": "code",
   "execution_count": 15,
   "metadata": {
    "collapsed": false
   },
   "outputs": [],
   "source": [
    "df = pd.read_csv(PATH+all_files[0])\n",
    "#df['ds'] = pd.to_datetime(df['Time (UTC)'],format='%Y.%m.%d %H:%M:%S')\n",
    "test_range = 100"
   ]
  },
  {
   "cell_type": "code",
   "execution_count": 16,
   "metadata": {
    "collapsed": false
   },
   "outputs": [
    {
     "name": "stdout",
     "output_type": "stream",
     "text": [
      "2011-09-23 07:00:00 -- 2016-12-04 19:00:00\n",
      "2016-12-04 20:00:00 -- 2016-12-08 23:00:00\n"
     ]
    }
   ],
   "source": [
    "df_train = df[:-test_range]\n",
    "df_test = df[-test_range:]\n",
    "print df_train.ds.min(),\"--\",df_train.ds.max()\n",
    "print df_test.ds.min(),\"--\",df_test.ds.max()\n"
   ]
  },
  {
   "cell_type": "code",
   "execution_count": 17,
   "metadata": {
    "collapsed": false
   },
   "outputs": [
    {
     "name": "stderr",
     "output_type": "stream",
     "text": [
      "/home/ramon/anaconda2/lib/python2.7/site-packages/ipykernel/__main__.py:1: SettingWithCopyWarning: \n",
      "A value is trying to be set on a copy of a slice from a DataFrame.\n",
      "Try using .loc[row_indexer,col_indexer] = value instead\n",
      "\n",
      "See the caveats in the documentation: http://pandas.pydata.org/pandas-docs/stable/indexing.html#indexing-view-versus-copy\n",
      "  if __name__ == '__main__':\n"
     ]
    }
   ],
   "source": [
    "df_train['y'] = np.log(np.exp(df_train.Close))"
   ]
  },
  {
   "cell_type": "code",
   "execution_count": 18,
   "metadata": {
    "collapsed": false
   },
   "outputs": [
    {
     "data": {
      "text/plain": [
       "<fbprophet.forecaster.Prophet at 0x7f197fd62450>"
      ]
     },
     "execution_count": 18,
     "metadata": {},
     "output_type": "execute_result"
    }
   ],
   "source": [
    "m = Prophet(changepoints=None,\n",
    "            n_changepoints=25,\n",
    "            yearly_seasonality=True,\n",
    "            weekly_seasonality=True,\n",
    "            holidays=None,\n",
    "            seasonality_prior_scale=10.0,\n",
    "            holidays_prior_scale=10.0,\n",
    "            changepoint_prior_scale=0.05,\n",
    "            mcmc_samples=0,\n",
    "            interval_width=0.80,\n",
    "            uncertainty_samples=1000,)\n",
    "m.fit(df_train)"
   ]
  },
  {
   "cell_type": "code",
   "execution_count": null,
   "metadata": {
    "collapsed": false
   },
   "outputs": [],
   "source": [
    "# Python\n",
    "future = m.make_future_dataframe(periods=test_range, freq='H')"
   ]
  },
  {
   "cell_type": "code",
   "execution_count": null,
   "metadata": {
    "collapsed": false
   },
   "outputs": [],
   "source": [
    "# Python\n",
    "forecast = m.predict(future)\n",
    "forecast[['ds', 'yhat', 'yhat_lower', 'yhat_upper']].tail()"
   ]
  },
  {
   "cell_type": "code",
   "execution_count": null,
   "metadata": {
    "collapsed": false
   },
   "outputs": [],
   "source": [
    "forecast.tail(test_range).set_index('ds')['yhat'].plot(color='g')\n",
    "df_test.set_index('ds')['Close'].plot(color='r')"
   ]
  },
  {
   "cell_type": "code",
   "execution_count": null,
   "metadata": {
    "collapsed": false
   },
   "outputs": [],
   "source": [
    "# Python\n",
    "m.plot(forecast)"
   ]
  }
 ],
 "metadata": {
  "anaconda-cloud": {},
  "kernelspec": {
   "display_name": "Python [conda root]",
   "language": "python",
   "name": "conda-root-py"
  },
  "language_info": {
   "codemirror_mode": {
    "name": "ipython",
    "version": 2
   },
   "file_extension": ".py",
   "mimetype": "text/x-python",
   "name": "python",
   "nbconvert_exporter": "python",
   "pygments_lexer": "ipython2",
   "version": "2.7.12"
  }
 },
 "nbformat": 4,
 "nbformat_minor": 1
}
