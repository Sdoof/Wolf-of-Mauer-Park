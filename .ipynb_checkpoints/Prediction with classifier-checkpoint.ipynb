{
 "cells": [
  {
   "cell_type": "markdown",
   "metadata": {},
   "source": [
    "# Prediction with classifier"
   ]
  },
  {
   "cell_type": "code",
   "execution_count": 5,
   "metadata": {
    "collapsed": false
   },
   "outputs": [],
   "source": [
    "%matplotlib inline\n",
    "import pandas as pd\n",
    "from datetime import datetime\n",
    "import numpy as np\n",
    "import seaborn as sns\n",
    "#import matplotlib.pyplot as plt\n",
    "import matplotlib.pylab as pl\n",
    "import xgboost\n",
    "from model.models import TradeModel\n",
    "from sklearn.model_selection import train_test_split\n",
    "from sklearn.metrics import confusion_matrix,classification_report\n",
    "from sklearn.grid_search import GridSearchCV\n",
    "from pandas_ml import ConfusionMatrix\n",
    "from service.files_service import _get_files\n",
    "\n"
   ]
  },
  {
   "cell_type": "markdown",
   "metadata": {},
   "source": [
    "Given a df with trade features(ATR,Keltner,Donchian), forecast if the next period will close with a pip higher than 10."
   ]
  },
  {
   "cell_type": "code",
   "execution_count": 6,
   "metadata": {
    "collapsed": false
   },
   "outputs": [],
   "source": [
    "all_files = _get_files(folder = 'data/all_data/resampled_D/',extension='.csv',as_dict=True,filter_on='_D_')"
   ]
  },
  {
   "cell_type": "code",
   "execution_count": 7,
   "metadata": {
    "collapsed": false
   },
   "outputs": [],
   "source": [
    "def make_prediction(tm,date):\n",
    "    df = tm.df.copy()\n",
    "    \n",
    "    predictors =df.columns.tolist()\n",
    "    df['target']=((df.Close-df.Close.shift(-1))*10000>=10)*1\n",
    "    \n",
    "    clf = xgboost.XGBClassifier()\n",
    "    \n",
    "    df_train = df[df.index<date]\n",
    "    df_test = df[df.index==date]\n",
    "      \n",
    "    X_train,y_train = df_train[predictors].values,df_train.target.values\n",
    "    X_test, y_test  = df_test[predictors].values,df_test.target.values\n",
    "    \n",
    "    clf = cv_optimize(clf,{},X_train,y_train)\n",
    "    \n",
    "    df_test['prediction'] = clf.predict(X_test)\n",
    "    \n",
    "    score =  clf.score(X_test,y_test)\n",
    "    #print confusion_matrix(y_test,df_test['prediction'])\n",
    "    #print classification_report(y_test,df_test['prediction'], target_names=['Not pip','pip'])\n",
    "    #df_test[['prediction','target']].plot(kind='bar')\n",
    "    \n",
    "    return y_test[0],df_test['prediction'][0]\n",
    "\n",
    "def cv_optimize(clf, parameters, Xtrain, ytrain, n_folds=5):\n",
    "    gs = GridSearchCV(clf, param_grid=parameters, cv=n_folds, n_jobs=-1)\n",
    "    gs.fit(Xtrain, ytrain)\n",
    "    \n",
    "    return gs.best_estimator_    "
   ]
  },
  {
   "cell_type": "code",
   "execution_count": 8,
   "metadata": {
    "collapsed": false
   },
   "outputs": [],
   "source": [
    "def compute_confusion_matrix(tm):\n",
    "    real_result = []\n",
    "    predicted_result=[]\n",
    "    test_sample=100\n",
    "    for dt in (tm.df.tail(test_sample).index.values):\n",
    "        real,predicted = make_prediction(tm, dt)\n",
    "        real_result.append(real)\n",
    "        predicted_result.append(predicted)\n",
    "    return ConfusionMatrix(real_result, predicted_result)"
   ]
  },
  {
   "cell_type": "code",
   "execution_count": 9,
   "metadata": {
    "collapsed": false
   },
   "outputs": [
    {
     "name": "stderr",
     "output_type": "stream",
     "text": [
      "/home/ramon/anaconda2/lib/python2.7/site-packages/ipykernel/__main__.py:17: SettingWithCopyWarning: \n",
      "A value is trying to be set on a copy of a slice from a DataFrame.\n",
      "Try using .loc[row_indexer,col_indexer] = value instead\n",
      "\n",
      "See the caveats in the documentation: http://pandas.pydata.org/pandas-docs/stable/indexing.html#indexing-view-versus-copy\n"
     ]
    }
   ],
   "source": [
    "confusion_matrixes = {}\n",
    "for k,v in all_files.iteritems():\n",
    "    tm =TradeModel('data/all_data/resampled_D/'+v, name=k, datetime_col='ds')\n",
    "    confusion_matrixes[k]=compute_confusion_matrix(tm)"
   ]
  },
  {
   "cell_type": "code",
   "execution_count": 13,
   "metadata": {
    "collapsed": false
   },
   "outputs": [
    {
     "data": {
      "text/plain": [
       "Predicted   0   1  __all__\n",
       "Actual                    \n",
       "0          42  11       53\n",
       "1          15  32       47\n",
       "__all__    57  43      100"
      ]
     },
     "execution_count": 13,
     "metadata": {},
     "output_type": "execute_result"
    }
   ],
   "source": [
    "confusion_matrixes['resampled_D_BRENTCMDUSD']"
   ]
  },
  {
   "cell_type": "code",
   "execution_count": 14,
   "metadata": {
    "collapsed": true
   },
   "outputs": [],
   "source": [
    "import pickle\n",
    "pickle.dump(confusion_matrixes, open('data/confusion_matrix1.p', \"wb\"))\n"
   ]
  },
  {
   "cell_type": "code",
   "execution_count": 61,
   "metadata": {
    "collapsed": false
   },
   "outputs": [],
   "source": [
    "cmo = pickle.load(open('data/confusion_matrix1.p', \"rb\"))"
   ]
  },
  {
   "cell_type": "code",
   "execution_count": 59,
   "metadata": {
    "collapsed": false
   },
   "outputs": [
    {
     "name": "stdout",
     "output_type": "stream",
     "text": [
      "resampled_D_LIGHTCMDUSD\n",
      "Predicted   0   1  Acto\n",
      "Actual                 \n",
      "0          23  22     0\n",
      "1          11  44     1\n"
     ]
    }
   ],
   "source": [
    "for v in cmo.items():\n",
    "    print v[0]\n",
    "    print v[1].to_dataframe()\n",
    "    break"
   ]
  },
  {
   "cell_type": "code",
   "execution_count": 76,
   "metadata": {
    "collapsed": false
   },
   "outputs": [
    {
     "data": {
      "text/html": [
       "<div>\n",
       "<table border=\"1\" class=\"dataframe\">\n",
       "  <thead>\n",
       "    <tr style=\"text-align: right;\">\n",
       "      <th></th>\n",
       "      <th></th>\n",
       "      <th>0</th>\n",
       "    </tr>\n",
       "    <tr>\n",
       "      <th>Predicted</th>\n",
       "      <th></th>\n",
       "      <th></th>\n",
       "    </tr>\n",
       "  </thead>\n",
       "  <tbody>\n",
       "    <tr>\n",
       "      <th rowspan=\"2\" valign=\"top\">Actual</th>\n",
       "      <th>0</th>\n",
       "      <td>0</td>\n",
       "    </tr>\n",
       "    <tr>\n",
       "      <th>1</th>\n",
       "      <td>1</td>\n",
       "    </tr>\n",
       "    <tr>\n",
       "      <th rowspan=\"2\" valign=\"top\">0</th>\n",
       "      <th>0</th>\n",
       "      <td>23</td>\n",
       "    </tr>\n",
       "    <tr>\n",
       "      <th>1</th>\n",
       "      <td>11</td>\n",
       "    </tr>\n",
       "    <tr>\n",
       "      <th rowspan=\"2\" valign=\"top\">1</th>\n",
       "      <th>0</th>\n",
       "      <td>22</td>\n",
       "    </tr>\n",
       "    <tr>\n",
       "      <th>1</th>\n",
       "      <td>44</td>\n",
       "    </tr>\n",
       "  </tbody>\n",
       "</table>\n",
       "</div>"
      ],
      "text/plain": [
       "              0\n",
       "Predicted      \n",
       "Actual    0   0\n",
       "          1   1\n",
       "0         0  23\n",
       "          1  11\n",
       "1         0  22\n",
       "          1  44"
      ]
     },
     "execution_count": 76,
     "metadata": {},
     "output_type": "execute_result"
    }
   ],
   "source": [
    "df_test = cmo['resampled_D_LIGHTCMDUSD'].to_dataframe()\n",
    "df_test= df_test.reset_index()\n",
    "pd.DataFrame(df_test.unstack('Actual'))"
   ]
  }
 ],
 "metadata": {
  "anaconda-cloud": {},
  "kernelspec": {
   "display_name": "Python [conda root]",
   "language": "python",
   "name": "conda-root-py"
  },
  "language_info": {
   "codemirror_mode": {
    "name": "ipython",
    "version": 2
   },
   "file_extension": ".py",
   "mimetype": "text/x-python",
   "name": "python",
   "nbconvert_exporter": "python",
   "pygments_lexer": "ipython2",
   "version": "2.7.12"
  }
 },
 "nbformat": 4,
 "nbformat_minor": 1
}
