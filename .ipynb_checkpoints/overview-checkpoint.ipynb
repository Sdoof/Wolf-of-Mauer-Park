{
 "cells": [
  {
   "cell_type": "code",
   "execution_count": 1,
   "metadata": {
    "collapsed": false
   },
   "outputs": [],
   "source": [
    "%matplotlib inline \n",
    "%load_ext autoreload\n",
    "%autoreload 2\n",
    "import os\n",
    "import pandas as pd\n",
    "import logging\n",
    "from model.models import Simulator\n",
    "import service.regressor as regressor\n",
    "import pickle\n",
    "\n",
    "import service.files_service as fs\n",
    "import csv\n",
    "import datetime\n"
   ]
  },
  {
   "cell_type": "code",
   "execution_count": 2,
   "metadata": {
    "collapsed": false
   },
   "outputs": [
    {
     "name": "stdout",
     "output_type": "stream",
     "text": [
      "['Open_Ask_EURRUB', 'Open_Ask_USDRUB', 'Open_Ask_USDCAD', 'Open_Ask_LIGHTCMDUSD', 'Open_Ask_USDMXN', 'Open_Ask_EURNOK', 'Open_Ask_USDNOK', 'Open_Ask_BRENTCMDUSD']\n"
     ]
    }
   ],
   "source": [
    "df_t = pd.read_csv('data/merged_no_spread_ultralight.csv',sep=';')\n",
    "cols = df_t.columns.tolist()\n",
    "cols =  [c for c in cols if 'Open_Ask' in c and '_reg' not in c]\n",
    "print cols"
   ]
  },
  {
   "cell_type": "code",
   "execution_count": null,
   "metadata": {
    "collapsed": false
   },
   "outputs": [],
   "source": [
    "def compute(targets):\n",
    "    for target in targets:\n",
    "        for shift in range(3,6):\n",
    "            simulator = Simulator(dt_from='2011-09-29 12:00', dt_to='2011-09-29 12:30', target=target, shift=shift,fit_model=True,\n",
    "                         datasource_path='data/merged_no_spread_ultralight.csv',ticks_to_shift=[1,2,3,4,5,10,20,30])\n",
    "            regressor.dataset(simulator)\n",
    "            regressor.fit(simulator)\n",
    "            regressor.predict(simulator)\n",
    "            simulator.features_weight[:10]\n",
    "\n",
    "            df_t = simulator.predictions.df\n",
    "            df_t['pip_observed']=(df_t.observed -df_t.observed.iloc[0])*10000\n",
    "            df_t['pip_predicted'] = (df_t.predicted-df_t.observed.iloc[0])\n",
    "            df_t[['pip_observed','pip_predicted']].plot()"
   ]
  },
  {
   "cell_type": "code",
   "execution_count": null,
   "metadata": {
    "collapsed": false
   },
   "outputs": [
    {
     "name": "stderr",
     "output_type": "stream",
     "text": [
      "2016-12-26 17:27:37,626 [INFO ]  new Simulator created\n",
      "2016-12-26 17:27:37,671 [INFO ]  Start creating the dataset for Open_Ask_EURRUB\n",
      "service/train_forecast.py:78: SettingWithCopyWarning: \n",
      "A value is trying to be set on a copy of a slice from a DataFrame\n",
      "\n",
      "See the caveats in the documentation: http://pandas.pydata.org/pandas-docs/stable/indexing.html#indexing-view-versus-copy\n",
      "  simulator.target].shift(periods=-simulator.shift)\n",
      "2016-12-26 17:27:37,780 [INFO ]  Finished creating the dataset for Open_Ask_EURRUB\n",
      "2016-12-26 17:27:38,139 [INFO ]  Start fitting the model Targets : Open_Ask_EURRUB : [2011-09-29 12:00:00-2011-09-29 12:30:00]         ticks_to_shift:[1, 2, 3, 4, 5, 10, 20, 30] shift:3\n",
      "2016-12-26 17:27:38,240 [INFO ]  Start GridSearchCV...\n",
      "2016-12-26 17:37:42,413 [INFO ]  finished  fitting via GridSearchCV\n"
     ]
    },
    {
     "name": "stdout",
     "output_type": "stream",
     "text": [
      "BEST PARAMS {'reg_alpha': 0.2, 'colsample_bytree': 1, 'silent': True, 'colsample_bylevel': 1, 'scale_pos_weight': 1, 'learning_rate': 0.1, 'missing': None, 'max_delta_step': 0, 'nthread': -1, 'base_score': 0.5, 'n_estimators': 200, 'subsample': 1, 'reg_lambda': 1, 'seed': 0, 'min_child_weight': 1, 'objective': 'reg:linear', 'max_depth': 30, 'gamma': 0}\n"
     ]
    },
    {
     "name": "stderr",
     "output_type": "stream",
     "text": [
      "2016-12-26 17:37:42,927 [INFO ]  R2 = -0.784602377025\n",
      "2016-12-26 17:37:43,070 [INFO ]  new Simulator created\n",
      "2016-12-26 17:37:43,162 [INFO ]  Start creating the dataset for Open_Ask_EURRUB\n",
      "2016-12-26 17:37:43,305 [INFO ]  Finished creating the dataset for Open_Ask_EURRUB\n",
      "2016-12-26 17:37:43,706 [INFO ]  Start fitting the model Targets : Open_Ask_EURRUB : [2011-09-29 12:00:00-2011-09-29 12:30:00]         ticks_to_shift:[1, 2, 3, 4, 5, 10, 20, 30] shift:3\n",
      "2016-12-26 17:37:43,820 [INFO ]  Start GridSearchCV...\n"
     ]
    }
   ],
   "source": [
    "compute(cols)"
   ]
  }
 ],
 "metadata": {
  "anaconda-cloud": {},
  "kernelspec": {
   "display_name": "Python [default]",
   "language": "python",
   "name": "python2"
  },
  "language_info": {
   "codemirror_mode": {
    "name": "ipython",
    "version": 2
   },
   "file_extension": ".py",
   "mimetype": "text/x-python",
   "name": "python",
   "nbconvert_exporter": "python",
   "pygments_lexer": "ipython2",
   "version": "2.7.12"
  }
 },
 "nbformat": 4,
 "nbformat_minor": 1
}
