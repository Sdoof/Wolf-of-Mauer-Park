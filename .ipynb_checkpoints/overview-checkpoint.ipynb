{
 "cells": [
  {
   "cell_type": "code",
   "execution_count": 1,
   "metadata": {
    "collapsed": false
   },
   "outputs": [],
   "source": [
    "%matplotlib inline \n",
    "%load_ext autoreload\n",
    "%autoreload 2\n",
    "import os\n",
    "import pandas as pd\n",
    "import seaborn as sns\n",
    "from model.models import Simulator\n",
    "import service.predictions as predictions\n",
    "import pickle\n",
    "import service.files_service as fs\n",
    "import csv"
   ]
  },
  {
   "cell_type": "code",
   "execution_count": 5,
   "metadata": {
    "collapsed": false
   },
   "outputs": [],
   "source": [
    "simulator = Simulator(dt_from='2016-12-01 8:00',dt_to='2016-12-01 8:10',targets=['Close_Ask_EURRUB'],\n",
    "                       shift=3, fit_model=False)"
   ]
  },
  {
   "cell_type": "code",
   "execution_count": 6,
   "metadata": {
    "collapsed": false
   },
   "outputs": [
    {
     "name": "stderr",
     "output_type": "stream",
     "text": [
      "2016-12-16 17:37:05,364 [INFO ]  compute prediction for Close_Ask_EURRUB : {'to': datetime.datetime(2016, 12, 1, 8, 10), 'from': datetime.datetime(2016, 12, 1, 8, 0)}\n"
     ]
    }
   ],
   "source": [
    "predictions.compute_and_pickle(simulator,dataset_path='data/brent_wti/ask_bid/transformed/EURRUB/merged/merged.csv')"
   ]
  },
  {
   "cell_type": "code",
   "execution_count": null,
   "metadata": {
    "collapsed": true
   },
   "outputs": [],
   "source": []
  }
 ],
 "metadata": {
  "anaconda-cloud": {},
  "kernelspec": {
   "display_name": "Python [default]",
   "language": "python",
   "name": "python2"
  },
  "language_info": {
   "codemirror_mode": {
    "name": "ipython",
    "version": 2
   },
   "file_extension": ".py",
   "mimetype": "text/x-python",
   "name": "python",
   "nbconvert_exporter": "python",
   "pygments_lexer": "ipython2",
   "version": "2.7.12"
  }
 },
 "nbformat": 4,
 "nbformat_minor": 1
}
