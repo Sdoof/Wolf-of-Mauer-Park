{
 "cells": [
  {
   "cell_type": "code",
   "execution_count": 66,
   "metadata": {
    "collapsed": false
   },
   "outputs": [
    {
     "name": "stdout",
     "output_type": "stream",
     "text": [
      "The autoreload extension is already loaded. To reload it, use:\n",
      "  %reload_ext autoreload\n"
     ]
    }
   ],
   "source": [
    "%matplotlib inline \n",
    "%load_ext autoreload\n",
    "%autoreload 2\n",
    "import os\n",
    "import pandas as pd\n",
    "import logging\n",
    "from model.models import Simulator\n",
    "import service.regressor as regressor\n",
    "import pickle\n",
    "import service.files_service as fs\n",
    "import csv"
   ]
  },
  {
   "cell_type": "code",
   "execution_count": 14,
   "metadata": {
    "collapsed": true
   },
   "outputs": [],
   "source": [
    "df_t = pd.read_csv('data/merged_no_spread_light.csv',sep=';')"
   ]
  },
  {
   "cell_type": "code",
   "execution_count": 56,
   "metadata": {
    "collapsed": false
   },
   "outputs": [
    {
     "name": "stdout",
     "output_type": "stream",
     "text": [
      "21\n"
     ]
    }
   ],
   "source": [
    "cols = [col for col in df_t.columns.tolist() if (('Unnamed' not in col or 'USD' not in col) and( 'Open_Ask'  in col  or 'cal' in col))]\n",
    "df_t2 = df_t[cols]\n",
    "print len(df_t2.columns)\n",
    "df_t2.to_csv('data/merged_no_spread_ultralight.csv',sep=';')"
   ]
  },
  {
   "cell_type": "code",
   "execution_count": 58,
   "metadata": {
    "collapsed": false
   },
   "outputs": [
    {
     "data": {
      "text/html": [
       "<div>\n",
       "<table border=\"1\" class=\"dataframe\">\n",
       "  <thead>\n",
       "    <tr style=\"text-align: right;\">\n",
       "      <th></th>\n",
       "      <th>cal_time</th>\n",
       "      <th>Open_Ask_EURRUB</th>\n",
       "      <th>Open_Ask_USDRUB</th>\n",
       "      <th>Open_Ask_USDCAD</th>\n",
       "      <th>Open_Ask_LIGHTCMDUSD</th>\n",
       "      <th>Open_Ask_USDMXN</th>\n",
       "      <th>Open_Ask_EURNOK</th>\n",
       "      <th>Open_Ask_USDNOK</th>\n",
       "      <th>Open_Ask_BRENTCMDUSD</th>\n",
       "      <th>cal_hour</th>\n",
       "      <th>...</th>\n",
       "      <th>cal_dayofweek</th>\n",
       "      <th>cal_dayofyear</th>\n",
       "      <th>Open_Ask_EURRUB_reg</th>\n",
       "      <th>Open_Ask_USDRUB_reg</th>\n",
       "      <th>Open_Ask_USDCAD_reg</th>\n",
       "      <th>Open_Ask_LIGHTCMDUSD_reg</th>\n",
       "      <th>Open_Ask_USDMXN_reg</th>\n",
       "      <th>Open_Ask_EURNOK_reg</th>\n",
       "      <th>Open_Ask_USDNOK_reg</th>\n",
       "      <th>Open_Ask_BRENTCMDUSD_reg</th>\n",
       "    </tr>\n",
       "  </thead>\n",
       "  <tbody>\n",
       "    <tr>\n",
       "      <th>0</th>\n",
       "      <td>2011-09-23 07:09:00</td>\n",
       "      <td>43.37191</td>\n",
       "      <td>32.11331</td>\n",
       "      <td>1.02590</td>\n",
       "      <td>80.66</td>\n",
       "      <td>13.90060</td>\n",
       "      <td>7.84335</td>\n",
       "      <td>5.80184</td>\n",
       "      <td>105.781</td>\n",
       "      <td>7</td>\n",
       "      <td>...</td>\n",
       "      <td>4</td>\n",
       "      <td>266</td>\n",
       "      <td>-0.747274</td>\n",
       "      <td>-0.815173</td>\n",
       "      <td>-0.843176</td>\n",
       "      <td>0.181000</td>\n",
       "      <td>-0.328009</td>\n",
       "      <td>-0.689701</td>\n",
       "      <td>-0.891706</td>\n",
       "      <td>0.689287</td>\n",
       "    </tr>\n",
       "    <tr>\n",
       "      <th>1</th>\n",
       "      <td>2011-09-23 07:10:00</td>\n",
       "      <td>43.36161</td>\n",
       "      <td>32.12177</td>\n",
       "      <td>1.02584</td>\n",
       "      <td>80.71</td>\n",
       "      <td>13.91499</td>\n",
       "      <td>7.84255</td>\n",
       "      <td>5.80290</td>\n",
       "      <td>105.783</td>\n",
       "      <td>7</td>\n",
       "      <td>...</td>\n",
       "      <td>4</td>\n",
       "      <td>266</td>\n",
       "      <td>-0.747980</td>\n",
       "      <td>-0.814637</td>\n",
       "      <td>-0.843625</td>\n",
       "      <td>0.183010</td>\n",
       "      <td>-0.321508</td>\n",
       "      <td>-0.690812</td>\n",
       "      <td>-0.890772</td>\n",
       "      <td>0.689355</td>\n",
       "    </tr>\n",
       "    <tr>\n",
       "      <th>2</th>\n",
       "      <td>2011-09-23 07:11:00</td>\n",
       "      <td>43.36351</td>\n",
       "      <td>32.11577</td>\n",
       "      <td>1.02585</td>\n",
       "      <td>80.69</td>\n",
       "      <td>13.91620</td>\n",
       "      <td>7.84402</td>\n",
       "      <td>5.80302</td>\n",
       "      <td>105.795</td>\n",
       "      <td>7</td>\n",
       "      <td>...</td>\n",
       "      <td>4</td>\n",
       "      <td>266</td>\n",
       "      <td>-0.747850</td>\n",
       "      <td>-0.815017</td>\n",
       "      <td>-0.843550</td>\n",
       "      <td>0.182206</td>\n",
       "      <td>-0.320962</td>\n",
       "      <td>-0.688770</td>\n",
       "      <td>-0.890666</td>\n",
       "      <td>0.689762</td>\n",
       "    </tr>\n",
       "    <tr>\n",
       "      <th>3</th>\n",
       "      <td>2011-09-23 07:12:00</td>\n",
       "      <td>43.39175</td>\n",
       "      <td>32.11914</td>\n",
       "      <td>1.02594</td>\n",
       "      <td>80.64</td>\n",
       "      <td>13.91313</td>\n",
       "      <td>7.84386</td>\n",
       "      <td>5.80362</td>\n",
       "      <td>105.723</td>\n",
       "      <td>7</td>\n",
       "      <td>...</td>\n",
       "      <td>4</td>\n",
       "      <td>266</td>\n",
       "      <td>-0.745915</td>\n",
       "      <td>-0.814804</td>\n",
       "      <td>-0.842877</td>\n",
       "      <td>0.180197</td>\n",
       "      <td>-0.322348</td>\n",
       "      <td>-0.688992</td>\n",
       "      <td>-0.890138</td>\n",
       "      <td>0.687318</td>\n",
       "    </tr>\n",
       "    <tr>\n",
       "      <th>4</th>\n",
       "      <td>2011-09-23 07:13:00</td>\n",
       "      <td>43.37011</td>\n",
       "      <td>32.12046</td>\n",
       "      <td>1.02588</td>\n",
       "      <td>80.70</td>\n",
       "      <td>13.92211</td>\n",
       "      <td>7.84445</td>\n",
       "      <td>5.80328</td>\n",
       "      <td>105.734</td>\n",
       "      <td>7</td>\n",
       "      <td>...</td>\n",
       "      <td>4</td>\n",
       "      <td>266</td>\n",
       "      <td>-0.747398</td>\n",
       "      <td>-0.814720</td>\n",
       "      <td>-0.843326</td>\n",
       "      <td>0.182608</td>\n",
       "      <td>-0.318292</td>\n",
       "      <td>-0.688173</td>\n",
       "      <td>-0.890437</td>\n",
       "      <td>0.687692</td>\n",
       "    </tr>\n",
       "  </tbody>\n",
       "</table>\n",
       "<p>5 rows × 21 columns</p>\n",
       "</div>"
      ],
      "text/plain": [
       "              cal_time  Open_Ask_EURRUB  Open_Ask_USDRUB  Open_Ask_USDCAD  \\\n",
       "0  2011-09-23 07:09:00         43.37191         32.11331          1.02590   \n",
       "1  2011-09-23 07:10:00         43.36161         32.12177          1.02584   \n",
       "2  2011-09-23 07:11:00         43.36351         32.11577          1.02585   \n",
       "3  2011-09-23 07:12:00         43.39175         32.11914          1.02594   \n",
       "4  2011-09-23 07:13:00         43.37011         32.12046          1.02588   \n",
       "\n",
       "   Open_Ask_LIGHTCMDUSD  Open_Ask_USDMXN  Open_Ask_EURNOK  Open_Ask_USDNOK  \\\n",
       "0                 80.66         13.90060          7.84335          5.80184   \n",
       "1                 80.71         13.91499          7.84255          5.80290   \n",
       "2                 80.69         13.91620          7.84402          5.80302   \n",
       "3                 80.64         13.91313          7.84386          5.80362   \n",
       "4                 80.70         13.92211          7.84445          5.80328   \n",
       "\n",
       "   Open_Ask_BRENTCMDUSD  cal_hour            ...             cal_dayofweek  \\\n",
       "0               105.781         7            ...                         4   \n",
       "1               105.783         7            ...                         4   \n",
       "2               105.795         7            ...                         4   \n",
       "3               105.723         7            ...                         4   \n",
       "4               105.734         7            ...                         4   \n",
       "\n",
       "   cal_dayofyear  Open_Ask_EURRUB_reg  Open_Ask_USDRUB_reg  \\\n",
       "0            266            -0.747274            -0.815173   \n",
       "1            266            -0.747980            -0.814637   \n",
       "2            266            -0.747850            -0.815017   \n",
       "3            266            -0.745915            -0.814804   \n",
       "4            266            -0.747398            -0.814720   \n",
       "\n",
       "   Open_Ask_USDCAD_reg  Open_Ask_LIGHTCMDUSD_reg  Open_Ask_USDMXN_reg  \\\n",
       "0            -0.843176                  0.181000            -0.328009   \n",
       "1            -0.843625                  0.183010            -0.321508   \n",
       "2            -0.843550                  0.182206            -0.320962   \n",
       "3            -0.842877                  0.180197            -0.322348   \n",
       "4            -0.843326                  0.182608            -0.318292   \n",
       "\n",
       "   Open_Ask_EURNOK_reg  Open_Ask_USDNOK_reg  Open_Ask_BRENTCMDUSD_reg  \n",
       "0            -0.689701            -0.891706                  0.689287  \n",
       "1            -0.690812            -0.890772                  0.689355  \n",
       "2            -0.688770            -0.890666                  0.689762  \n",
       "3            -0.688992            -0.890138                  0.687318  \n",
       "4            -0.688173            -0.890437                  0.687692  \n",
       "\n",
       "[5 rows x 21 columns]"
      ]
     },
     "execution_count": 58,
     "metadata": {},
     "output_type": "execute_result"
    }
   ],
   "source": [
    "df_t2.head()"
   ]
  },
  {
   "cell_type": "code",
   "execution_count": 59,
   "metadata": {
    "collapsed": false
   },
   "outputs": [
    {
     "name": "stderr",
     "output_type": "stream",
     "text": [
      "2016-12-23 11:23:14,749 [INFO ]  new Simulator created\n"
     ]
    }
   ],
   "source": [
    "simulator = Simulator(dt_from='2011-09-29 10:00', dt_to='2011-09-29 10:10', targets=['Open_Ask_USDMXN'], shift=3, fit_model=False,\n",
    "                     datasource_path='data/merged_no_spread_ultralight.csv')"
   ]
  },
  {
   "cell_type": "code",
   "execution_count": 60,
   "metadata": {
    "collapsed": false
   },
   "outputs": [
    {
     "name": "stderr",
     "output_type": "stream",
     "text": [
      "2016-12-23 11:23:16,509 [INFO ]  Start fitting the model Targets : ['Open_Ask_USDMXN'] : [2011-09-29 10:00:00-2011-09-29 10:10:00]         steps:10 shift:3\n",
      "2016-12-23 11:23:16,584 [INFO ]  Start creating the dataset for Open_Ask_USDMXN\n",
      "2016-12-23 11:23:16,595 [INFO ]  Finished creating the dataset for Open_Ask_USDMXN\n",
      "2016-12-23 11:23:16,671 [INFO ]  Start GridSearchCV...\n",
      "2016-12-23 11:24:38,002 [INFO ]  finished  fitting via GridSearchCV\n"
     ]
    },
    {
     "name": "stdout",
     "output_type": "stream",
     "text": [
      "BEST PARAMS {'reg_alpha': 0.2, 'colsample_bytree': 1, 'silent': True, 'colsample_bylevel': 1, 'scale_pos_weight': 1, 'learning_rate': 0.1, 'missing': None, 'max_delta_step': 0, 'nthread': -1, 'base_score': 0.5, 'n_estimators': 200, 'subsample': 1, 'reg_lambda': 1, 'seed': 0, 'min_child_weight': 1, 'objective': 'reg:linear', 'max_depth': 30, 'gamma': 0}\n"
     ]
    }
   ],
   "source": [
    "regressor.create_dataset_and_fit(simulator)"
   ]
  },
  {
   "cell_type": "code",
   "execution_count": 68,
   "metadata": {
    "collapsed": false
   },
   "outputs": [],
   "source": [
    "regressor.predict(simulator,'Open_Ask_USDMXN')"
   ]
  },
  {
   "cell_type": "code",
   "execution_count": 70,
   "metadata": {
    "collapsed": false
   },
   "outputs": [
    {
     "data": {
      "text/plain": [
       "<matplotlib.axes._subplots.AxesSubplot at 0x7fe413ddcad0>"
      ]
     },
     "execution_count": 70,
     "metadata": {},
     "output_type": "execute_result"
    },
    {
     "data": {
      "image/png": "[encoded data removed]",
      "text/plain": [
       "<matplotlib.figure.Figure at 0x7fe413c8d790>"
      ]
     },
     "metadata": {},
     "output_type": "display_data"
    }
   ],
   "source": [
    "simulator.predictions['Open_Ask_USDMXN'][0].df.plot()"
   ]
  }
 ],
 "metadata": {
  "anaconda-cloud": {},
  "kernelspec": {
   "display_name": "Python [default]",
   "language": "python",
   "name": "python2"
  },
  "language_info": {
   "codemirror_mode": {
    "name": "ipython",
    "version": 2
   },
   "file_extension": ".py",
   "mimetype": "text/x-python",
   "name": "python",
   "nbconvert_exporter": "python",
   "pygments_lexer": "ipython2",
   "version": "2.7.12"
  }
 },
 "nbformat": 4,
 "nbformat_minor": 1
}
