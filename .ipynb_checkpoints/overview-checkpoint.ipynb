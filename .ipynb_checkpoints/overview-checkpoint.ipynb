{
 "cells": [
  {
   "cell_type": "code",
   "execution_count": 19,
   "metadata": {
    "collapsed": false
   },
   "outputs": [],
   "source": [
    "%matplotlib inline \n",
    "import os\n",
    "import numpy as np\n",
    "import pandas as pd\n",
    "from datetime import datetime\n",
    "import matplotlib.pyplot as plt\n",
    "import seaborn as sns\n",
    "\n",
    "from sklearn.cross_validation import train_test_split\n",
    "from sklearn.grid_search import GridSearchCV\n",
    "from sklearn.ensemble.forest import RandomForestRegressor\n",
    "from sklearn.metrics import accuracy_score\n",
    "import xgboost"
   ]
  },
  {
   "cell_type": "code",
   "execution_count": 20,
   "metadata": {
    "collapsed": false
   },
   "outputs": [
    {
     "name": "stdout",
     "output_type": "stream",
     "text": [
      "['EURUSD_UTC_Ticks_Bid_2016.08.02_2016.11.22.csv', 'GBPUSD_UTC_Ticks_Bid_2016.08.02_2016.11.22.csv', 'EURGBP_UTC_Ticks_Bid_2016.08.02_2016.11.22.csv']\n"
     ]
    }
   ],
   "source": [
    "files =  [filo for filo in os.listdir(\"data\") if \".csv\" in filo]\n",
    "print files\n",
    "\n",
    "def read_chunk(file_name, chunksize=1000000, resample=None):\n",
    "    print resample\n",
    "    chunks = pd.read_csv(\"data/\"+file_name,parse_dates=['Time (UTC)'], chunksize=chunksize)\n",
    "    df = pd.DataFrame()\n",
    "    for _ in chunks:\n",
    "        _.rename(columns={'Time (UTC)':'Time'}, inplace=True)\n",
    "        _.rename(columns={'BidVolume ':'BidVolume'}, inplace=True)\n",
    "        _.set_index('Time', inplace=True)\n",
    "        _ = _.resample(resample).mean()\n",
    "        _['spread']=_['Ask']-_['Bid']\n",
    "        _['spread_volume']=_['AskVolume']-_['BidVolume']\n",
    "        df = pd.concat([df,_],axis=0)\n",
    "        \n",
    "       \n",
    "    df.to_csv('data/resampled/'+file_name.split(\".csv\")[0]+\"_resampled_\"+resample+'.csv')"
   ]
  },
  {
   "cell_type": "code",
   "execution_count": 21,
   "metadata": {
    "collapsed": false
   },
   "outputs": [],
   "source": [
    "def create_file(resample=None):\n",
    "    for filo in files:\n",
    "        read_chunk(file_name=filo,resample=resample)\n",
    "        \n",
    "def combine_files(resample=None):\n",
    "    onlyfiles = [f for f in os.listdir('data/resampled/') if os.path.isfile(os.path.join('data/resampled/', f))]\n",
    "    onlyfiles= [filo for filo in onlyfiles if \"_\"+ resample+\".csv\" in filo]\n",
    "    \n",
    "    df_all = pd.DataFrame()\n",
    "    for filo in onlyfiles:\n",
    "        df=pd.read_csv(os.path.join('data/resampled/', filo),parse_dates=['Time'],index_col=0)\n",
    "        df.columns = [col+\"_\"+filo[:6] for col in df.columns.tolist()]\n",
    "        df.reset_index() \n",
    "        \n",
    "        try:\n",
    "            df_all = pd.merge(df.reset_index(),df_all, on='Time', how='outer')\n",
    "        except KeyError:\n",
    "            df_all = df.reset_index()\n",
    "    return df_all\n",
    "\n",
    "def add_calendar_data(df):\n",
    "    df['cal_hour']= df.Time.dt.hour\n",
    "    df['cal_minute'] = df.Time.dt.minute\n",
    "    df['cal_dayofweek']= df.Time.dt.dayofweek\n",
    "    df['cal_dayofyear']= df.Time.dt.dayofyear\n",
    "    df.rename(columns={'Time':'cal_time'}, inplace=True)\n",
    "    \n",
    "\n",
    "def split_data_on_date(df,date_str):\n",
    "    date_until = datetime.strptime(date_str, '%Y-%m-%d')\n",
    "\n",
    "    training_df = df[df.cal_time<date_until]\n",
    "    forecast_df = df[df.cal_time>=date_until]\n",
    "    return training_df,forecast_df\n",
    "\n",
    "\n",
    "def regularize(df):\n",
    "    reg_col = [col for col in df.columns.tolist() if not \"cal_\" in col]\n",
    "    for col in reg_col:\n",
    "        df[col+\"_reg\"] = (df[col]-df[col].mean())/df[col].std()\n",
    "    \n",
    "\n",
    "def create_dataset(df, target, until_date):\n",
    "    X_y_dict ={}\n",
    "    training_df,forecast_df = split_data_on_date(df,until_date)\n",
    "    \n",
    "    \n",
    "    features_col = [col for col in df.columns if (\"reg\" in col or \"cal_\" in col)]\n",
    "    features_col = [col for col in features_col if target.split('_')[1] not in col]\n",
    "    print features_col\n",
    "    \n",
    "    \n",
    "    features_col.remove('cal_time')\n",
    "    print features_col\n",
    "    X_y_dict['training_X'] = training_df[features_col].values\n",
    "    X_y_dict['training_y'] =  training_df[target].values\n",
    "    \n",
    "    X_y_dict['forecast_X'] = forecast_df[features_col].values\n",
    "    \n",
    "    X_y_dict['observed_y'] =  forecast_df[target].values\n",
    "    \n",
    "    X_y_dict['label_training'] = training_df.cal_time.values\n",
    "    X_y_dict['label_forecast'] = forecast_df.cal_time.values\n",
    "    \n",
    "    X_y_dict['features_names'] = features_col\n",
    "    \n",
    "    return X_y_dict"
   ]
  },
  {
   "cell_type": "code",
   "execution_count": 38,
   "metadata": {
    "collapsed": false
   },
   "outputs": [
    {
     "name": "stdout",
     "output_type": "stream",
     "text": [
      "10Min\n",
      "10Min\n",
      "10Min\n",
      "['cal_time', 'cal_hour', 'cal_minute', 'cal_dayofweek', 'cal_dayofyear', 'Ask_GBPUSD_reg', 'Bid_GBPUSD_reg', 'AskVolume_GBPUSD_reg', 'BidVolume_GBPUSD_reg', 'spread_GBPUSD_reg', 'spread_volume_GBPUSD_reg', 'Ask_EURUSD_reg', 'Bid_EURUSD_reg', 'AskVolume_EURUSD_reg', 'BidVolume_EURUSD_reg', 'spread_EURUSD_reg', 'spread_volume_EURUSD_reg']\n",
      "['cal_hour', 'cal_minute', 'cal_dayofweek', 'cal_dayofyear', 'Ask_GBPUSD_reg', 'Bid_GBPUSD_reg', 'AskVolume_GBPUSD_reg', 'BidVolume_GBPUSD_reg', 'spread_GBPUSD_reg', 'spread_volume_GBPUSD_reg', 'Ask_EURUSD_reg', 'Bid_EURUSD_reg', 'AskVolume_EURUSD_reg', 'BidVolume_EURUSD_reg', 'spread_EURUSD_reg', 'spread_volume_EURUSD_reg']\n"
     ]
    }
   ],
   "source": [
    "#create_file(resample='10Min')\n",
    "df = combine_files(resample='10Min')\n",
    "add_calendar_data(df)\n",
    "regularize(df)\n",
    "df = df[pd.notnull(df.Ask_EURGBP)]\n",
    "df = df[pd.notnull(df.Ask_GBPUSD)]\n",
    "df = df[pd.notnull(df.Ask_EURUSD)]\n",
    "dataset = create_dataset(df,'Ask_EURGBP',\"2016-11-18\")\n",
    "\n"
   ]
  },
  {
   "cell_type": "code",
   "execution_count": 39,
   "metadata": {
    "collapsed": false
   },
   "outputs": [],
   "source": [
    "def cv_optimize(clf, parameters, X, y, n_jobs=1, n_folds=5, score_func=None):\n",
    "    if score_func:\n",
    "        gs = GridSearchCV(clf, param_grid=parameters,\n",
    "                          cv=n_folds, n_jobs=n_jobs, scoring=score_func)\n",
    "    else:\n",
    "        gs = GridSearchCV(clf, param_grid=parameters,\n",
    "                          n_jobs=n_jobs, cv=n_folds)\n",
    "    gs.fit(X, y)\n",
    "    print \"BEST\", gs.best_params_, gs.best_score_, gs.grid_scores_\n",
    "    best = gs.best_estimator_\n",
    "    return best\n",
    "\n",
    "\n",
    "def do_classify(clf, parameters, X, y,\n",
    "                mask=None, score_func=None, n_folds=10, n_jobs=1):\n",
    "    # remove index and idbldsite\n",
    "\n",
    "    Xtrain, Xtest, ytrain, ytest = train_test_split(X, y,\n",
    "                                                    test_size=0.2)\n",
    "    clf = cv_optimize(clf, parameters, Xtrain, ytrain,\n",
    "                      n_jobs=n_jobs, n_folds=n_folds,\n",
    "                      score_func=score_func)\n",
    "    clf = clf.fit(Xtrain, ytrain)\n",
    "    training_accuracy = clf.score(Xtrain, ytrain)\n",
    "    test_accuracy = clf.score(Xtest, ytest)\n",
    "\n",
    "    print \"############# based on standard predict ################\"\n",
    "    print \"Accuracy on training data: %0.2f\" % (training_accuracy)\n",
    "    print \"Accuracy on test data:     %0.2f\" % (test_accuracy)\n",
    "    print \"########################################################\"\n",
    "    print \"Features importance : \", clf.feature_importances_\n",
    "    return clf, Xtrain, ytrain, Xtest, ytest, test_accuracy\n",
    "\n",
    "\n",
    "def get_features_importance(clf, features):\n",
    "    features_weighted = zip(features, clf.feature_importances_)\n",
    "    features_weighted.sort(key=lambda tup: tup[1], reverse=True)\n",
    "\n",
    "    feat_list = []\n",
    "    for name, weight in features_weighted:\n",
    "        feat_dict = {\"name\": name, \"weight\": weight}\n",
    "        feat_list.append(feat_dict)\n",
    "\n",
    "    return feat_list[:10]\n",
    "\n",
    "def make_prediction(label, dataset):\n",
    "        \n",
    "        clf_RDM = {'params': {'n_estimators': [300], 'bootstrap': [\n",
    "            True], 'criterion': ['mse']}, 'clf': RandomForestRegressor()}\n",
    "\n",
    "        clf = clf_RDM['clf']\n",
    "        params = clf_RDM['params']\n",
    "        clf_rdm, Xtrain, ytrain, Xtest, ytest, r2 = \\\n",
    "            do_classify(clf, params, dataset['training_X'], dataset['training_y'])\n",
    "\n",
    "        prediction = clf_rdm.predict(dataset['forecast_X'])\n",
    "        \n",
    "\n",
    "        prediction_df  = pd.DataFrame({'predicted':prediction,'observed':dataset['observed_y']}\n",
    "            , index=dataset['label_forecast'])\n",
    "\n",
    "        df_features = pd.DataFrame({'feature':dataset['features_names'],'weight':clf_rdm.feature_importances_})\n",
    "        return prediction_df, df_features\n",
    "\n",
    "        \n"
   ]
  },
  {
   "cell_type": "code",
   "execution_count": 40,
   "metadata": {
    "collapsed": false
   },
   "outputs": [
    {
     "name": "stdout",
     "output_type": "stream",
     "text": [
      "BEST {'n_estimators': 300, 'bootstrap': True, 'criterion': 'mse'} 0.999665413642 [mean: 0.99967, std: 0.00005, params: {'n_estimators': 300, 'bootstrap': True, 'criterion': 'mse'}]\n",
      "############# based on standard predict ################\n",
      "Accuracy on training data: 1.00\n",
      "Accuracy on test data:     1.00\n",
      "########################################################\n",
      "Features importance :  [  4.00725378e-04   4.29001144e-06   1.25062858e-04   1.39139089e-01\n",
      "   3.31787670e-01   4.98187625e-01   2.11574878e-05   2.02357292e-05\n",
      "   7.44959136e-05   1.00432632e-05   1.51943527e-02   1.49289235e-02\n",
      "   2.14990140e-05   1.61053839e-05   5.74673806e-05   1.12583203e-05]\n"
     ]
    }
   ],
   "source": [
    "prediction,features = make_prediction('Ask_EURGBP',dataset)"
   ]
  },
  {
   "cell_type": "code",
   "execution_count": 41,
   "metadata": {
    "collapsed": false
   },
   "outputs": [
    {
     "data": {
      "text/html": [
       "<div>\n",
       "<table border=\"1\" class=\"dataframe\">\n",
       "  <thead>\n",
       "    <tr style=\"text-align: right;\">\n",
       "      <th></th>\n",
       "      <th>feature</th>\n",
       "      <th>weight</th>\n",
       "    </tr>\n",
       "  </thead>\n",
       "  <tbody>\n",
       "    <tr>\n",
       "      <th>0</th>\n",
       "      <td>cal_hour</td>\n",
       "      <td>0.000401</td>\n",
       "    </tr>\n",
       "    <tr>\n",
       "      <th>1</th>\n",
       "      <td>cal_minute</td>\n",
       "      <td>0.000004</td>\n",
       "    </tr>\n",
       "    <tr>\n",
       "      <th>2</th>\n",
       "      <td>cal_dayofweek</td>\n",
       "      <td>0.000125</td>\n",
       "    </tr>\n",
       "    <tr>\n",
       "      <th>3</th>\n",
       "      <td>cal_dayofyear</td>\n",
       "      <td>0.139139</td>\n",
       "    </tr>\n",
       "    <tr>\n",
       "      <th>4</th>\n",
       "      <td>Ask_GBPUSD_reg</td>\n",
       "      <td>0.331788</td>\n",
       "    </tr>\n",
       "    <tr>\n",
       "      <th>5</th>\n",
       "      <td>Bid_GBPUSD_reg</td>\n",
       "      <td>0.498188</td>\n",
       "    </tr>\n",
       "    <tr>\n",
       "      <th>6</th>\n",
       "      <td>AskVolume_GBPUSD_reg</td>\n",
       "      <td>0.000021</td>\n",
       "    </tr>\n",
       "    <tr>\n",
       "      <th>7</th>\n",
       "      <td>BidVolume_GBPUSD_reg</td>\n",
       "      <td>0.000020</td>\n",
       "    </tr>\n",
       "    <tr>\n",
       "      <th>8</th>\n",
       "      <td>spread_GBPUSD_reg</td>\n",
       "      <td>0.000074</td>\n",
       "    </tr>\n",
       "    <tr>\n",
       "      <th>9</th>\n",
       "      <td>spread_volume_GBPUSD_reg</td>\n",
       "      <td>0.000010</td>\n",
       "    </tr>\n",
       "    <tr>\n",
       "      <th>10</th>\n",
       "      <td>Ask_EURUSD_reg</td>\n",
       "      <td>0.015194</td>\n",
       "    </tr>\n",
       "    <tr>\n",
       "      <th>11</th>\n",
       "      <td>Bid_EURUSD_reg</td>\n",
       "      <td>0.014929</td>\n",
       "    </tr>\n",
       "    <tr>\n",
       "      <th>12</th>\n",
       "      <td>AskVolume_EURUSD_reg</td>\n",
       "      <td>0.000021</td>\n",
       "    </tr>\n",
       "    <tr>\n",
       "      <th>13</th>\n",
       "      <td>BidVolume_EURUSD_reg</td>\n",
       "      <td>0.000016</td>\n",
       "    </tr>\n",
       "    <tr>\n",
       "      <th>14</th>\n",
       "      <td>spread_EURUSD_reg</td>\n",
       "      <td>0.000057</td>\n",
       "    </tr>\n",
       "    <tr>\n",
       "      <th>15</th>\n",
       "      <td>spread_volume_EURUSD_reg</td>\n",
       "      <td>0.000011</td>\n",
       "    </tr>\n",
       "  </tbody>\n",
       "</table>\n",
       "</div>"
      ],
      "text/plain": [
       "                     feature    weight\n",
       "0                   cal_hour  0.000401\n",
       "1                 cal_minute  0.000004\n",
       "2              cal_dayofweek  0.000125\n",
       "3              cal_dayofyear  0.139139\n",
       "4             Ask_GBPUSD_reg  0.331788\n",
       "5             Bid_GBPUSD_reg  0.498188\n",
       "6       AskVolume_GBPUSD_reg  0.000021\n",
       "7       BidVolume_GBPUSD_reg  0.000020\n",
       "8          spread_GBPUSD_reg  0.000074\n",
       "9   spread_volume_GBPUSD_reg  0.000010\n",
       "10            Ask_EURUSD_reg  0.015194\n",
       "11            Bid_EURUSD_reg  0.014929\n",
       "12      AskVolume_EURUSD_reg  0.000021\n",
       "13      BidVolume_EURUSD_reg  0.000016\n",
       "14         spread_EURUSD_reg  0.000057\n",
       "15  spread_volume_EURUSD_reg  0.000011"
      ]
     },
     "execution_count": 41,
     "metadata": {},
     "output_type": "execute_result"
    }
   ],
   "source": [
    "features"
   ]
  },
  {
   "cell_type": "code",
   "execution_count": 58,
   "metadata": {
    "collapsed": false
   },
   "outputs": [
    {
     "name": "stdout",
     "output_type": "stream",
     "text": [
      "                     Ask_GBPUSD  Bid_GBPUSD  AskVolume_GBPUSD  \\\n",
      "cal_time                                                        \n",
      "2016-08-02 00:00:00    1.318932    1.318791          1.747933   \n",
      "2016-08-02 00:10:00    1.319527    1.319386          1.617192   \n",
      "2016-08-02 00:20:00    1.319434    1.319299          1.506207   \n",
      "2016-08-02 00:30:00    1.319939    1.319815          1.201941   \n",
      "2016-08-02 00:40:00    1.320009    1.319890          1.228281   \n",
      "\n",
      "                     BidVolume_GBPUSD  spread_GBPUSD  spread_volume_GBPUSD  \\\n",
      "cal_time                                                                     \n",
      "2016-08-02 00:00:00          1.522581       0.000141              0.225352   \n",
      "2016-08-02 00:10:00          1.721342       0.000141             -0.104151   \n",
      "2016-08-02 00:20:00          1.907931       0.000135             -0.401724   \n",
      "2016-08-02 00:30:00          1.918174       0.000124             -0.716233   \n",
      "2016-08-02 00:40:00          1.505249       0.000119             -0.276968   \n",
      "\n",
      "                     Ask_EURUSD  Bid_EURUSD  AskVolume_EURUSD  \\\n",
      "cal_time                                                        \n",
      "2016-08-02 00:00:00    1.117112    1.117075          2.210358   \n",
      "2016-08-02 00:10:00    1.117250    1.117216          2.321470   \n",
      "2016-08-02 00:20:00    1.117391    1.117355          2.312059   \n",
      "2016-08-02 00:30:00    1.117440    1.117404          2.119839   \n",
      "2016-08-02 00:40:00    1.117347    1.117316          1.472272   \n",
      "\n",
      "                     BidVolume_EURUSD            ...             \\\n",
      "cal_time                                         ...              \n",
      "2016-08-02 00:00:00          2.197433            ...              \n",
      "2016-08-02 00:10:00          1.697773            ...              \n",
      "2016-08-02 00:20:00          2.507364            ...              \n",
      "2016-08-02 00:30:00          2.371328            ...              \n",
      "2016-08-02 00:40:00          2.947850            ...              \n",
      "\n",
      "                     AskVolume_EURUSD_reg  BidVolume_EURUSD_reg  \\\n",
      "cal_time                                                          \n",
      "2016-08-02 00:00:00             -0.885560             -0.851087   \n",
      "2016-08-02 00:10:00             -0.707315             -1.704246   \n",
      "2016-08-02 00:20:00             -0.722412             -0.321885   \n",
      "2016-08-02 00:30:00             -1.030770             -0.554165   \n",
      "2016-08-02 00:40:00             -2.069595              0.430236   \n",
      "\n",
      "                     spread_EURUSD_reg  spread_volume_EURUSD_reg  \\\n",
      "cal_time                                                           \n",
      "2016-08-02 00:00:00           0.313419                 -0.069510   \n",
      "2016-08-02 00:10:00           0.187314                  0.722831   \n",
      "2016-08-02 00:20:00           0.271577                 -0.339643   \n",
      "2016-08-02 00:30:00           0.278774                 -0.412528   \n",
      "2016-08-02 00:40:00           0.043680                 -2.000514   \n",
      "\n",
      "                     Ask_EURGBP_reg  Bid_EURGBP_reg  AskVolume_EURGBP_reg  \\\n",
      "cal_time                                                                    \n",
      "2016-08-02 00:00:00       -1.071106       -1.072470             -0.377689   \n",
      "2016-08-02 00:10:00       -1.082058       -1.083451              0.570467   \n",
      "2016-08-02 00:20:00       -1.073748       -1.074935              0.193256   \n",
      "2016-08-02 00:30:00       -1.089459       -1.090325              1.170349   \n",
      "2016-08-02 00:40:00       -1.094312       -1.094723              0.044942   \n",
      "\n",
      "                     BidVolume_EURGBP_reg  spread_EURGBP_reg  \\\n",
      "cal_time                                                       \n",
      "2016-08-02 00:00:00              0.367053           0.410714   \n",
      "2016-08-02 00:10:00              0.597478           0.421100   \n",
      "2016-08-02 00:20:00              0.356466           0.338563   \n",
      "2016-08-02 00:30:00             -0.960587           0.206170   \n",
      "2016-08-02 00:40:00             -1.876001           0.021067   \n",
      "\n",
      "                     spread_volume_EURGBP_reg  \n",
      "cal_time                                       \n",
      "2016-08-02 00:00:00                 -0.659910  \n",
      "2016-08-02 00:10:00                 -0.011847  \n",
      "2016-08-02 00:20:00                 -0.138907  \n",
      "2016-08-02 00:30:00                  1.890060  \n",
      "2016-08-02 00:40:00                  1.682903  \n",
      "\n",
      "[5 rows x 40 columns]\n"
     ]
    },
    {
     "ename": "KeyError",
     "evalue": "'cal_time'",
     "output_type": "error",
     "traceback": [
      "\u001b[0;31m---------------------------------------------------------------------------\u001b[0m",
      "\u001b[0;31mKeyError\u001b[0m                                  Traceback (most recent call last)",
      "\u001b[0;32m<ipython-input-58-5b4ad920a669>\u001b[0m in \u001b[0;36m<module>\u001b[0;34m()\u001b[0m\n\u001b[1;32m      3\u001b[0m \u001b[0;34m\u001b[0m\u001b[0m\n\u001b[1;32m      4\u001b[0m \u001b[0;32mprint\u001b[0m \u001b[0mdf\u001b[0m\u001b[0;34m.\u001b[0m\u001b[0mhead\u001b[0m\u001b[0;34m(\u001b[0m\u001b[0;34m)\u001b[0m\u001b[0;34m\u001b[0m\u001b[0m\n\u001b[0;32m----> 5\u001b[0;31m \u001b[0mdf\u001b[0m \u001b[0;34m=\u001b[0m \u001b[0mdf\u001b[0m\u001b[0;34m.\u001b[0m\u001b[0mset_index\u001b[0m\u001b[0;34m(\u001b[0m\u001b[0;34m'cal_time'\u001b[0m\u001b[0;34m)\u001b[0m\u001b[0;34m\u001b[0m\u001b[0m\n\u001b[0m\u001b[1;32m      6\u001b[0m \u001b[0mdf\u001b[0m \u001b[0;34m=\u001b[0m \u001b[0mdf\u001b[0m\u001b[0;34m[\u001b[0m\u001b[0mdf\u001b[0m\u001b[0;34m.\u001b[0m\u001b[0mindex\u001b[0m\u001b[0;34m<\u001b[0m\u001b[0mdatetime\u001b[0m\u001b[0;34m(\u001b[0m\u001b[0;36m2016\u001b[0m\u001b[0;34m,\u001b[0m\u001b[0;36m11\u001b[0m\u001b[0;34m,\u001b[0m\u001b[0;36m19\u001b[0m\u001b[0;34m)\u001b[0m\u001b[0;34m]\u001b[0m\u001b[0;34m\u001b[0m\u001b[0m\n\u001b[1;32m      7\u001b[0m \u001b[0mdf\u001b[0m\u001b[0;34m.\u001b[0m\u001b[0mAsk_EURGBP\u001b[0m\u001b[0;34m.\u001b[0m\u001b[0mplot\u001b[0m\u001b[0;34m(\u001b[0m\u001b[0;34m)\u001b[0m\u001b[0;34m\u001b[0m\u001b[0m\n",
      "\u001b[0;32m/home/ramon/anaconda2/lib/python2.7/site-packages/pandas/core/frame.pyc\u001b[0m in \u001b[0;36mset_index\u001b[0;34m(self, keys, drop, append, inplace, verify_integrity)\u001b[0m\n\u001b[1;32m   2835\u001b[0m                 \u001b[0mnames\u001b[0m\u001b[0;34m.\u001b[0m\u001b[0mappend\u001b[0m\u001b[0;34m(\u001b[0m\u001b[0mNone\u001b[0m\u001b[0;34m)\u001b[0m\u001b[0;34m\u001b[0m\u001b[0m\n\u001b[1;32m   2836\u001b[0m             \u001b[0;32melse\u001b[0m\u001b[0;34m:\u001b[0m\u001b[0;34m\u001b[0m\u001b[0m\n\u001b[0;32m-> 2837\u001b[0;31m                 \u001b[0mlevel\u001b[0m \u001b[0;34m=\u001b[0m \u001b[0mframe\u001b[0m\u001b[0;34m[\u001b[0m\u001b[0mcol\u001b[0m\u001b[0;34m]\u001b[0m\u001b[0;34m.\u001b[0m\u001b[0m_values\u001b[0m\u001b[0;34m\u001b[0m\u001b[0m\n\u001b[0m\u001b[1;32m   2838\u001b[0m                 \u001b[0mnames\u001b[0m\u001b[0;34m.\u001b[0m\u001b[0mappend\u001b[0m\u001b[0;34m(\u001b[0m\u001b[0mcol\u001b[0m\u001b[0;34m)\u001b[0m\u001b[0;34m\u001b[0m\u001b[0m\n\u001b[1;32m   2839\u001b[0m                 \u001b[0;32mif\u001b[0m \u001b[0mdrop\u001b[0m\u001b[0;34m:\u001b[0m\u001b[0;34m\u001b[0m\u001b[0m\n",
      "\u001b[0;32m/home/ramon/anaconda2/lib/python2.7/site-packages/pandas/core/frame.pyc\u001b[0m in \u001b[0;36m__getitem__\u001b[0;34m(self, key)\u001b[0m\n\u001b[1;32m   1995\u001b[0m             \u001b[0;32mreturn\u001b[0m \u001b[0mself\u001b[0m\u001b[0;34m.\u001b[0m\u001b[0m_getitem_multilevel\u001b[0m\u001b[0;34m(\u001b[0m\u001b[0mkey\u001b[0m\u001b[0;34m)\u001b[0m\u001b[0;34m\u001b[0m\u001b[0m\n\u001b[1;32m   1996\u001b[0m         \u001b[0;32melse\u001b[0m\u001b[0;34m:\u001b[0m\u001b[0;34m\u001b[0m\u001b[0m\n\u001b[0;32m-> 1997\u001b[0;31m             \u001b[0;32mreturn\u001b[0m \u001b[0mself\u001b[0m\u001b[0;34m.\u001b[0m\u001b[0m_getitem_column\u001b[0m\u001b[0;34m(\u001b[0m\u001b[0mkey\u001b[0m\u001b[0;34m)\u001b[0m\u001b[0;34m\u001b[0m\u001b[0m\n\u001b[0m\u001b[1;32m   1998\u001b[0m \u001b[0;34m\u001b[0m\u001b[0m\n\u001b[1;32m   1999\u001b[0m     \u001b[0;32mdef\u001b[0m \u001b[0m_getitem_column\u001b[0m\u001b[0;34m(\u001b[0m\u001b[0mself\u001b[0m\u001b[0;34m,\u001b[0m \u001b[0mkey\u001b[0m\u001b[0;34m)\u001b[0m\u001b[0;34m:\u001b[0m\u001b[0;34m\u001b[0m\u001b[0m\n",
      "\u001b[0;32m/home/ramon/anaconda2/lib/python2.7/site-packages/pandas/core/frame.pyc\u001b[0m in \u001b[0;36m_getitem_column\u001b[0;34m(self, key)\u001b[0m\n\u001b[1;32m   2002\u001b[0m         \u001b[0;31m# get column\u001b[0m\u001b[0;34m\u001b[0m\u001b[0;34m\u001b[0m\u001b[0m\n\u001b[1;32m   2003\u001b[0m         \u001b[0;32mif\u001b[0m \u001b[0mself\u001b[0m\u001b[0;34m.\u001b[0m\u001b[0mcolumns\u001b[0m\u001b[0;34m.\u001b[0m\u001b[0mis_unique\u001b[0m\u001b[0;34m:\u001b[0m\u001b[0;34m\u001b[0m\u001b[0m\n\u001b[0;32m-> 2004\u001b[0;31m             \u001b[0;32mreturn\u001b[0m \u001b[0mself\u001b[0m\u001b[0;34m.\u001b[0m\u001b[0m_get_item_cache\u001b[0m\u001b[0;34m(\u001b[0m\u001b[0mkey\u001b[0m\u001b[0;34m)\u001b[0m\u001b[0;34m\u001b[0m\u001b[0m\n\u001b[0m\u001b[1;32m   2005\u001b[0m \u001b[0;34m\u001b[0m\u001b[0m\n\u001b[1;32m   2006\u001b[0m         \u001b[0;31m# duplicate columns & possible reduce dimensionality\u001b[0m\u001b[0;34m\u001b[0m\u001b[0;34m\u001b[0m\u001b[0m\n",
      "\u001b[0;32m/home/ramon/anaconda2/lib/python2.7/site-packages/pandas/core/generic.pyc\u001b[0m in \u001b[0;36m_get_item_cache\u001b[0;34m(self, item)\u001b[0m\n\u001b[1;32m   1348\u001b[0m         \u001b[0mres\u001b[0m \u001b[0;34m=\u001b[0m \u001b[0mcache\u001b[0m\u001b[0;34m.\u001b[0m\u001b[0mget\u001b[0m\u001b[0;34m(\u001b[0m\u001b[0mitem\u001b[0m\u001b[0;34m)\u001b[0m\u001b[0;34m\u001b[0m\u001b[0m\n\u001b[1;32m   1349\u001b[0m         \u001b[0;32mif\u001b[0m \u001b[0mres\u001b[0m \u001b[0;32mis\u001b[0m \u001b[0mNone\u001b[0m\u001b[0;34m:\u001b[0m\u001b[0;34m\u001b[0m\u001b[0m\n\u001b[0;32m-> 1350\u001b[0;31m             \u001b[0mvalues\u001b[0m \u001b[0;34m=\u001b[0m \u001b[0mself\u001b[0m\u001b[0;34m.\u001b[0m\u001b[0m_data\u001b[0m\u001b[0;34m.\u001b[0m\u001b[0mget\u001b[0m\u001b[0;34m(\u001b[0m\u001b[0mitem\u001b[0m\u001b[0;34m)\u001b[0m\u001b[0;34m\u001b[0m\u001b[0m\n\u001b[0m\u001b[1;32m   1351\u001b[0m             \u001b[0mres\u001b[0m \u001b[0;34m=\u001b[0m \u001b[0mself\u001b[0m\u001b[0;34m.\u001b[0m\u001b[0m_box_item_values\u001b[0m\u001b[0;34m(\u001b[0m\u001b[0mitem\u001b[0m\u001b[0;34m,\u001b[0m \u001b[0mvalues\u001b[0m\u001b[0;34m)\u001b[0m\u001b[0;34m\u001b[0m\u001b[0m\n\u001b[1;32m   1352\u001b[0m             \u001b[0mcache\u001b[0m\u001b[0;34m[\u001b[0m\u001b[0mitem\u001b[0m\u001b[0;34m]\u001b[0m \u001b[0;34m=\u001b[0m \u001b[0mres\u001b[0m\u001b[0;34m\u001b[0m\u001b[0m\n",
      "\u001b[0;32m/home/ramon/anaconda2/lib/python2.7/site-packages/pandas/core/internals.pyc\u001b[0m in \u001b[0;36mget\u001b[0;34m(self, item, fastpath)\u001b[0m\n\u001b[1;32m   3288\u001b[0m \u001b[0;34m\u001b[0m\u001b[0m\n\u001b[1;32m   3289\u001b[0m             \u001b[0;32mif\u001b[0m \u001b[0;32mnot\u001b[0m \u001b[0misnull\u001b[0m\u001b[0;34m(\u001b[0m\u001b[0mitem\u001b[0m\u001b[0;34m)\u001b[0m\u001b[0;34m:\u001b[0m\u001b[0;34m\u001b[0m\u001b[0m\n\u001b[0;32m-> 3290\u001b[0;31m                 \u001b[0mloc\u001b[0m \u001b[0;34m=\u001b[0m \u001b[0mself\u001b[0m\u001b[0;34m.\u001b[0m\u001b[0mitems\u001b[0m\u001b[0;34m.\u001b[0m\u001b[0mget_loc\u001b[0m\u001b[0;34m(\u001b[0m\u001b[0mitem\u001b[0m\u001b[0;34m)\u001b[0m\u001b[0;34m\u001b[0m\u001b[0m\n\u001b[0m\u001b[1;32m   3291\u001b[0m             \u001b[0;32melse\u001b[0m\u001b[0;34m:\u001b[0m\u001b[0;34m\u001b[0m\u001b[0m\n\u001b[1;32m   3292\u001b[0m                 \u001b[0mindexer\u001b[0m \u001b[0;34m=\u001b[0m \u001b[0mnp\u001b[0m\u001b[0;34m.\u001b[0m\u001b[0marange\u001b[0m\u001b[0;34m(\u001b[0m\u001b[0mlen\u001b[0m\u001b[0;34m(\u001b[0m\u001b[0mself\u001b[0m\u001b[0;34m.\u001b[0m\u001b[0mitems\u001b[0m\u001b[0;34m)\u001b[0m\u001b[0;34m)\u001b[0m\u001b[0;34m[\u001b[0m\u001b[0misnull\u001b[0m\u001b[0;34m(\u001b[0m\u001b[0mself\u001b[0m\u001b[0;34m.\u001b[0m\u001b[0mitems\u001b[0m\u001b[0;34m)\u001b[0m\u001b[0;34m]\u001b[0m\u001b[0;34m\u001b[0m\u001b[0m\n",
      "\u001b[0;32m/home/ramon/anaconda2/lib/python2.7/site-packages/pandas/indexes/base.pyc\u001b[0m in \u001b[0;36mget_loc\u001b[0;34m(self, key, method, tolerance)\u001b[0m\n\u001b[1;32m   1945\u001b[0m                 \u001b[0;32mreturn\u001b[0m \u001b[0mself\u001b[0m\u001b[0;34m.\u001b[0m\u001b[0m_engine\u001b[0m\u001b[0;34m.\u001b[0m\u001b[0mget_loc\u001b[0m\u001b[0;34m(\u001b[0m\u001b[0mkey\u001b[0m\u001b[0;34m)\u001b[0m\u001b[0;34m\u001b[0m\u001b[0m\n\u001b[1;32m   1946\u001b[0m             \u001b[0;32mexcept\u001b[0m \u001b[0mKeyError\u001b[0m\u001b[0;34m:\u001b[0m\u001b[0;34m\u001b[0m\u001b[0m\n\u001b[0;32m-> 1947\u001b[0;31m                 \u001b[0;32mreturn\u001b[0m \u001b[0mself\u001b[0m\u001b[0;34m.\u001b[0m\u001b[0m_engine\u001b[0m\u001b[0;34m.\u001b[0m\u001b[0mget_loc\u001b[0m\u001b[0;34m(\u001b[0m\u001b[0mself\u001b[0m\u001b[0;34m.\u001b[0m\u001b[0m_maybe_cast_indexer\u001b[0m\u001b[0;34m(\u001b[0m\u001b[0mkey\u001b[0m\u001b[0;34m)\u001b[0m\u001b[0;34m)\u001b[0m\u001b[0;34m\u001b[0m\u001b[0m\n\u001b[0m\u001b[1;32m   1948\u001b[0m \u001b[0;34m\u001b[0m\u001b[0m\n\u001b[1;32m   1949\u001b[0m         \u001b[0mindexer\u001b[0m \u001b[0;34m=\u001b[0m \u001b[0mself\u001b[0m\u001b[0;34m.\u001b[0m\u001b[0mget_indexer\u001b[0m\u001b[0;34m(\u001b[0m\u001b[0;34m[\u001b[0m\u001b[0mkey\u001b[0m\u001b[0;34m]\u001b[0m\u001b[0;34m,\u001b[0m \u001b[0mmethod\u001b[0m\u001b[0;34m=\u001b[0m\u001b[0mmethod\u001b[0m\u001b[0;34m,\u001b[0m \u001b[0mtolerance\u001b[0m\u001b[0;34m=\u001b[0m\u001b[0mtolerance\u001b[0m\u001b[0;34m)\u001b[0m\u001b[0;34m\u001b[0m\u001b[0m\n",
      "\u001b[0;32mpandas/index.pyx\u001b[0m in \u001b[0;36mpandas.index.IndexEngine.get_loc (pandas/index.c:4154)\u001b[0;34m()\u001b[0m\n",
      "\u001b[0;32mpandas/index.pyx\u001b[0m in \u001b[0;36mpandas.index.IndexEngine.get_loc (pandas/index.c:4018)\u001b[0;34m()\u001b[0m\n",
      "\u001b[0;32mpandas/hashtable.pyx\u001b[0m in \u001b[0;36mpandas.hashtable.PyObjectHashTable.get_item (pandas/hashtable.c:12368)\u001b[0;34m()\u001b[0m\n",
      "\u001b[0;32mpandas/hashtable.pyx\u001b[0m in \u001b[0;36mpandas.hashtable.PyObjectHashTable.get_item (pandas/hashtable.c:12322)\u001b[0;34m()\u001b[0m\n",
      "\u001b[0;31mKeyError\u001b[0m: 'cal_time'"
     ]
    }
   ],
   "source": [
    "#prediction[(prediction.index>=datetime(2016,11,7)) & (prediction.index<datetime(2016,11,10))].plot()\n",
    "prediction[prediction.index<datetime(2016,11,19)].plot(title=\"Ask_EURUSD RandomForestRegressor\")\n"
   ]
  },
  {
   "cell_type": "code",
   "execution_count": 46,
   "metadata": {
    "collapsed": false
   },
   "outputs": [],
   "source": [
    "def xgbooster(dataset):\n",
    "    model = xgboost.XGBRegressor()\n",
    "    model.fit(dataset['training_X'], dataset['training_y'])\n",
    "    print model\n",
    "    predictions = model.predict(dataset['forecast_X'])\n",
    "    print type(predictions)\n",
    "    print dataset['observed_y'].shape\n",
    "    #print accuracy_score(dataset['observed_y'], y_pred)\n",
    "    prediction_df  = pd.DataFrame({'predicted':predictions,'observed':dataset['observed_y']}\n",
    "            , index=dataset['label_forecast'])\n",
    "    \n",
    "    return prediction_df\n",
    "                      "
   ]
  },
  {
   "cell_type": "code",
   "execution_count": 59,
   "metadata": {
    "collapsed": false
   },
   "outputs": [
    {
     "name": "stdout",
     "output_type": "stream",
     "text": [
      "XGBRegressor(base_score=0.5, colsample_bylevel=1, colsample_bytree=1, gamma=0,\n",
      "       learning_rate=0.1, max_delta_step=0, max_depth=3,\n",
      "       min_child_weight=1, missing=None, n_estimators=100, nthread=-1,\n",
      "       objective='reg:linear', reg_alpha=0, reg_lambda=1,\n",
      "       scale_pos_weight=1, seed=0, silent=True, subsample=1)\n",
      "<type 'numpy.ndarray'>\n",
      "(202,)\n"
     ]
    },
    {
     "data": {
      "text/plain": [
       "<matplotlib.axes._subplots.AxesSubplot at 0x7fb702dd1a50>"
      ]
     },
     "execution_count": 59,
     "metadata": {},
     "output_type": "execute_result"
    },
    {
     "data": {
      "image/png": "[encoded data removed]",
      "text/plain": [
       "<matplotlib.figure.Figure at 0x7fb702c0ed10>"
      ]
     },
     "metadata": {},
     "output_type": "display_data"
    }
   ],
   "source": [
    "df_prediction = xgbooster(dataset)\n",
    "df_prediction[df_prediction.index<datetime(2016,11,19)].plot(title=\"Ask_EURGBP - XGBoost regressor\")"
   ]
  }
 ],
 "metadata": {
  "anaconda-cloud": {},
  "kernelspec": {
   "display_name": "Python [default]",
   "language": "python",
   "name": "python2"
  },
  "language_info": {
   "codemirror_mode": {
    "name": "ipython",
    "version": 2
   },
   "file_extension": ".py",
   "mimetype": "text/x-python",
   "name": "python",
   "nbconvert_exporter": "python",
   "pygments_lexer": "ipython2",
   "version": "2.7.12"
  }
 },
 "nbformat": 4,
 "nbformat_minor": 1
}
