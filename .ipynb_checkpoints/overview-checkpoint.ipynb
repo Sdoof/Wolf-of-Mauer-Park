{
 "cells": [
  {
   "cell_type": "code",
   "execution_count": 1,
   "metadata": {
    "collapsed": false
   },
   "outputs": [],
   "source": [
    "%matplotlib inline \n",
    "%load_ext autoreload\n",
    "%autoreload 2\n",
    "import os\n",
    "import pandas as pd\n",
    "import logging\n",
    "from model.models import Simulator\n",
    "import service.regressor as regressor\n",
    "import pickle\n",
    "\n",
    "import service.files_service as fs\n",
    "import csv\n",
    "import datetime\n"
   ]
  },
  {
   "cell_type": "code",
   "execution_count": null,
   "metadata": {
    "collapsed": true
   },
   "outputs": [],
   "source": [
    "df_t = pd.read_csv('/drive_ext4/merged_no_spread.csv',sep=';')\n",
    "cols = df_t.columns.tolist()\n",
    "cols =  [c for c in cols if 'Open_Ask' in c and '_reg' not in c]\n",
    "print cols\n",
    "\n",
    "def compute(targets):\n",
    "    for target in targets:\n",
    "        for shift in range(3,6):\n",
    "            simulator = Simulator(dt_from='2016-09-29 12:00', dt_to='2016-09-29 12:30', target=target, shift=shift,fit_model=True,\n",
    "                         datasource_path='/drive_ext4/merged_no_spread.csv',ticks_to_shift=[1,2,3,4,5,10,20,30])\n",
    "            regressor.dataset(simulator)\n",
    "            regressor.fit(simulator)\n",
    "            regressor.predict(simulator)\n",
    "            print simulator.features_weight[:10]\n"
   ]
  },
  {
   "cell_type": "code",
   "execution_count": null,
   "metadata": {
    "collapsed": false
   },
   "outputs": [
    {
     "name": "stderr",
     "output_type": "stream",
     "text": [
      "2016-12-26 17:44:30,354 [INFO ]  new Simulator created\n",
      "2016-12-26 17:44:30,435 [INFO ]  Start creating the dataset for Open_Ask_EURRUB\n",
      "2016-12-26 17:44:30,551 [INFO ]  Finished creating the dataset for Open_Ask_EURRUB\n",
      "2016-12-26 17:44:30,971 [INFO ]  Start fitting the model Targets : Open_Ask_EURRUB : [2011-09-29 12:00:00-2011-09-29 12:30:00]         ticks_to_shift:[1, 2, 3, 4, 5, 10, 20, 30] shift:3\n",
      "2016-12-26 17:44:31,082 [INFO ]  Start GridSearchCV...\n"
     ]
    }
   ],
   "source": [
    "compute(cols)"
   ]
  },
  {
   "cell_type": "code",
   "execution_count": null,
   "metadata": {
    "collapsed": true
   },
   "outputs": [],
   "source": []
  }
 ],
 "metadata": {
  "anaconda-cloud": {},
  "kernelspec": {
   "display_name": "Python [default]",
   "language": "python",
   "name": "python2"
  },
  "language_info": {
   "codemirror_mode": {
    "name": "ipython",
    "version": 2
   },
   "file_extension": ".py",
   "mimetype": "text/x-python",
   "name": "python",
   "nbconvert_exporter": "python",
   "pygments_lexer": "ipython2",
   "version": "2.7.12"
  }
 },
 "nbformat": 4,
 "nbformat_minor": 1
}
