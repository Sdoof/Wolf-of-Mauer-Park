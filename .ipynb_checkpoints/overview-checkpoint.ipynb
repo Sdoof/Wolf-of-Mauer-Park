{
 "cells": [
  {
   "cell_type": "code",
   "execution_count": 1,
   "metadata": {
    "collapsed": false
   },
   "outputs": [],
   "source": [
    "%matplotlib inline \n",
    "%load_ext autoreload\n",
    "%autoreload 2\n",
    "import os\n",
    "import pandas as pd\n",
    "\n",
    "from model.models import Simulator\n",
    "import service.predictions as predictions\n",
    "import pickle\n",
    "import service.files_service as fs\n",
    "import csv"
   ]
  },
  {
   "cell_type": "code",
   "execution_count": 10,
   "metadata": {
    "collapsed": false
   },
   "outputs": [],
   "source": [
    "df_t=pd.read_csv('/drive_ext4/ask_bid/transformed/merged/raw.csv', chunksize=1000,sep=';')"
   ]
  },
  {
   "cell_type": "code",
   "execution_count": 2,
   "metadata": {
    "collapsed": true
   },
   "outputs": [],
   "source": [
    "def remove_avg(file_path):\n",
    "    chunk=pd.read_csv('/drive_ext4/ask_bid/transformed/merged/merged.csv', chunksize=1000000,sep=';')\n",
    "   \n",
    "    df_light = pd.DataFrame()\n",
    "    \n",
    "    for i,c in enumerate(chunk):\n",
    "        cols = c.columns.tolist()\n",
    "        cols_filtered = [col for col in cols if not ('_rolling'  in col or '_ewma'  in col)]\n",
    "        print i\n",
    "        c = c[cols_filtered]\n",
    "        df_light = pd.concat([df_light,c],axis=0)\n",
    "    return df_light\n",
    "    \n",
    "    "
   ]
  },
  {
   "cell_type": "code",
   "execution_count": null,
   "metadata": {
    "collapsed": false
   },
   "outputs": [],
   "source": [
    "df_light_merged= remove_avg('/drive_ext4/ask_bid/transformed/merged/merged.csv')"
   ]
  },
  {
   "cell_type": "code",
   "execution_count": null,
   "metadata": {
    "collapsed": false
   },
   "outputs": [],
   "source": [
    "df_light_merged.to_csv('/drive_ext4/ask_bid/transformed/merged/merged_light.csv',sep=';')"
   ]
  },
  {
   "cell_type": "code",
   "execution_count": 12,
   "metadata": {
    "collapsed": false
   },
   "outputs": [],
   "source": [
    "cols = df.columns.tolist()\n",
    "\n",
    "cols_filtered = [col for col in cols if not ('_rolling'  in col or '_ewma'  in col)]"
   ]
  },
  {
   "cell_type": "code",
   "execution_count": 17,
   "metadata": {
    "collapsed": false
   },
   "outputs": [
    {
     "data": {
      "text/plain": [
       "['Unnamed: 0',\n",
       " 'cal_time',\n",
       " 'Open_Ask_EURRUB',\n",
       " 'High_Ask_EURRUB',\n",
       " 'Low_Ask_EURRUB',\n",
       " 'Close_Ask_EURRUB',\n",
       " 'Volume_Ask_EURRUB',\n",
       " 'Open_Bid_EURRUB',\n",
       " 'High_Bid_EURRUB',\n",
       " 'Low_Bid_EURRUB',\n",
       " 'Close_Bid_EURRUB',\n",
       " 'Volume_Bid_EURRUB',\n",
       " 'Open_spread_EURRUB',\n",
       " 'Low_spread_EURRUB',\n",
       " 'High_spread_EURRUB',\n",
       " 'Close_spread_EURRUB',\n",
       " 'Volume_spread_EURRUB',\n",
       " 'Open_Ask_USDRUB',\n",
       " 'High_Ask_USDRUB',\n",
       " 'Low_Ask_USDRUB',\n",
       " 'Close_Ask_USDRUB',\n",
       " 'Volume_Ask_USDRUB',\n",
       " 'Open_Bid_USDRUB',\n",
       " 'High_Bid_USDRUB',\n",
       " 'Low_Bid_USDRUB',\n",
       " 'Close_Bid_USDRUB',\n",
       " 'Volume_Bid_USDRUB',\n",
       " 'Open_spread_USDRUB',\n",
       " 'Low_spread_USDRUB',\n",
       " 'High_spread_USDRUB',\n",
       " 'Close_spread_USDRUB',\n",
       " 'Volume_spread_USDRUB',\n",
       " 'Open_Ask_USDCAD',\n",
       " 'High_Ask_USDCAD',\n",
       " 'Low_Ask_USDCAD',\n",
       " 'Close_Ask_USDCAD',\n",
       " 'Volume_Ask_USDCAD',\n",
       " 'Open_Bid_USDCAD',\n",
       " 'High_Bid_USDCAD',\n",
       " 'Low_Bid_USDCAD',\n",
       " 'Close_Bid_USDCAD',\n",
       " 'Volume_Bid_USDCAD',\n",
       " 'Open_spread_USDCAD',\n",
       " 'Low_spread_USDCAD',\n",
       " 'High_spread_USDCAD',\n",
       " 'Close_spread_USDCAD',\n",
       " 'Volume_spread_USDCAD',\n",
       " 'Open_Ask_LIGHTCMDUSD',\n",
       " 'High_Ask_LIGHTCMDUSD',\n",
       " 'Low_Ask_LIGHTCMDUSD',\n",
       " 'Close_Ask_LIGHTCMDUSD',\n",
       " 'Volume_Ask_LIGHTCMDUSD',\n",
       " 'Open_Bid_LIGHTCMDUSD',\n",
       " 'High_Bid_LIGHTCMDUSD',\n",
       " 'Low_Bid_LIGHTCMDUSD',\n",
       " 'Close_Bid_LIGHTCMDUSD',\n",
       " 'Volume_Bid_LIGHTCMDUSD',\n",
       " 'Open_spread_LIGHTCMDUSD',\n",
       " 'Low_spread_LIGHTCMDUSD',\n",
       " 'High_spread_LIGHTCMDUSD',\n",
       " 'Close_spread_LIGHTCMDUSD',\n",
       " 'Volume_spread_LIGHTCMDUSD',\n",
       " 'Open_Ask_USDMXN',\n",
       " 'High_Ask_USDMXN',\n",
       " 'Low_Ask_USDMXN',\n",
       " 'Close_Ask_USDMXN',\n",
       " 'Volume_Ask_USDMXN',\n",
       " 'Open_Bid_USDMXN',\n",
       " 'High_Bid_USDMXN',\n",
       " 'Low_Bid_USDMXN',\n",
       " 'Close_Bid_USDMXN',\n",
       " 'Volume_Bid_USDMXN',\n",
       " 'Open_spread_USDMXN',\n",
       " 'Low_spread_USDMXN',\n",
       " 'High_spread_USDMXN',\n",
       " 'Close_spread_USDMXN',\n",
       " 'Volume_spread_USDMXN',\n",
       " 'Open_Ask_EURNOK',\n",
       " 'High_Ask_EURNOK',\n",
       " 'Low_Ask_EURNOK',\n",
       " 'Close_Ask_EURNOK',\n",
       " 'Volume_Ask_EURNOK',\n",
       " 'Open_Bid_EURNOK',\n",
       " 'High_Bid_EURNOK',\n",
       " 'Low_Bid_EURNOK',\n",
       " 'Close_Bid_EURNOK',\n",
       " 'Volume_Bid_EURNOK',\n",
       " 'Open_spread_EURNOK',\n",
       " 'Low_spread_EURNOK',\n",
       " 'High_spread_EURNOK',\n",
       " 'Close_spread_EURNOK',\n",
       " 'Volume_spread_EURNOK',\n",
       " 'Open_Ask_USDNOK',\n",
       " 'High_Ask_USDNOK',\n",
       " 'Low_Ask_USDNOK',\n",
       " 'Close_Ask_USDNOK',\n",
       " 'Volume_Ask_USDNOK',\n",
       " 'Open_Bid_USDNOK',\n",
       " 'High_Bid_USDNOK',\n",
       " 'Low_Bid_USDNOK',\n",
       " 'Close_Bid_USDNOK',\n",
       " 'Volume_Bid_USDNOK',\n",
       " 'Open_spread_USDNOK',\n",
       " 'Low_spread_USDNOK',\n",
       " 'High_spread_USDNOK',\n",
       " 'Close_spread_USDNOK',\n",
       " 'Volume_spread_USDNOK',\n",
       " 'Open_Ask_BRENTCMDUSD',\n",
       " 'High_Ask_BRENTCMDUSD',\n",
       " 'Low_Ask_BRENTCMDUSD',\n",
       " 'Close_Ask_BRENTCMDUSD',\n",
       " 'Volume_Ask_BRENTCMDUSD',\n",
       " 'Open_Bid_BRENTCMDUSD',\n",
       " 'High_Bid_BRENTCMDUSD',\n",
       " 'Low_Bid_BRENTCMDUSD',\n",
       " 'Close_Bid_BRENTCMDUSD',\n",
       " 'Volume_Bid_BRENTCMDUSD',\n",
       " 'Open_spread_BRENTCMDUSD',\n",
       " 'Low_spread_BRENTCMDUSD',\n",
       " 'High_spread_BRENTCMDUSD',\n",
       " 'Close_spread_BRENTCMDUSD',\n",
       " 'Volume_spread_BRENTCMDUSD',\n",
       " 'cal_hour',\n",
       " 'cal_minute',\n",
       " 'cal_dayofweek',\n",
       " 'cal_dayofyear']"
      ]
     },
     "execution_count": 17,
     "metadata": {},
     "output_type": "execute_result"
    }
   ],
   "source": [
    "cols_filtered"
   ]
  },
  {
   "cell_type": "code",
   "execution_count": null,
   "metadata": {
    "collapsed": true
   },
   "outputs": [],
   "source": [
    "df_t.head()"
   ]
  },
  {
   "cell_type": "code",
   "execution_count": 2,
   "metadata": {
    "collapsed": false
   },
   "outputs": [],
   "source": [
    "simulator = Simulator(dt_from='2016-12-01 8:00',dt_to='2016-12-01 20:00',targets=['Close_Ask_EURRUB'],steps=60,\n",
    "                       shift=3, fit_model=False)"
   ]
  },
  {
   "cell_type": "code",
   "execution_count": 3,
   "metadata": {
    "collapsed": false
   },
   "outputs": [
    {
     "name": "stderr",
     "output_type": "stream",
     "text": [
      "2016-12-16 18:42:08,194 [INFO ]  compute prediction for Close_Ask_EURRUB : {'to': datetime.datetime(2016, 12, 1, 9, 0), 'from': datetime.datetime(2016, 12, 1, 8, 0)}\n"
     ]
    },
    {
     "name": "stdout",
     "output_type": "stream",
     "text": [
      "Close_Ask_EURRUB\n",
      "cal_time\n",
      "cal_hour\n",
      "cal_minute\n",
      "cal_dayofweek\n",
      "cal_dayofyear\n",
      "Close_Ask_LIGHTCMDUSD_reg\n",
      "Close_Ask_rolling_mean_LIGHTCMDUSD_reg\n",
      "Close_Ask_ewma_LIGHTCMDUSD_reg\n",
      "Close_Ask_rolling_mean_EURRUB_reg\n",
      "Close_Ask_ewma_EURRUB_reg\n",
      "Close_Ask_BRENTCMDUSD_reg\n",
      "Close_Ask_rolling_mean_BRENTCMDUSD_reg\n",
      "Close_Ask_ewma_BRENTCMDUSD_reg\n"
     ]
    },
    {
     "ename": "ValueError",
     "evalue": "feature_names mismatch: ['f0', 'f1', 'f2', 'f3'] ['f0', 'f1', 'f2', 'f3', 'f4', 'f5', 'f6', 'f7', 'f8', 'f9', 'f10', 'f11']\ntraining data did not have the following fields: f4, f5, f6, f7, f8, f9, f10, f11",
     "output_type": "error",
     "traceback": [
      "\u001b[0;31m---------------------------------------------------------------------------\u001b[0m",
      "\u001b[0;31mValueError\u001b[0m                                Traceback (most recent call last)",
      "\u001b[0;32m<ipython-input-3-bb86e988da04>\u001b[0m in \u001b[0;36m<module>\u001b[0;34m()\u001b[0m\n\u001b[0;32m----> 1\u001b[0;31m \u001b[0mpredictions\u001b[0m\u001b[0;34m.\u001b[0m\u001b[0mcompute_and_pickle\u001b[0m\u001b[0;34m(\u001b[0m\u001b[0msimulator\u001b[0m\u001b[0;34m,\u001b[0m\u001b[0mdataset_path\u001b[0m\u001b[0;34m=\u001b[0m\u001b[0;34m'data/brent_wti/ask_bid/transformed/EURRUB/merged/merged.csv'\u001b[0m\u001b[0;34m)\u001b[0m\u001b[0;34m\u001b[0m\u001b[0m\n\u001b[0m",
      "\u001b[0;32m/home/ramon/workspace/trade/service/predictions.pyc\u001b[0m in \u001b[0;36mcompute_and_pickle\u001b[0;34m(simulator, dataset_path)\u001b[0m\n\u001b[1;32m     83\u001b[0m             prediction = make_prediction(\n\u001b[1;32m     84\u001b[0m                 \u001b[0mdf_merged\u001b[0m\u001b[0;34m,\u001b[0m \u001b[0mtarget\u001b[0m\u001b[0;34m,\u001b[0m \u001b[0minterval\u001b[0m\u001b[0;34m,\u001b[0m\u001b[0;34m\u001b[0m\u001b[0m\n\u001b[0;32m---> 85\u001b[0;31m                 simulator.shift, simulator.fit_model)\n\u001b[0m\u001b[1;32m     86\u001b[0m             \u001b[0msimulator\u001b[0m\u001b[0;34m.\u001b[0m\u001b[0mpredictions\u001b[0m\u001b[0;34m.\u001b[0m\u001b[0mappend\u001b[0m\u001b[0;34m(\u001b[0m\u001b[0mprediction\u001b[0m\u001b[0;34m)\u001b[0m\u001b[0;34m\u001b[0m\u001b[0m\n\u001b[1;32m     87\u001b[0m \u001b[0;34m\u001b[0m\u001b[0m\n",
      "\u001b[0;32m/home/ramon/workspace/trade/service/predictions.pyc\u001b[0m in \u001b[0;36mmake_prediction\u001b[0;34m(df, target, interval, shift, fit_model)\u001b[0m\n\u001b[1;32m     55\u001b[0m         \u001b[0mfit\u001b[0m\u001b[0;34m(\u001b[0m\u001b[0mdataset\u001b[0m\u001b[0;34m,\u001b[0m \u001b[0mtarget\u001b[0m\u001b[0;34m,\u001b[0m \u001b[0mshift\u001b[0m\u001b[0;34m)\u001b[0m\u001b[0;34m\u001b[0m\u001b[0m\n\u001b[1;32m     56\u001b[0m \u001b[0;34m\u001b[0m\u001b[0m\n\u001b[0;32m---> 57\u001b[0;31m     \u001b[0mdf_prediction\u001b[0m \u001b[0;34m=\u001b[0m \u001b[0mpredict\u001b[0m\u001b[0;34m(\u001b[0m\u001b[0mdataset\u001b[0m\u001b[0;34m,\u001b[0m \u001b[0mtarget\u001b[0m\u001b[0;34m,\u001b[0m \u001b[0mshift\u001b[0m\u001b[0;34m)\u001b[0m\u001b[0;34m\u001b[0m\u001b[0m\n\u001b[0m\u001b[1;32m     58\u001b[0m     \u001b[0;32mreturn\u001b[0m \u001b[0mPrediction\u001b[0m\u001b[0;34m(\u001b[0m\u001b[0mdf_prediction\u001b[0m\u001b[0;34m,\u001b[0m \u001b[0mtarget\u001b[0m\u001b[0;34m,\u001b[0m \u001b[0minterval\u001b[0m\u001b[0;34m,\u001b[0m \u001b[0mshift\u001b[0m\u001b[0;34m)\u001b[0m\u001b[0;34m\u001b[0m\u001b[0m\n\u001b[1;32m     59\u001b[0m \u001b[0;34m\u001b[0m\u001b[0m\n",
      "\u001b[0;32m/home/ramon/workspace/trade/service/predictions.pyc\u001b[0m in \u001b[0;36mpredict\u001b[0;34m(dataset, target, shift)\u001b[0m\n\u001b[1;32m     38\u001b[0m         open(\"data/predictions/model_{}.p\".format(target), \"rb\"))\n\u001b[1;32m     39\u001b[0m \u001b[0;34m\u001b[0m\u001b[0m\n\u001b[0;32m---> 40\u001b[0;31m     \u001b[0mpredictions\u001b[0m \u001b[0;34m=\u001b[0m \u001b[0mmodel\u001b[0m\u001b[0;34m.\u001b[0m\u001b[0mpredict\u001b[0m\u001b[0;34m(\u001b[0m\u001b[0mdataset\u001b[0m\u001b[0;34m[\u001b[0m\u001b[0;34m'forecast_X'\u001b[0m\u001b[0;34m]\u001b[0m\u001b[0;34m)\u001b[0m\u001b[0;34m\u001b[0m\u001b[0m\n\u001b[0m\u001b[1;32m     41\u001b[0m \u001b[0;34m\u001b[0m\u001b[0m\n\u001b[1;32m     42\u001b[0m     prediction_df = pd.DataFrame({'predicted': predictions,\n",
      "\u001b[0;32m/home/ramon/anaconda2/lib/python2.7/site-packages/xgboost/sklearn.pyc\u001b[0m in \u001b[0;36mpredict\u001b[0;34m(self, data, output_margin, ntree_limit)\u001b[0m\n\u001b[1;32m    268\u001b[0m         return self.booster().predict(test_dmatrix,\n\u001b[1;32m    269\u001b[0m                                       \u001b[0moutput_margin\u001b[0m\u001b[0;34m=\u001b[0m\u001b[0moutput_margin\u001b[0m\u001b[0;34m,\u001b[0m\u001b[0;34m\u001b[0m\u001b[0m\n\u001b[0;32m--> 270\u001b[0;31m                                       ntree_limit=ntree_limit)\n\u001b[0m\u001b[1;32m    271\u001b[0m \u001b[0;34m\u001b[0m\u001b[0m\n\u001b[1;32m    272\u001b[0m     \u001b[0;32mdef\u001b[0m \u001b[0mapply\u001b[0m\u001b[0;34m(\u001b[0m\u001b[0mself\u001b[0m\u001b[0;34m,\u001b[0m \u001b[0mX\u001b[0m\u001b[0;34m,\u001b[0m \u001b[0mntree_limit\u001b[0m\u001b[0;34m=\u001b[0m\u001b[0;36m0\u001b[0m\u001b[0;34m)\u001b[0m\u001b[0;34m:\u001b[0m\u001b[0;34m\u001b[0m\u001b[0m\n",
      "\u001b[0;32m/home/ramon/anaconda2/lib/python2.7/site-packages/xgboost/core.pyc\u001b[0m in \u001b[0;36mpredict\u001b[0;34m(self, data, output_margin, ntree_limit, pred_leaf)\u001b[0m\n\u001b[1;32m    937\u001b[0m             \u001b[0moption_mask\u001b[0m \u001b[0;34m|=\u001b[0m \u001b[0;36m0x02\u001b[0m\u001b[0;34m\u001b[0m\u001b[0m\n\u001b[1;32m    938\u001b[0m \u001b[0;34m\u001b[0m\u001b[0m\n\u001b[0;32m--> 939\u001b[0;31m         \u001b[0mself\u001b[0m\u001b[0;34m.\u001b[0m\u001b[0m_validate_features\u001b[0m\u001b[0;34m(\u001b[0m\u001b[0mdata\u001b[0m\u001b[0;34m)\u001b[0m\u001b[0;34m\u001b[0m\u001b[0m\n\u001b[0m\u001b[1;32m    940\u001b[0m \u001b[0;34m\u001b[0m\u001b[0m\n\u001b[1;32m    941\u001b[0m         \u001b[0mlength\u001b[0m \u001b[0;34m=\u001b[0m \u001b[0mctypes\u001b[0m\u001b[0;34m.\u001b[0m\u001b[0mc_ulong\u001b[0m\u001b[0;34m(\u001b[0m\u001b[0;34m)\u001b[0m\u001b[0;34m\u001b[0m\u001b[0m\n",
      "\u001b[0;32m/home/ramon/anaconda2/lib/python2.7/site-packages/xgboost/core.pyc\u001b[0m in \u001b[0;36m_validate_features\u001b[0;34m(self, data)\u001b[0m\n\u001b[1;32m   1177\u001b[0m \u001b[0;34m\u001b[0m\u001b[0m\n\u001b[1;32m   1178\u001b[0m                 raise ValueError(msg.format(self.feature_names,\n\u001b[0;32m-> 1179\u001b[0;31m                                             data.feature_names))\n\u001b[0m\u001b[1;32m   1180\u001b[0m \u001b[0;34m\u001b[0m\u001b[0m\n\u001b[1;32m   1181\u001b[0m     \u001b[0;32mdef\u001b[0m \u001b[0mget_split_value_histogram\u001b[0m\u001b[0;34m(\u001b[0m\u001b[0mself\u001b[0m\u001b[0;34m,\u001b[0m \u001b[0mfeature\u001b[0m\u001b[0;34m,\u001b[0m \u001b[0mfmap\u001b[0m\u001b[0;34m=\u001b[0m\u001b[0;34m''\u001b[0m\u001b[0;34m,\u001b[0m \u001b[0mbins\u001b[0m\u001b[0;34m=\u001b[0m\u001b[0mNone\u001b[0m\u001b[0;34m,\u001b[0m \u001b[0mas_pandas\u001b[0m\u001b[0;34m=\u001b[0m\u001b[0mTrue\u001b[0m\u001b[0;34m)\u001b[0m\u001b[0;34m:\u001b[0m\u001b[0;34m\u001b[0m\u001b[0m\n",
      "\u001b[0;31mValueError\u001b[0m: feature_names mismatch: ['f0', 'f1', 'f2', 'f3'] ['f0', 'f1', 'f2', 'f3', 'f4', 'f5', 'f6', 'f7', 'f8', 'f9', 'f10', 'f11']\ntraining data did not have the following fields: f4, f5, f6, f7, f8, f9, f10, f11"
     ]
    }
   ],
   "source": [
    "predictions.compute_and_pickle(simulator,dataset_path='data/brent_wti/ask_bid/transformed/EURRUB/merged/merged.csv')"
   ]
  },
  {
   "cell_type": "code",
   "execution_count": null,
   "metadata": {
    "collapsed": false
   },
   "outputs": [],
   "source": [
    "predictions.plot_predictions(simulator)"
   ]
  }
 ],
 "metadata": {
  "anaconda-cloud": {},
  "kernelspec": {
   "display_name": "Python [default]",
   "language": "python",
   "name": "python2"
  },
  "language_info": {
   "codemirror_mode": {
    "name": "ipython",
    "version": 2
   },
   "file_extension": ".py",
   "mimetype": "text/x-python",
   "name": "python",
   "nbconvert_exporter": "python",
   "pygments_lexer": "ipython2",
   "version": "2.7.12"
  }
 },
 "nbformat": 4,
 "nbformat_minor": 1
}
