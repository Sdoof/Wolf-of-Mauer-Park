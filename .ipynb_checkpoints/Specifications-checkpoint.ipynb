{
 "cells": [
  {
   "cell_type": "markdown",
   "metadata": {},
   "source": [
    "- creer le predicteur pour chacun des timeframes (30mn - 1H - 4H - 1D/ repertoires stephane_fresh\n",
    "- utiliser le modele pour predire un max de perte qui soit 2 fois inferieur au profit.\n",
    "- A chaque fin de chandelle (4h ou 1h) , faire une prediction pour :\n",
    "- si la chandelle qui se termine est negative (cad close<open) :\n",
    "  - probabilite que le LOW de la prochaine chandelle soit au moins 20 points plus bas que le CLOSE de la chandelle qui s'est terminee.\n",
    "  - probabilite que le HIGH del la prochaine chandelle soit maximum 18 pips au dessus du CLOSE\n",
    "- si la chandelle qui se termine est positive (cad open<close) :\n",
    "  - probabilite que le HIGH de la prochaine chandelle soit au moins 20 points plus haut que le CLOSE de la chandelle qui s'est terminee.\n",
    "  - probabilite que le LOW soit max 18 pips en dessous du CLOSE\n"
   ]
  },
  {
   "cell_type": "code",
   "execution_count": 26,
   "metadata": {
    "collapsed": false
   },
   "outputs": [
    {
     "name": "stdout",
     "output_type": "stream",
     "text": [
      "The autoreload extension is already loaded. To reload it, use:\n",
      "  %reload_ext autoreload\n"
     ]
    }
   ],
   "source": [
    "%load_ext autoreload\n",
    "%autoreload 2\n",
    "%matplotlib inline\n",
    "import numpy as np\n",
    "import pandas as pd\n",
    "import pickle\n",
    "import matplotlib.pyplot as plt\n",
    "from sklearn.metrics import roc_curve, auc\n",
    "from sklearn.linear_model import LogisticRegression\n",
    "from sklearn.tree import DecisionTreeClassifier,ExtraTreeClassifier\n",
    "from sklearn.ensemble import RandomForestClassifier\n",
    "from sklearn.naive_bayes import GaussianNB\n",
    "from sklearn.grid_search import GridSearchCV\n",
    "from sklearn.metrics import confusion_matrix,classification_report\n",
    "import xgboost as xgb\n",
    "from datetime import datetime, timedelta\n",
    "from service import files_service\n",
    "from model.models import TradeModel"
   ]
  },
  {
   "cell_type": "markdown",
   "metadata": {},
   "source": [
    "#### Set folder for data"
   ]
  },
  {
   "cell_type": "code",
   "execution_count": 27,
   "metadata": {
    "collapsed": true
   },
   "outputs": [],
   "source": [
    "PATH = \"data/test_all_periods/\""
   ]
  },
  {
   "cell_type": "markdown",
   "metadata": {},
   "source": [
    "#### Read data and convert to TradeModel"
   ]
  },
  {
   "cell_type": "code",
   "execution_count": 28,
   "metadata": {
    "collapsed": false
   },
   "outputs": [],
   "source": [
    "files = files_service.get_files(PATH,extension='.csv')\n",
    "files = [files[2]]"
   ]
  },
  {
   "cell_type": "code",
   "execution_count": 29,
   "metadata": {
    "collapsed": false
   },
   "outputs": [
    {
     "name": "stdout",
     "output_type": "stream",
     "text": [
      "EURUSD_UTC_4H_Bid_2010.01.01_2017.02.18 \"4H\"\n"
     ]
    }
   ],
   "source": [
    "TradeModel_dict={}\n",
    "for f in files:\n",
    "    name = f.split('.csv')[0]\n",
    "    frequency =  '\\\"' + f.split('_')[2] + '\\\"'\n",
    "    print name, frequency\n",
    "    path = PATH+f\n",
    "    tm = TradeModel(path,name,frequency=frequency)\n",
    "    TradeModel_dict[name]= tm"
   ]
  },
  {
   "cell_type": "code",
   "execution_count": 30,
   "metadata": {
    "collapsed": false
   },
   "outputs": [],
   "source": [
    "tm =TradeModel_dict['EURUSD_UTC_4H_Bid_2010.01.01_2017.02.18']"
   ]
  },
  {
   "cell_type": "code",
   "execution_count": 31,
   "metadata": {
    "collapsed": false
   },
   "outputs": [
    {
     "data": {
      "text/html": [
       "<div>\n",
       "<table border=\"1\" class=\"dataframe\">\n",
       "  <thead>\n",
       "    <tr style=\"text-align: right;\">\n",
       "      <th></th>\n",
       "      <th>Open</th>\n",
       "      <th>High</th>\n",
       "      <th>Low</th>\n",
       "      <th>Close</th>\n",
       "      <th>Volume</th>\n",
       "      <th>KC_M_1</th>\n",
       "      <th>KC_U_1</th>\n",
       "      <th>KC_D_1</th>\n",
       "      <th>KC_M_2</th>\n",
       "      <th>KC_U_2</th>\n",
       "      <th>...</th>\n",
       "      <th>DOWN_next_Low_under_Close</th>\n",
       "      <th>DOWN_next_High_over_Close</th>\n",
       "      <th>UP_next_High_over_Close</th>\n",
       "      <th>UP_next_Low_under_Close</th>\n",
       "      <th>DOWN_next_Low_and_High</th>\n",
       "      <th>UP_next_Low_and_High</th>\n",
       "      <th>hour</th>\n",
       "      <th>day</th>\n",
       "      <th>month</th>\n",
       "      <th>year</th>\n",
       "    </tr>\n",
       "    <tr>\n",
       "      <th>date_time</th>\n",
       "      <th></th>\n",
       "      <th></th>\n",
       "      <th></th>\n",
       "      <th></th>\n",
       "      <th></th>\n",
       "      <th></th>\n",
       "      <th></th>\n",
       "      <th></th>\n",
       "      <th></th>\n",
       "      <th></th>\n",
       "      <th></th>\n",
       "      <th></th>\n",
       "      <th></th>\n",
       "      <th></th>\n",
       "      <th></th>\n",
       "      <th></th>\n",
       "      <th></th>\n",
       "      <th></th>\n",
       "      <th></th>\n",
       "      <th></th>\n",
       "      <th></th>\n",
       "    </tr>\n",
       "  </thead>\n",
       "  <tbody>\n",
       "    <tr>\n",
       "      <th>2010-01-01 08:00:00</th>\n",
       "      <td>1.43297</td>\n",
       "      <td>1.43346</td>\n",
       "      <td>1.43218</td>\n",
       "      <td>1.43306</td>\n",
       "      <td>18182.8</td>\n",
       "      <td>NaN</td>\n",
       "      <td>NaN</td>\n",
       "      <td>NaN</td>\n",
       "      <td>NaN</td>\n",
       "      <td>NaN</td>\n",
       "      <td>...</td>\n",
       "      <td>0</td>\n",
       "      <td>0</td>\n",
       "      <td>0</td>\n",
       "      <td>0</td>\n",
       "      <td>0</td>\n",
       "      <td>0</td>\n",
       "      <td>8</td>\n",
       "      <td>4</td>\n",
       "      <td>1</td>\n",
       "      <td>2010</td>\n",
       "    </tr>\n",
       "  </tbody>\n",
       "</table>\n",
       "<p>1 rows × 36 columns</p>\n",
       "</div>"
      ],
      "text/plain": [
       "                        Open     High      Low    Close  Volume   KC_M_1  \\\n",
       "date_time                                                                  \n",
       "2010-01-01 08:00:00  1.43297  1.43346  1.43218  1.43306  18182.8     NaN   \n",
       "\n",
       "                     KC_U_1  KC_D_1  KC_M_2  KC_U_2  ...   \\\n",
       "date_time                                            ...    \n",
       "2010-01-01 08:00:00     NaN     NaN     NaN     NaN  ...    \n",
       "\n",
       "                     DOWN_next_Low_under_Close  DOWN_next_High_over_Close  \\\n",
       "date_time                                                                   \n",
       "2010-01-01 08:00:00                          0                          0   \n",
       "\n",
       "                     UP_next_High_over_Close  UP_next_Low_under_Close  \\\n",
       "date_time                                                               \n",
       "2010-01-01 08:00:00                        0                        0   \n",
       "\n",
       "                     DOWN_next_Low_and_High  UP_next_Low_and_High  hour  day  \\\n",
       "date_time                                                                      \n",
       "2010-01-01 08:00:00                       0                     0     8    4   \n",
       "\n",
       "                     month  year  \n",
       "date_time                         \n",
       "2010-01-01 08:00:00      1  2010  \n",
       "\n",
       "[1 rows x 36 columns]"
      ]
     },
     "execution_count": 31,
     "metadata": {},
     "output_type": "execute_result"
    }
   ],
   "source": [
    "tm.df.head(1)"
   ]
  },
  {
   "cell_type": "code",
   "execution_count": 32,
   "metadata": {
    "collapsed": false
   },
   "outputs": [
    {
     "data": {
      "image/png": "[encoded data removed]",
      "text/plain": [
       "<matplotlib.figure.Figure at 0x7f23232c8ad0>"
      ]
     },
     "metadata": {},
     "output_type": "display_data"
    }
   ],
   "source": [
    "ax = tm.df.cs_body_size.plot()"
   ]
  },
  {
   "cell_type": "code",
   "execution_count": 33,
   "metadata": {
    "collapsed": false
   },
   "outputs": [],
   "source": [
    "#tm.plot()"
   ]
  },
  {
   "cell_type": "markdown",
   "metadata": {},
   "source": [
    "#### Save TradeModel  to .csv"
   ]
  },
  {
   "cell_type": "code",
   "execution_count": 34,
   "metadata": {
    "collapsed": false
   },
   "outputs": [],
   "source": [
    "tm.df.to_csv('tradeModel_data.csv')"
   ]
  },
  {
   "cell_type": "markdown",
   "metadata": {},
   "source": [
    "## Compute models and predictions"
   ]
  },
  {
   "cell_type": "code",
   "execution_count": 35,
   "metadata": {
    "collapsed": true
   },
   "outputs": [],
   "source": [
    "def train_test_split(df, date, target):\n",
    "              \n",
    "    predictors =tm.get_predictors_columns()\n",
    "    #predictors =['Open','High','Low','High','KC_M_3','KC_U_3','ATR','EMA12','EMA30']\n",
    "\n",
    "    df_train = df[df.index<date]\n",
    "    df_test = df[df.index>=date]\n",
    "    \n",
    "    tm.X_train,tm.y_train = df_train[predictors].values,df_train[target].values\n",
    "    tm.X_test, tm.y_test  = df_test[predictors].values,df_test[target].values  \n",
    "    "
   ]
  },
  {
   "cell_type": "code",
   "execution_count": 36,
   "metadata": {
    "collapsed": false
   },
   "outputs": [],
   "source": [
    "def cv_optimize(clf,  tm,parameters={}, n_folds=5):\n",
    "    \n",
    "    gs = GridSearchCV(clf, param_grid=parameters, cv=n_folds, n_jobs=-1)\n",
    "    gs.fit(tm.X_train, tm.y_train)\n",
    "    \n",
    "    return gs.best_estimator_    "
   ]
  },
  {
   "cell_type": "code",
   "execution_count": 37,
   "metadata": {
    "collapsed": true
   },
   "outputs": [],
   "source": [
    "def predict_next(tm,target,clf, parameters={}):\n",
    "    \n",
    "    best_clf = cv_optimize(clf,tm, parameters)\n",
    "   \n",
    "    prediction =  best_clf.predict_proba(tm.X_test)\n",
    "    \n",
    "    return prediction,best_clf"
   ]
  },
  {
   "cell_type": "code",
   "execution_count": 38,
   "metadata": {
    "collapsed": false
   },
   "outputs": [],
   "source": [
    "def compute_prediction(trade_model,target,last_index,single=True,\\\n",
    "                       clf=xgb.XGBClassifier(max_depth=12,n_estimators=300),\\\n",
    "                      params={}):\n",
    "\n",
    "    prediction_list = []\n",
    "\n",
    "    df = tm.df.copy()\n",
    "    df = df.dropna()\n",
    "    \n",
    "    \n",
    "    if not single:\n",
    "        for dt in df.tail(last_index).index:\n",
    "            print dt\n",
    "\n",
    "            train_test_split(df,dt,target)\n",
    "            predictions = predict_next(tm,target,clf,params)\n",
    "            prediction_list.append((dt,tm.y_test[0],predictions[0][0],predictions[0][1]))\n",
    "    else :\n",
    "              \n",
    "  \n",
    "        dt_range =  df.iloc[-last_index:].index\n",
    "        dt = dt_range[0]\n",
    "\n",
    "        train_test_split(df,dt,target)\n",
    "        predictions,clf = predict_next(tm,target,clf)\n",
    "\n",
    "        prediction_list = zip(dt_range,tm.y_test,predictions[:,0],predictions[:,1]) \n",
    "    \n",
    "    result ={}\n",
    "        \n",
    "    result['df'] =  pd.DataFrame(prediction_list,columns=['date','observed',target+'_FALSE', target+'_TRUE'])\n",
    "    result['clf'] = clf\n",
    "    result['tm'] = tm\n",
    "    \n",
    "\n",
    "    pickle.dump(result, open('data/'+trade_model.name+'_'+target+'.p', \"wb\"))\n",
    "    \n",
    "    return result"
   ]
  },
  {
   "cell_type": "code",
   "execution_count": 39,
   "metadata": {
    "collapsed": false
   },
   "outputs": [
    {
     "data": {
      "text/plain": [
       "['DOWN_next_Low_under_Close',\n",
       " 'DOWN_next_High_over_Close',\n",
       " 'UP_next_High_over_Close',\n",
       " 'UP_next_Low_under_Close',\n",
       " 'DOWN_next_Low_and_High',\n",
       " 'UP_next_Low_and_High']"
      ]
     },
     "execution_count": 39,
     "metadata": {},
     "output_type": "execute_result"
    }
   ],
   "source": [
    "TARGETS = [col for col in tm.df.columns if '_next' in col]\n",
    "TARGETS"
   ]
  },
  {
   "cell_type": "code",
   "execution_count": 40,
   "metadata": {
    "collapsed": false
   },
   "outputs": [
    {
     "data": {
      "text/html": [
       "<div>\n",
       "<table border=\"1\" class=\"dataframe\">\n",
       "  <thead>\n",
       "    <tr style=\"text-align: right;\">\n",
       "      <th></th>\n",
       "      <th>0</th>\n",
       "      <th>1</th>\n",
       "      <th>ratio_TRUE</th>\n",
       "    </tr>\n",
       "  </thead>\n",
       "  <tbody>\n",
       "    <tr>\n",
       "      <th>DOWN_next_Low_under_Close</th>\n",
       "      <td>7366</td>\n",
       "      <td>4170</td>\n",
       "      <td>36.147712</td>\n",
       "    </tr>\n",
       "    <tr>\n",
       "      <th>DOWN_next_High_over_Close</th>\n",
       "      <td>11508</td>\n",
       "      <td>28</td>\n",
       "      <td>0.242718</td>\n",
       "    </tr>\n",
       "    <tr>\n",
       "      <th>UP_next_High_over_Close</th>\n",
       "      <td>7364</td>\n",
       "      <td>4172</td>\n",
       "      <td>36.165049</td>\n",
       "    </tr>\n",
       "    <tr>\n",
       "      <th>UP_next_Low_under_Close</th>\n",
       "      <td>6909</td>\n",
       "      <td>4627</td>\n",
       "      <td>40.109223</td>\n",
       "    </tr>\n",
       "    <tr>\n",
       "      <th>DOWN_next_Low_and_High</th>\n",
       "      <td>11508</td>\n",
       "      <td>28</td>\n",
       "      <td>0.242718</td>\n",
       "    </tr>\n",
       "    <tr>\n",
       "      <th>UP_next_Low_and_High</th>\n",
       "      <td>10313</td>\n",
       "      <td>1223</td>\n",
       "      <td>10.601595</td>\n",
       "    </tr>\n",
       "  </tbody>\n",
       "</table>\n",
       "</div>"
      ],
      "text/plain": [
       "                               0     1  ratio_TRUE\n",
       "DOWN_next_Low_under_Close   7366  4170   36.147712\n",
       "DOWN_next_High_over_Close  11508    28    0.242718\n",
       "UP_next_High_over_Close     7364  4172   36.165049\n",
       "UP_next_Low_under_Close     6909  4627   40.109223\n",
       "DOWN_next_Low_and_High     11508    28    0.242718\n",
       "UP_next_Low_and_High       10313  1223   10.601595"
      ]
     },
     "execution_count": 40,
     "metadata": {},
     "output_type": "execute_result"
    }
   ],
   "source": [
    "summary = tm.df[TARGETS].apply(pd.Series.value_counts).T\n",
    "summary['ratio_TRUE']=summary[1]/summary.sum(axis=1)*100.0\n",
    "summary"
   ]
  },
  {
   "cell_type": "code",
   "execution_count": 81,
   "metadata": {
    "collapsed": false
   },
   "outputs": [],
   "source": [
    "def compute_all_predictions(trade_model,last_index=1000,clf=None,params=None):\n",
    "    for target in TARGETS:\n",
    "        predictions = compute_prediction(tm,target,last_index,clf=clf,params=None,single=True)\n",
    "        #!!!!!!!!!!!!!!!!!!!!!!!!!!\n",
    "        #break\n",
    "        #!!!!!!!!!!!!!!!!!!!!!!"
   ]
  },
  {
   "cell_type": "markdown",
   "metadata": {},
   "source": [
    "### Compute all predictions"
   ]
  },
  {
   "cell_type": "code",
   "execution_count": 82,
   "metadata": {
    "collapsed": false
   },
   "outputs": [
    {
     "ename": "KeyboardInterrupt",
     "evalue": "",
     "output_type": "error",
     "traceback": [
      "\u001b[0;31m---------------------------------------------------------------------------\u001b[0m",
      "\u001b[0;31mKeyboardInterrupt\u001b[0m                         Traceback (most recent call last)",
      "\u001b[0;32m<ipython-input-82-928d0a89b8f2>\u001b[0m in \u001b[0;36m<module>\u001b[0;34m()\u001b[0m\n\u001b[1;32m      7\u001b[0m              \u001b[0;34m\"min_samples_leaf\"\u001b[0m\u001b[0;34m:\u001b[0m \u001b[0;34m[\u001b[0m\u001b[0;36m1\u001b[0m\u001b[0;34m,\u001b[0m \u001b[0;36m3\u001b[0m\u001b[0;34m,\u001b[0m \u001b[0;36m10\u001b[0m\u001b[0;34m]\u001b[0m\u001b[0;34m,\u001b[0m\u001b[0;34m\u001b[0m\u001b[0m\n\u001b[1;32m      8\u001b[0m       \u001b[0;34m\"bootstrap\"\u001b[0m\u001b[0;34m:\u001b[0m \u001b[0;34m[\u001b[0m\u001b[0mTrue\u001b[0m\u001b[0;34m,\u001b[0m \u001b[0mFalse\u001b[0m\u001b[0;34m]\u001b[0m\u001b[0;34m,\u001b[0m\u001b[0;34m\u001b[0m\u001b[0m\n\u001b[0;32m----> 9\u001b[0;31m               \u001b[0;34m\"criterion\"\u001b[0m\u001b[0;34m:\u001b[0m \u001b[0;34m[\u001b[0m\u001b[0;34m\"gini\"\u001b[0m\u001b[0;34m,\u001b[0m \u001b[0;34m\"entropy\"\u001b[0m\u001b[0;34m]\u001b[0m\u001b[0;34m\u001b[0m\u001b[0m\n\u001b[0m\u001b[1;32m     10\u001b[0m })\n",
      "\u001b[0;32m<ipython-input-81-182404ad70db>\u001b[0m in \u001b[0;36mcompute_all_predictions\u001b[0;34m(trade_model, last_index, clf, params)\u001b[0m\n\u001b[1;32m      1\u001b[0m \u001b[0;32mdef\u001b[0m \u001b[0mcompute_all_predictions\u001b[0m\u001b[0;34m(\u001b[0m\u001b[0mtrade_model\u001b[0m\u001b[0;34m,\u001b[0m\u001b[0mlast_index\u001b[0m\u001b[0;34m=\u001b[0m\u001b[0;36m1000\u001b[0m\u001b[0;34m,\u001b[0m\u001b[0mclf\u001b[0m\u001b[0;34m=\u001b[0m\u001b[0mNone\u001b[0m\u001b[0;34m,\u001b[0m\u001b[0mparams\u001b[0m\u001b[0;34m=\u001b[0m\u001b[0mNone\u001b[0m\u001b[0;34m)\u001b[0m\u001b[0;34m:\u001b[0m\u001b[0;34m\u001b[0m\u001b[0m\n\u001b[1;32m      2\u001b[0m     \u001b[0;32mfor\u001b[0m \u001b[0mtarget\u001b[0m \u001b[0;32min\u001b[0m \u001b[0mTARGETS\u001b[0m\u001b[0;34m:\u001b[0m\u001b[0;34m\u001b[0m\u001b[0m\n\u001b[0;32m----> 3\u001b[0;31m         \u001b[0mpredictions\u001b[0m \u001b[0;34m=\u001b[0m \u001b[0mcompute_prediction\u001b[0m\u001b[0;34m(\u001b[0m\u001b[0mtm\u001b[0m\u001b[0;34m,\u001b[0m\u001b[0mtarget\u001b[0m\u001b[0;34m,\u001b[0m\u001b[0mlast_index\u001b[0m\u001b[0;34m,\u001b[0m\u001b[0mclf\u001b[0m\u001b[0;34m=\u001b[0m\u001b[0mclf\u001b[0m\u001b[0;34m,\u001b[0m\u001b[0mparams\u001b[0m\u001b[0;34m=\u001b[0m\u001b[0mNone\u001b[0m\u001b[0;34m,\u001b[0m\u001b[0msingle\u001b[0m\u001b[0;34m=\u001b[0m\u001b[0mTrue\u001b[0m\u001b[0;34m)\u001b[0m\u001b[0;34m\u001b[0m\u001b[0m\n\u001b[0m\u001b[1;32m      4\u001b[0m         \u001b[0;31m#!!!!!!!!!!!!!!!!!!!!!!!!!!\u001b[0m\u001b[0;34m\u001b[0m\u001b[0;34m\u001b[0m\u001b[0m\n\u001b[1;32m      5\u001b[0m         \u001b[0;31m#break\u001b[0m\u001b[0;34m\u001b[0m\u001b[0;34m\u001b[0m\u001b[0m\n",
      "\u001b[0;32m<ipython-input-38-79571769a188>\u001b[0m in \u001b[0;36mcompute_prediction\u001b[0;34m(trade_model, target, last_index, single, clf, params)\u001b[0m\n\u001b[1;32m     21\u001b[0m \u001b[0;34m\u001b[0m\u001b[0m\n\u001b[1;32m     22\u001b[0m         \u001b[0mtrain_test_split\u001b[0m\u001b[0;34m(\u001b[0m\u001b[0mdf\u001b[0m\u001b[0;34m,\u001b[0m\u001b[0mdt\u001b[0m\u001b[0;34m,\u001b[0m\u001b[0mtarget\u001b[0m\u001b[0;34m)\u001b[0m\u001b[0;34m\u001b[0m\u001b[0m\n\u001b[0;32m---> 23\u001b[0;31m         \u001b[0mpredictions\u001b[0m\u001b[0;34m,\u001b[0m\u001b[0mclf\u001b[0m \u001b[0;34m=\u001b[0m \u001b[0mpredict_next\u001b[0m\u001b[0;34m(\u001b[0m\u001b[0mtm\u001b[0m\u001b[0;34m,\u001b[0m\u001b[0mtarget\u001b[0m\u001b[0;34m,\u001b[0m\u001b[0mclf\u001b[0m\u001b[0;34m)\u001b[0m\u001b[0;34m\u001b[0m\u001b[0m\n\u001b[0m\u001b[1;32m     24\u001b[0m \u001b[0;34m\u001b[0m\u001b[0m\n\u001b[1;32m     25\u001b[0m         \u001b[0mprediction_list\u001b[0m \u001b[0;34m=\u001b[0m \u001b[0mzip\u001b[0m\u001b[0;34m(\u001b[0m\u001b[0mdt_range\u001b[0m\u001b[0;34m,\u001b[0m\u001b[0mtm\u001b[0m\u001b[0;34m.\u001b[0m\u001b[0my_test\u001b[0m\u001b[0;34m,\u001b[0m\u001b[0mpredictions\u001b[0m\u001b[0;34m[\u001b[0m\u001b[0;34m:\u001b[0m\u001b[0;34m,\u001b[0m\u001b[0;36m0\u001b[0m\u001b[0;34m]\u001b[0m\u001b[0;34m,\u001b[0m\u001b[0mpredictions\u001b[0m\u001b[0;34m[\u001b[0m\u001b[0;34m:\u001b[0m\u001b[0;34m,\u001b[0m\u001b[0;36m1\u001b[0m\u001b[0;34m]\u001b[0m\u001b[0;34m)\u001b[0m\u001b[0;34m\u001b[0m\u001b[0m\n",
      "\u001b[0;32m<ipython-input-37-89288ea3dea0>\u001b[0m in \u001b[0;36mpredict_next\u001b[0;34m(tm, target, clf, parameters)\u001b[0m\n\u001b[1;32m      1\u001b[0m \u001b[0;32mdef\u001b[0m \u001b[0mpredict_next\u001b[0m\u001b[0;34m(\u001b[0m\u001b[0mtm\u001b[0m\u001b[0;34m,\u001b[0m\u001b[0mtarget\u001b[0m\u001b[0;34m,\u001b[0m\u001b[0mclf\u001b[0m\u001b[0;34m,\u001b[0m \u001b[0mparameters\u001b[0m\u001b[0;34m=\u001b[0m\u001b[0;34m{\u001b[0m\u001b[0;34m}\u001b[0m\u001b[0;34m)\u001b[0m\u001b[0;34m:\u001b[0m\u001b[0;34m\u001b[0m\u001b[0m\n\u001b[1;32m      2\u001b[0m \u001b[0;34m\u001b[0m\u001b[0m\n\u001b[0;32m----> 3\u001b[0;31m     \u001b[0mbest_clf\u001b[0m \u001b[0;34m=\u001b[0m \u001b[0mcv_optimize\u001b[0m\u001b[0;34m(\u001b[0m\u001b[0mclf\u001b[0m\u001b[0;34m,\u001b[0m\u001b[0mtm\u001b[0m\u001b[0;34m,\u001b[0m \u001b[0mparameters\u001b[0m\u001b[0;34m)\u001b[0m\u001b[0;34m\u001b[0m\u001b[0m\n\u001b[0m\u001b[1;32m      4\u001b[0m \u001b[0;34m\u001b[0m\u001b[0m\n\u001b[1;32m      5\u001b[0m     \u001b[0mprediction\u001b[0m \u001b[0;34m=\u001b[0m  \u001b[0mbest_clf\u001b[0m\u001b[0;34m.\u001b[0m\u001b[0mpredict_proba\u001b[0m\u001b[0;34m(\u001b[0m\u001b[0mtm\u001b[0m\u001b[0;34m.\u001b[0m\u001b[0mX_test\u001b[0m\u001b[0;34m)\u001b[0m\u001b[0;34m\u001b[0m\u001b[0m\n",
      "\u001b[0;32m<ipython-input-36-b7441203549a>\u001b[0m in \u001b[0;36mcv_optimize\u001b[0;34m(clf, tm, parameters, n_folds)\u001b[0m\n\u001b[1;32m      2\u001b[0m \u001b[0;34m\u001b[0m\u001b[0m\n\u001b[1;32m      3\u001b[0m     \u001b[0mgs\u001b[0m \u001b[0;34m=\u001b[0m \u001b[0mGridSearchCV\u001b[0m\u001b[0;34m(\u001b[0m\u001b[0mclf\u001b[0m\u001b[0;34m,\u001b[0m \u001b[0mparam_grid\u001b[0m\u001b[0;34m=\u001b[0m\u001b[0mparameters\u001b[0m\u001b[0;34m,\u001b[0m \u001b[0mcv\u001b[0m\u001b[0;34m=\u001b[0m\u001b[0mn_folds\u001b[0m\u001b[0;34m,\u001b[0m \u001b[0mn_jobs\u001b[0m\u001b[0;34m=\u001b[0m\u001b[0;34m-\u001b[0m\u001b[0;36m1\u001b[0m\u001b[0;34m)\u001b[0m\u001b[0;34m\u001b[0m\u001b[0m\n\u001b[0;32m----> 4\u001b[0;31m     \u001b[0mgs\u001b[0m\u001b[0;34m.\u001b[0m\u001b[0mfit\u001b[0m\u001b[0;34m(\u001b[0m\u001b[0mtm\u001b[0m\u001b[0;34m.\u001b[0m\u001b[0mX_train\u001b[0m\u001b[0;34m,\u001b[0m \u001b[0mtm\u001b[0m\u001b[0;34m.\u001b[0m\u001b[0my_train\u001b[0m\u001b[0;34m)\u001b[0m\u001b[0;34m\u001b[0m\u001b[0m\n\u001b[0m\u001b[1;32m      5\u001b[0m \u001b[0;34m\u001b[0m\u001b[0m\n\u001b[1;32m      6\u001b[0m     \u001b[0;32mreturn\u001b[0m \u001b[0mgs\u001b[0m\u001b[0;34m.\u001b[0m\u001b[0mbest_estimator_\u001b[0m\u001b[0;34m\u001b[0m\u001b[0m\n",
      "\u001b[0;32m/home/ramon/anaconda2/lib/python2.7/site-packages/sklearn/grid_search.pyc\u001b[0m in \u001b[0;36mfit\u001b[0;34m(self, X, y)\u001b[0m\n\u001b[1;32m    827\u001b[0m \u001b[0;34m\u001b[0m\u001b[0m\n\u001b[1;32m    828\u001b[0m         \"\"\"\n\u001b[0;32m--> 829\u001b[0;31m         \u001b[0;32mreturn\u001b[0m \u001b[0mself\u001b[0m\u001b[0;34m.\u001b[0m\u001b[0m_fit\u001b[0m\u001b[0;34m(\u001b[0m\u001b[0mX\u001b[0m\u001b[0;34m,\u001b[0m \u001b[0my\u001b[0m\u001b[0;34m,\u001b[0m \u001b[0mParameterGrid\u001b[0m\u001b[0;34m(\u001b[0m\u001b[0mself\u001b[0m\u001b[0;34m.\u001b[0m\u001b[0mparam_grid\u001b[0m\u001b[0;34m)\u001b[0m\u001b[0;34m)\u001b[0m\u001b[0;34m\u001b[0m\u001b[0m\n\u001b[0m\u001b[1;32m    830\u001b[0m \u001b[0;34m\u001b[0m\u001b[0m\n\u001b[1;32m    831\u001b[0m \u001b[0;34m\u001b[0m\u001b[0m\n",
      "\u001b[0;32m/home/ramon/anaconda2/lib/python2.7/site-packages/sklearn/grid_search.pyc\u001b[0m in \u001b[0;36m_fit\u001b[0;34m(self, X, y, parameter_iterable)\u001b[0m\n\u001b[1;32m    571\u001b[0m                                     \u001b[0mself\u001b[0m\u001b[0;34m.\u001b[0m\u001b[0mfit_params\u001b[0m\u001b[0;34m,\u001b[0m \u001b[0mreturn_parameters\u001b[0m\u001b[0;34m=\u001b[0m\u001b[0mTrue\u001b[0m\u001b[0;34m,\u001b[0m\u001b[0;34m\u001b[0m\u001b[0m\n\u001b[1;32m    572\u001b[0m                                     error_score=self.error_score)\n\u001b[0;32m--> 573\u001b[0;31m                 \u001b[0;32mfor\u001b[0m \u001b[0mparameters\u001b[0m \u001b[0;32min\u001b[0m \u001b[0mparameter_iterable\u001b[0m\u001b[0;34m\u001b[0m\u001b[0m\n\u001b[0m\u001b[1;32m    574\u001b[0m                 for train, test in cv)\n\u001b[1;32m    575\u001b[0m \u001b[0;34m\u001b[0m\u001b[0m\n",
      "\u001b[0;32m/home/ramon/anaconda2/lib/python2.7/site-packages/sklearn/externals/joblib/parallel.pyc\u001b[0m in \u001b[0;36m__call__\u001b[0;34m(self, iterable)\u001b[0m\n\u001b[1;32m    766\u001b[0m                 \u001b[0;31m# consumption.\u001b[0m\u001b[0;34m\u001b[0m\u001b[0;34m\u001b[0m\u001b[0m\n\u001b[1;32m    767\u001b[0m                 \u001b[0mself\u001b[0m\u001b[0;34m.\u001b[0m\u001b[0m_iterating\u001b[0m \u001b[0;34m=\u001b[0m \u001b[0mFalse\u001b[0m\u001b[0;34m\u001b[0m\u001b[0m\n\u001b[0;32m--> 768\u001b[0;31m             \u001b[0mself\u001b[0m\u001b[0;34m.\u001b[0m\u001b[0mretrieve\u001b[0m\u001b[0;34m(\u001b[0m\u001b[0;34m)\u001b[0m\u001b[0;34m\u001b[0m\u001b[0m\n\u001b[0m\u001b[1;32m    769\u001b[0m             \u001b[0;31m# Make sure that we get a last message telling us we are done\u001b[0m\u001b[0;34m\u001b[0m\u001b[0;34m\u001b[0m\u001b[0m\n\u001b[1;32m    770\u001b[0m             \u001b[0melapsed_time\u001b[0m \u001b[0;34m=\u001b[0m \u001b[0mtime\u001b[0m\u001b[0;34m.\u001b[0m\u001b[0mtime\u001b[0m\u001b[0;34m(\u001b[0m\u001b[0;34m)\u001b[0m \u001b[0;34m-\u001b[0m \u001b[0mself\u001b[0m\u001b[0;34m.\u001b[0m\u001b[0m_start_time\u001b[0m\u001b[0;34m\u001b[0m\u001b[0m\n",
      "\u001b[0;32m/home/ramon/anaconda2/lib/python2.7/site-packages/sklearn/externals/joblib/parallel.pyc\u001b[0m in \u001b[0;36mretrieve\u001b[0;34m(self)\u001b[0m\n\u001b[1;32m    717\u001b[0m                     \u001b[0mensure_ready\u001b[0m \u001b[0;34m=\u001b[0m \u001b[0mself\u001b[0m\u001b[0;34m.\u001b[0m\u001b[0m_managed_backend\u001b[0m\u001b[0;34m\u001b[0m\u001b[0m\n\u001b[1;32m    718\u001b[0m                     \u001b[0mbackend\u001b[0m\u001b[0;34m.\u001b[0m\u001b[0mabort_everything\u001b[0m\u001b[0;34m(\u001b[0m\u001b[0mensure_ready\u001b[0m\u001b[0;34m=\u001b[0m\u001b[0mensure_ready\u001b[0m\u001b[0;34m)\u001b[0m\u001b[0;34m\u001b[0m\u001b[0m\n\u001b[0;32m--> 719\u001b[0;31m                 \u001b[0;32mraise\u001b[0m \u001b[0mexception\u001b[0m\u001b[0;34m\u001b[0m\u001b[0m\n\u001b[0m\u001b[1;32m    720\u001b[0m \u001b[0;34m\u001b[0m\u001b[0m\n\u001b[1;32m    721\u001b[0m     \u001b[0;32mdef\u001b[0m \u001b[0m__call__\u001b[0m\u001b[0;34m(\u001b[0m\u001b[0mself\u001b[0m\u001b[0;34m,\u001b[0m \u001b[0miterable\u001b[0m\u001b[0;34m)\u001b[0m\u001b[0;34m:\u001b[0m\u001b[0;34m\u001b[0m\u001b[0m\n",
      "\u001b[0;31mKeyboardInterrupt\u001b[0m: "
     ]
    }
   ],
   "source": [
    "compute_all_predictions(tm,clf=RandomForestClassifier(),params= { \n",
    "  'n_estimators': [200, 700],\n",
    "   # 'max_features': ['auto', 'sqrt', 'log2'],\n",
    "   \"max_depth\": [3, None],\n",
    "             \"max_features\": [1, 3, 10],\n",
    "              \"min_samples_split\": [1, 3, 10],\n",
    "             \"min_samples_leaf\": [1, 3, 10],\n",
    "      \"bootstrap\": [True, False],\n",
    "              \"criterion\": [\"gini\", \"entropy\"]\n",
    "})"
   ]
  },
  {
   "cell_type": "code",
   "execution_count": 63,
   "metadata": {
    "collapsed": false
   },
   "outputs": [],
   "source": [
    "compute_all_predictions(tm,clf=xgb.XGBClassifier(),params= {})"
   ]
  },
  {
   "cell_type": "code",
   "execution_count": 64,
   "metadata": {
    "collapsed": false
   },
   "outputs": [],
   "source": [
    "def load_predictions(tm_name):\n",
    "    predictions_dict={}\n",
    "    files = files_service.get_files('data/',extension='.p',filter_on=tm_name)\n",
    "    for f in files:\n",
    "        prediction_result = pickle.load(open('data/'+f, \"rb\"))\n",
    "        predictions_dict[f.split(tm_name)[1][1:-2]]=prediction_result\n",
    "        \n",
    "    return predictions_dict"
   ]
  },
  {
   "cell_type": "markdown",
   "metadata": {},
   "source": [
    "# Results analysis"
   ]
  },
  {
   "cell_type": "code",
   "execution_count": 65,
   "metadata": {
    "collapsed": true
   },
   "outputs": [],
   "source": [
    "def make_roc(name, clf, ytest, xtest, ax=None, labe=10, proba=True, skip=0):\n",
    "    initial=False\n",
    "    if not ax:\n",
    "        ax=plt.gca()\n",
    "        initial=True\n",
    "    if proba:\n",
    "        fpr, tpr, thresholds=roc_curve(ytest, clf.predict_proba(xtest)[:,1])\n",
    "    else:\n",
    "        fpr, tpr, thresholds=roc_curve(ytest, clf.decision_function(xtest))\n",
    "    roc_auc = auc(fpr, tpr)\n",
    "    if skip:\n",
    "        l=fpr.shape[0]\n",
    "        ax.plot(fpr[0:l:skip], tpr[0:l:skip], '.-', alpha=0.6, label='ROC curve for %s (area = %0.2f)' % (name, roc_auc))\n",
    "    else:\n",
    "        ax.plot(fpr, tpr, '.-', alpha=0.6, label='ROC curve for %s (area = %0.2f)' % (name, roc_auc))\n",
    "    label_kwargs = {}\n",
    "    label_kwargs['bbox'] = dict(\n",
    "        boxstyle='round,pad=0.3', alpha=0.2,\n",
    "    )\n",
    "    for k in xrange(0, fpr.shape[0],labe):\n",
    "        #from https://gist.github.com/podshumok/c1d1c9394335d86255b8\n",
    "        threshold = str(np.round(thresholds[k], 2))\n",
    "        ax.annotate(threshold, (fpr[k], tpr[k]), **label_kwargs)\n",
    "    if initial:\n",
    "        ax.plot([0, 1], [0, 1], 'k--')\n",
    "        ax.set_xlim([0.0, 1.0])\n",
    "        ax.set_ylim([0.0, 1.05])\n",
    "        ax.set_xlabel('False Positive Rate')\n",
    "        ax.set_ylabel('True Positive Rate')\n",
    "        ax.set_title('ROC')\n",
    "    \n",
    "    ax.legend(loc='center left', bbox_to_anchor=(1, 0.5))\n",
    "    return ax"
   ]
  },
  {
   "cell_type": "code",
   "execution_count": 79,
   "metadata": {
    "collapsed": false
   },
   "outputs": [],
   "source": [
    "def analysis_result():\n",
    "    \n",
    "    \n",
    "    ### Load data\n",
    "    dico_pred = load_predictions('EURUSD_UTC_4H_Bid_2010.01.01_2017.02.18')\n",
    "\n",
    "    \n",
    "    for key in [k for k in dico_pred.keys() if 'and' in k]:\n",
    "        print '--------------------'+key+'------------------'\n",
    "        df_test =dico_pred[key]['df']\n",
    "        \n",
    "        df_test['predicted'] =( df_test[key+'_TRUE']>0.04)*1\n",
    "        \n",
    "        ## print Confusion Matrix\n",
    "        \n",
    "        print confusion_matrix(df_test.observed.values,df_test.predicted.values)\n",
    "\n",
    "        df_test['result_OK']= np.where(df_test.predicted==df_test.observed,1,0)\n",
    "        df_test =df_test.sort_values(by=key+'_TRUE')\n",
    "\n",
    "        ### Compute Baseline\n",
    "        df_test[df_test.observed==1]\n",
    "\n",
    "        \n",
    "        print 'accuracy baseline : {}%'.format(df_test.observed.value_counts()[0]*100.0/df_test.observed.count())\n",
    "\n",
    "        ####  Accuracy and Precision\n",
    " \n",
    "\n",
    "        accuracy = sum(df_test.result_OK)*100.0 /df_test.observed.count()\n",
    "        print 'Accuracy model : {} %'.format(accuracy)\n",
    "        #precision = TP/(FP+TP)\n",
    "        precision = np.sum((df_test.predicted==1) & (df_test.result_OK==1)) *100.0 /np.sum(df_test.predicted==1)\n",
    "\n",
    "\n",
    "        print 'Precision model : {} %'.format(precision)\n",
    "        \n",
    "        print dico_pred[key]['clf']\n",
    "        \n",
    "        make_roc(key,dico_pred[key]['clf'], dico_pred[key]['tm'].y_test,dico_pred[key]['tm'].X_test)\n",
    "\n",
    "    "
   ]
  },
  {
   "cell_type": "code",
   "execution_count": 80,
   "metadata": {
    "collapsed": false
   },
   "outputs": [
    {
     "name": "stdout",
     "output_type": "stream",
     "text": [
      "--------------------DOWN_next_Low_and_High------------------\n",
      "[[194   6]\n",
      " [  0   0]]\n",
      "accuracy baseline : 100.0%\n",
      "Accuracy model : 97.0 %\n",
      "Precision model : 0.0 %\n",
      "XGBClassifier(base_score=0.5, colsample_bylevel=1, colsample_bytree=1,\n",
      "       gamma=0, learning_rate=0.1, max_delta_step=0, max_depth=3,\n",
      "       min_child_weight=1, missing=nan, n_estimators=100, nthread=-1,\n",
      "       objective='binary:logistic', reg_alpha=0, reg_lambda=1,\n",
      "       scale_pos_weight=1, seed=0, silent=True, subsample=1)\n",
      "--------------------UP_next_Low_and_High------------------\n",
      "[[94 93]\n",
      " [ 0 13]]\n",
      "accuracy baseline : 93.5%\n",
      "Accuracy model : 53.5 %\n",
      "Precision model : 12.2641509434 %\n",
      "XGBClassifier(base_score=0.5, colsample_bylevel=1, colsample_bytree=1,\n",
      "       gamma=0, learning_rate=0.1, max_delta_step=0, max_depth=3,\n",
      "       min_child_weight=1, missing=nan, n_estimators=100, nthread=-1,\n",
      "       objective='binary:logistic', reg_alpha=0, reg_lambda=1,\n",
      "       scale_pos_weight=1, seed=0, silent=True, subsample=1)\n"
     ]
    },
    {
     "data": {
      "image/png": "[encoded data removed]",
      "text/plain": [
       "<matplotlib.figure.Figure at 0x7f23141e0c10>"
      ]
     },
     "metadata": {},
     "output_type": "display_data"
    }
   ],
   "source": [
    "analysis_result()"
   ]
  }
 ],
 "metadata": {
  "anaconda-cloud": {},
  "kernelspec": {
   "display_name": "Python [conda root]",
   "language": "python",
   "name": "conda-root-py"
  },
  "language_info": {
   "codemirror_mode": {
    "name": "ipython",
    "version": 2
   },
   "file_extension": ".py",
   "mimetype": "text/x-python",
   "name": "python",
   "nbconvert_exporter": "python",
   "pygments_lexer": "ipython2",
   "version": "2.7.12"
  }
 },
 "nbformat": 4,
 "nbformat_minor": 1
}
