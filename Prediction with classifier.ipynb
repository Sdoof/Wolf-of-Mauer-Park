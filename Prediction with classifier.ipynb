{
 "cells": [
  {
   "cell_type": "markdown",
   "metadata": {},
   "source": [
    "# Prediction with classifier"
   ]
  },
  {
   "cell_type": "code",
   "execution_count": 18,
   "metadata": {
    "collapsed": false
   },
   "outputs": [],
   "source": [
    "%matplotlib inline\n",
    "import pandas as pd\n",
    "from datetime import datetime\n",
    "import numpy as np\n",
    "import seaborn as sns\n",
    "import pickle\n",
    "#import matplotlib.pyplot as plt\n",
    "import matplotlib.pylab as pl\n",
    "import xgboost\n",
    "from model.models import TradeModel\n",
    "from sklearn.model_selection import train_test_split\n",
    "from sklearn.metrics import confusion_matrix,classification_report\n",
    "from sklearn.grid_search import GridSearchCV\n",
    "from pandas_ml import ConfusionMatrix\n",
    "from service.files_service import get_files\n",
    "\n",
    "import matplotlib as mpl\n",
    "import matplotlib.cm as cm\n",
    "import matplotlib.pyplot as plt\n",
    "from sklearn.metrics import roc_curve, auc"
   ]
  },
  {
   "cell_type": "markdown",
   "metadata": {},
   "source": [
    "Given a df with trade features(ATR,Keltner,Donchian), forecast if the next period will have a High with a pip higher than 10."
   ]
  },
  {
   "cell_type": "code",
   "execution_count": 2,
   "metadata": {
    "collapsed": false
   },
   "outputs": [],
   "source": [
    "all_files = get_files(folder = 'data/all_data/resampled_D/',extension='.csv',as_dict=True,filter_on='_D_')"
   ]
  },
  {
   "cell_type": "code",
   "execution_count": 3,
   "metadata": {
    "collapsed": false
   },
   "outputs": [],
   "source": [
    "def make_prediction(tm,date):\n",
    "    df = tm.df.copy()\n",
    "   \n",
    "    \n",
    "    predictors =df.columns.tolist()\n",
    "    df['target']=((df.High-df.High.shift(-1))*10000>=10)*1\n",
    "    \n",
    "    clf = xgboost.XGBClassifier()\n",
    "    \n",
    "    df_train = df[df.index<date]\n",
    "    df_test = df[df.index==date]\n",
    " \n",
    "    \n",
    "      \n",
    "    X_train,y_train = df_train[predictors].values,df_train.target.values\n",
    "    X_test, y_test  = df_test[predictors].values,df_test.target.values\n",
    "    \n",
    "    clf = cv_optimize(clf,{},X_train,y_train)\n",
    "    \n",
    "    df_test['prediction'] = clf.predict(X_test)\n",
    "    \n",
    "    score =  clf.score(X_test,y_test)\n",
    "\n",
    "    \n",
    "    return y_test[0],df_test['prediction'][0],clf\n",
    "\n",
    "def cv_optimize(clf, parameters, Xtrain, ytrain, n_folds=5):\n",
    "    gs = GridSearchCV(clf, param_grid=parameters, cv=n_folds, n_jobs=-1)\n",
    "    gs.fit(Xtrain, ytrain)\n",
    "    \n",
    "    return gs.best_estimator_    "
   ]
  },
  {
   "cell_type": "code",
   "execution_count": 4,
   "metadata": {
    "collapsed": false
   },
   "outputs": [],
   "source": [
    "def compute_confusion_matrix(tm):\n",
    "    real_result = []\n",
    "    predicted_result=[]\n",
    "    \n",
    "    test_sample=100\n",
    "    for dt in (tm.df.tail(test_sample).index.values):\n",
    "        real,predicted,_ = make_prediction(tm, dt)\n",
    "        break\n",
    "        \n",
    "        real_result.append(real)\n",
    "        predicted_result.append(predicted)\n",
    "        \n",
    "    return ConfusionMatrix(real_result, predicted_result)"
   ]
  },
  {
   "cell_type": "code",
   "execution_count": 5,
   "metadata": {
    "collapsed": false
   },
   "outputs": [
    {
     "ename": "TypeError",
     "evalue": "'NoneType' object is not iterable",
     "output_type": "error",
     "traceback": [
      "\u001b[0;31m---------------------------------------------------------------------------\u001b[0m",
      "\u001b[0;31mTypeError\u001b[0m                                 Traceback (most recent call last)",
      "\u001b[0;32m<ipython-input-5-5f40daa81b0b>\u001b[0m in \u001b[0;36m<module>\u001b[0;34m()\u001b[0m\n\u001b[1;32m      2\u001b[0m \u001b[0;32mfor\u001b[0m \u001b[0mk\u001b[0m\u001b[0;34m,\u001b[0m\u001b[0mv\u001b[0m \u001b[0;32min\u001b[0m \u001b[0mall_files\u001b[0m\u001b[0;34m.\u001b[0m\u001b[0miteritems\u001b[0m\u001b[0;34m(\u001b[0m\u001b[0;34m)\u001b[0m\u001b[0;34m:\u001b[0m\u001b[0;34m\u001b[0m\u001b[0m\n\u001b[1;32m      3\u001b[0m     \u001b[0mtm\u001b[0m \u001b[0;34m=\u001b[0m\u001b[0mTradeModel\u001b[0m\u001b[0;34m(\u001b[0m\u001b[0;34m'data/all_data/resampled_D/'\u001b[0m\u001b[0;34m+\u001b[0m\u001b[0mv\u001b[0m\u001b[0;34m,\u001b[0m \u001b[0mname\u001b[0m\u001b[0;34m=\u001b[0m\u001b[0mk\u001b[0m\u001b[0;34m,\u001b[0m \u001b[0mdatetime_col\u001b[0m\u001b[0;34m=\u001b[0m\u001b[0;34m'ds'\u001b[0m\u001b[0;34m)\u001b[0m\u001b[0;34m\u001b[0m\u001b[0m\n\u001b[0;32m----> 4\u001b[0;31m     \u001b[0mconfusion_matrixes\u001b[0m\u001b[0;34m[\u001b[0m\u001b[0mk\u001b[0m\u001b[0;34m]\u001b[0m\u001b[0;34m=\u001b[0m\u001b[0mcompute_confusion_matrix\u001b[0m\u001b[0;34m(\u001b[0m\u001b[0mtm\u001b[0m\u001b[0;34m)\u001b[0m\u001b[0;34m\u001b[0m\u001b[0m\n\u001b[0m",
      "\u001b[0;32m<ipython-input-4-dbb7bd182f7b>\u001b[0m in \u001b[0;36mcompute_confusion_matrix\u001b[0;34m(tm)\u001b[0m\n\u001b[1;32m      5\u001b[0m     \u001b[0mtest_sample\u001b[0m\u001b[0;34m=\u001b[0m\u001b[0;36m100\u001b[0m\u001b[0;34m\u001b[0m\u001b[0m\n\u001b[1;32m      6\u001b[0m     \u001b[0;32mfor\u001b[0m \u001b[0mdt\u001b[0m \u001b[0;32min\u001b[0m \u001b[0;34m(\u001b[0m\u001b[0mtm\u001b[0m\u001b[0;34m.\u001b[0m\u001b[0mdf\u001b[0m\u001b[0;34m.\u001b[0m\u001b[0mtail\u001b[0m\u001b[0;34m(\u001b[0m\u001b[0mtest_sample\u001b[0m\u001b[0;34m)\u001b[0m\u001b[0;34m.\u001b[0m\u001b[0mindex\u001b[0m\u001b[0;34m.\u001b[0m\u001b[0mvalues\u001b[0m\u001b[0;34m)\u001b[0m\u001b[0;34m:\u001b[0m\u001b[0;34m\u001b[0m\u001b[0m\n\u001b[0;32m----> 7\u001b[0;31m         \u001b[0mreal\u001b[0m\u001b[0;34m,\u001b[0m\u001b[0mpredicted\u001b[0m\u001b[0;34m,\u001b[0m\u001b[0m_\u001b[0m \u001b[0;34m=\u001b[0m \u001b[0mmake_prediction\u001b[0m\u001b[0;34m(\u001b[0m\u001b[0mtm\u001b[0m\u001b[0;34m,\u001b[0m \u001b[0mdt\u001b[0m\u001b[0;34m)\u001b[0m\u001b[0;34m\u001b[0m\u001b[0m\n\u001b[0m\u001b[1;32m      8\u001b[0m         \u001b[0;32mbreak\u001b[0m\u001b[0;34m\u001b[0m\u001b[0m\n\u001b[1;32m      9\u001b[0m \u001b[0;34m\u001b[0m\u001b[0m\n",
      "\u001b[0;31mTypeError\u001b[0m: 'NoneType' object is not iterable"
     ]
    }
   ],
   "source": [
    "confusion_matrixes = {}\n",
    "for k,v in all_files.iteritems():\n",
    "    tm =TradeModel('data/all_data/resampled_D/'+v, name=k, datetime_col='ds')\n",
    "    confusion_matrixes[k]=compute_confusion_matrix(tm)"
   ]
  },
  {
   "cell_type": "code",
   "execution_count": null,
   "metadata": {
    "collapsed": false
   },
   "outputs": [],
   "source": [
    "confusion_matrixes['resampled_D_BRENTCMDUSD']"
   ]
  },
  {
   "cell_type": "code",
   "execution_count": null,
   "metadata": {
    "collapsed": true
   },
   "outputs": [],
   "source": [
    "pickle.dump(confusion_matrixes, open('data/confusion_matrix2.p', \"wb\"))"
   ]
  },
  {
   "cell_type": "code",
   "execution_count": 104,
   "metadata": {
    "collapsed": false
   },
   "outputs": [],
   "source": [
    "cmo = pickle.load(open('data/confusion_matrix2.p', \"rb\"))"
   ]
  },
  {
   "cell_type": "code",
   "execution_count": 105,
   "metadata": {
    "collapsed": false
   },
   "outputs": [
    {
     "name": "stdout",
     "output_type": "stream",
     "text": [
      "0.692307692308\n",
      "0.769230769231\n",
      "0.628571428571\n",
      "0.745098039216\n",
      "0.738095238095\n",
      "0.641025641026\n",
      "0.842105263158\n",
      "0.633333333333\n"
     ]
    }
   ],
   "source": [
    "df_CM_all = pd.DataFrame()\n",
    "for k,v in cmo.iteritems():\n",
    "    print v.stats_class.loc['PPV: Pos Pred Value (Precision)'][1]\n",
    "    \n",
    "    df_cm = cmo[k].to_dataframe()\n",
    "    df_cm.index=[k +'_Actual_Negative',k +'_Actual_Positive']\n",
    "    df_cm.columns=['Predicted_negative','Predicted_Positive']\n",
    "    df_CM_all = pd.concat([df_CM_all,df_cm],axis=0)\n"
   ]
  },
  {
   "cell_type": "markdown",
   "metadata": {},
   "source": [
    "## Results of prediction \"is pip on day+1 on **High** > 10 ?\" on 8 differents currencies"
   ]
  },
  {
   "cell_type": "code",
   "execution_count": 39,
   "metadata": {
    "collapsed": false
   },
   "outputs": [
    {
     "data": {
      "text/plain": [
       "datetime.datetime(2016, 8, 30, 0, 0)"
      ]
     },
     "execution_count": 39,
     "metadata": {},
     "output_type": "execute_result"
    }
   ],
   "source": [
    "from datetime import timedelta\n",
    "datetime(2016,12,8) - timedelta(100)"
   ]
  },
  {
   "cell_type": "markdown",
   "metadata": {},
   "source": [
    "- each exchange rate dataset ranges from 2010/2011 until dec.8th 2016.\n",
    "- we use the daily period.\n",
    "- for the last 100 days of each dataset (ie 30th Aug 2016 until 8th dec 2016) : we compute the prediction that determine whether on day+1 the High value will be higher >10 pips.\n",
    "\n",
    "The table below is a summary of the prediction vs the actual result per exchange-rate :"
   ]
  },
  {
   "cell_type": "code",
   "execution_count": 106,
   "metadata": {
    "collapsed": false
   },
   "outputs": [],
   "source": [
    "def testo(row):\n",
    "    if  ('Positive' in row.name):\n",
    "        return 1\n",
    "    elif ('Negative' in row.name):\n",
    "        return -1\n",
    "    else :\n",
    "        return 0"
   ]
  },
  {
   "cell_type": "code",
   "execution_count": 107,
   "metadata": {
    "collapsed": false
   },
   "outputs": [],
   "source": [
    "df_CM_all['win_lose']=df_CM_all.apply(testo,axis=1)\n"
   ]
  },
  {
   "cell_type": "code",
   "execution_count": 121,
   "metadata": {
    "collapsed": false
   },
   "outputs": [],
   "source": [
    "df_CM_all['gain_loss']=df_CM_all.win_lose * (100) * df_CM_all.Predicted_Positive\n",
    "df_CM_all['invested']=df_CM_all.Predicted_Positive * (100)"
   ]
  },
  {
   "cell_type": "code",
   "execution_count": 122,
   "metadata": {
    "collapsed": false
   },
   "outputs": [
    {
     "data": {
      "text/html": [
       "<div>\n",
       "<table border=\"1\" class=\"dataframe\">\n",
       "  <thead>\n",
       "    <tr style=\"text-align: right;\">\n",
       "      <th></th>\n",
       "      <th>Predicted_negative</th>\n",
       "      <th>Predicted_Positive</th>\n",
       "      <th>win_lose</th>\n",
       "      <th>gain_loss</th>\n",
       "      <th>invested</th>\n",
       "    </tr>\n",
       "  </thead>\n",
       "  <tbody>\n",
       "    <tr>\n",
       "      <th>resampled_D_LIGHTCMDUSD_Actual_Negative</th>\n",
       "      <td>25</td>\n",
       "      <td>20</td>\n",
       "      <td>-1</td>\n",
       "      <td>-2000</td>\n",
       "      <td>2000</td>\n",
       "    </tr>\n",
       "    <tr>\n",
       "      <th>resampled_D_LIGHTCMDUSD_Actual_Positive</th>\n",
       "      <td>10</td>\n",
       "      <td>45</td>\n",
       "      <td>1</td>\n",
       "      <td>4500</td>\n",
       "      <td>4500</td>\n",
       "    </tr>\n",
       "    <tr>\n",
       "      <th>resampled_D_EURRUB_Actual_Negative</th>\n",
       "      <td>41</td>\n",
       "      <td>9</td>\n",
       "      <td>-1</td>\n",
       "      <td>-900</td>\n",
       "      <td>900</td>\n",
       "    </tr>\n",
       "    <tr>\n",
       "      <th>resampled_D_EURRUB_Actual_Positive</th>\n",
       "      <td>20</td>\n",
       "      <td>30</td>\n",
       "      <td>1</td>\n",
       "      <td>3000</td>\n",
       "      <td>3000</td>\n",
       "    </tr>\n",
       "    <tr>\n",
       "      <th>resampled_D_USDNOK_Actual_Negative</th>\n",
       "      <td>48</td>\n",
       "      <td>13</td>\n",
       "      <td>-1</td>\n",
       "      <td>-1300</td>\n",
       "      <td>1300</td>\n",
       "    </tr>\n",
       "    <tr>\n",
       "      <th>resampled_D_USDNOK_Actual_Positive</th>\n",
       "      <td>17</td>\n",
       "      <td>22</td>\n",
       "      <td>1</td>\n",
       "      <td>2200</td>\n",
       "      <td>2200</td>\n",
       "    </tr>\n",
       "    <tr>\n",
       "      <th>resampled_D_USDMXN_Actual_Negative</th>\n",
       "      <td>34</td>\n",
       "      <td>13</td>\n",
       "      <td>-1</td>\n",
       "      <td>-1300</td>\n",
       "      <td>1300</td>\n",
       "    </tr>\n",
       "    <tr>\n",
       "      <th>resampled_D_USDMXN_Actual_Positive</th>\n",
       "      <td>15</td>\n",
       "      <td>38</td>\n",
       "      <td>1</td>\n",
       "      <td>3800</td>\n",
       "      <td>3800</td>\n",
       "    </tr>\n",
       "    <tr>\n",
       "      <th>resampled_D_BRENTCMDUSD_Actual_Negative</th>\n",
       "      <td>42</td>\n",
       "      <td>11</td>\n",
       "      <td>-1</td>\n",
       "      <td>-1100</td>\n",
       "      <td>1100</td>\n",
       "    </tr>\n",
       "    <tr>\n",
       "      <th>resampled_D_BRENTCMDUSD_Actual_Positive</th>\n",
       "      <td>16</td>\n",
       "      <td>31</td>\n",
       "      <td>1</td>\n",
       "      <td>3100</td>\n",
       "      <td>3100</td>\n",
       "    </tr>\n",
       "    <tr>\n",
       "      <th>resampled_D_USDRUB_Actual_Negative</th>\n",
       "      <td>41</td>\n",
       "      <td>14</td>\n",
       "      <td>-1</td>\n",
       "      <td>-1400</td>\n",
       "      <td>1400</td>\n",
       "    </tr>\n",
       "    <tr>\n",
       "      <th>resampled_D_USDRUB_Actual_Positive</th>\n",
       "      <td>20</td>\n",
       "      <td>25</td>\n",
       "      <td>1</td>\n",
       "      <td>2500</td>\n",
       "      <td>2500</td>\n",
       "    </tr>\n",
       "    <tr>\n",
       "      <th>resampled_D_EURNOK_Actual_Negative</th>\n",
       "      <td>44</td>\n",
       "      <td>6</td>\n",
       "      <td>-1</td>\n",
       "      <td>-600</td>\n",
       "      <td>600</td>\n",
       "    </tr>\n",
       "    <tr>\n",
       "      <th>resampled_D_EURNOK_Actual_Positive</th>\n",
       "      <td>18</td>\n",
       "      <td>32</td>\n",
       "      <td>1</td>\n",
       "      <td>3200</td>\n",
       "      <td>3200</td>\n",
       "    </tr>\n",
       "    <tr>\n",
       "      <th>resampled_D_USDCAD_Actual_Negative</th>\n",
       "      <td>58</td>\n",
       "      <td>11</td>\n",
       "      <td>-1</td>\n",
       "      <td>-1100</td>\n",
       "      <td>1100</td>\n",
       "    </tr>\n",
       "    <tr>\n",
       "      <th>resampled_D_USDCAD_Actual_Positive</th>\n",
       "      <td>12</td>\n",
       "      <td>19</td>\n",
       "      <td>1</td>\n",
       "      <td>1900</td>\n",
       "      <td>1900</td>\n",
       "    </tr>\n",
       "  </tbody>\n",
       "</table>\n",
       "</div>"
      ],
      "text/plain": [
       "                                         Predicted_negative  \\\n",
       "resampled_D_LIGHTCMDUSD_Actual_Negative                  25   \n",
       "resampled_D_LIGHTCMDUSD_Actual_Positive                  10   \n",
       "resampled_D_EURRUB_Actual_Negative                       41   \n",
       "resampled_D_EURRUB_Actual_Positive                       20   \n",
       "resampled_D_USDNOK_Actual_Negative                       48   \n",
       "resampled_D_USDNOK_Actual_Positive                       17   \n",
       "resampled_D_USDMXN_Actual_Negative                       34   \n",
       "resampled_D_USDMXN_Actual_Positive                       15   \n",
       "resampled_D_BRENTCMDUSD_Actual_Negative                  42   \n",
       "resampled_D_BRENTCMDUSD_Actual_Positive                  16   \n",
       "resampled_D_USDRUB_Actual_Negative                       41   \n",
       "resampled_D_USDRUB_Actual_Positive                       20   \n",
       "resampled_D_EURNOK_Actual_Negative                       44   \n",
       "resampled_D_EURNOK_Actual_Positive                       18   \n",
       "resampled_D_USDCAD_Actual_Negative                       58   \n",
       "resampled_D_USDCAD_Actual_Positive                       12   \n",
       "\n",
       "                                         Predicted_Positive  win_lose  \\\n",
       "resampled_D_LIGHTCMDUSD_Actual_Negative                  20        -1   \n",
       "resampled_D_LIGHTCMDUSD_Actual_Positive                  45         1   \n",
       "resampled_D_EURRUB_Actual_Negative                        9        -1   \n",
       "resampled_D_EURRUB_Actual_Positive                       30         1   \n",
       "resampled_D_USDNOK_Actual_Negative                       13        -1   \n",
       "resampled_D_USDNOK_Actual_Positive                       22         1   \n",
       "resampled_D_USDMXN_Actual_Negative                       13        -1   \n",
       "resampled_D_USDMXN_Actual_Positive                       38         1   \n",
       "resampled_D_BRENTCMDUSD_Actual_Negative                  11        -1   \n",
       "resampled_D_BRENTCMDUSD_Actual_Positive                  31         1   \n",
       "resampled_D_USDRUB_Actual_Negative                       14        -1   \n",
       "resampled_D_USDRUB_Actual_Positive                       25         1   \n",
       "resampled_D_EURNOK_Actual_Negative                        6        -1   \n",
       "resampled_D_EURNOK_Actual_Positive                       32         1   \n",
       "resampled_D_USDCAD_Actual_Negative                       11        -1   \n",
       "resampled_D_USDCAD_Actual_Positive                       19         1   \n",
       "\n",
       "                                         gain_loss  invested  \n",
       "resampled_D_LIGHTCMDUSD_Actual_Negative      -2000      2000  \n",
       "resampled_D_LIGHTCMDUSD_Actual_Positive       4500      4500  \n",
       "resampled_D_EURRUB_Actual_Negative            -900       900  \n",
       "resampled_D_EURRUB_Actual_Positive            3000      3000  \n",
       "resampled_D_USDNOK_Actual_Negative           -1300      1300  \n",
       "resampled_D_USDNOK_Actual_Positive            2200      2200  \n",
       "resampled_D_USDMXN_Actual_Negative           -1300      1300  \n",
       "resampled_D_USDMXN_Actual_Positive            3800      3800  \n",
       "resampled_D_BRENTCMDUSD_Actual_Negative      -1100      1100  \n",
       "resampled_D_BRENTCMDUSD_Actual_Positive       3100      3100  \n",
       "resampled_D_USDRUB_Actual_Negative           -1400      1400  \n",
       "resampled_D_USDRUB_Actual_Positive            2500      2500  \n",
       "resampled_D_EURNOK_Actual_Negative            -600       600  \n",
       "resampled_D_EURNOK_Actual_Positive            3200      3200  \n",
       "resampled_D_USDCAD_Actual_Negative           -1100      1100  \n",
       "resampled_D_USDCAD_Actual_Positive            1900      1900  "
      ]
     },
     "execution_count": 122,
     "metadata": {},
     "output_type": "execute_result"
    }
   ],
   "source": [
    "df_CM_all"
   ]
  },
  {
   "cell_type": "code",
   "execution_count": 123,
   "metadata": {
    "collapsed": false
   },
   "outputs": [
    {
     "name": "stdout",
     "output_type": "stream",
     "text": [
      "14500\n",
      "33900\n",
      "42.7728613569\n"
     ]
    }
   ],
   "source": [
    "print df_CM_all.gain_loss.sum()\n",
    "print df_CM_all.invested.sum()\n",
    "print df_CM_all.gain_loss.sum()*1.0/df_CM_all.invested.sum()*100.0"
   ]
  },
  {
   "cell_type": "markdown",
   "metadata": {},
   "source": [
    "### Plot ROC Curve\n",
    "See lab6-classification-redux.ipynb CS109-2015"
   ]
  },
  {
   "cell_type": "code",
   "execution_count": 35,
   "metadata": {
    "collapsed": true
   },
   "outputs": [],
   "source": [
    "def make_roc(name, clf, ytest, xtest, ax=None, labe=50, proba=True, skip=0):\n",
    "    initial=False\n",
    "    if not ax:\n",
    "        ax=plt.gca()\n",
    "        initial=True\n",
    "    if proba:\n",
    "        fpr, tpr, thresholds=roc_curve(ytest, clf.predict_proba(xtest)[:,1])\n",
    "    else:\n",
    "        fpr, tpr, thresholds=roc_curve(ytest, clf.decision_function(xtest))\n",
    "    roc_auc = auc(fpr, tpr)\n",
    "    if skip:\n",
    "        l=fpr.shape[0]\n",
    "        ax.plot(fpr[0:l:skip], tpr[0:l:skip], '.-', alpha=0.3, label='ROC curve for %s (area = %0.2f)' % (name, roc_auc))\n",
    "    else:\n",
    "        ax.plot(fpr, tpr, '.-', alpha=0.3, label='ROC curve for %s (area = %0.2f)' % (name, roc_auc))\n",
    "    label_kwargs = {}\n",
    "    label_kwargs['bbox'] = dict(\n",
    "        boxstyle='round,pad=0.3', alpha=0.2,\n",
    "    )\n",
    "    for k in xrange(0, fpr.shape[0],labe):\n",
    "        #from https://gist.github.com/podshumok/c1d1c9394335d86255b8\n",
    "        threshold = str(np.round(thresholds[k], 2))\n",
    "        ax.annotate(threshold, (fpr[k], tpr[k]), **label_kwargs)\n",
    "    if initial:\n",
    "        ax.plot([0, 1], [0, 1], 'k--')\n",
    "        ax.set_xlim([0.0, 1.0])\n",
    "        ax.set_ylim([0.0, 1.05])\n",
    "        ax.set_xlabel('False Positive Rate')\n",
    "        ax.set_ylabel('True Positive Rate')\n",
    "        ax.set_title('ROC')\n",
    "    ax.legend(loc=\"lower right\")\n",
    "    return ax"
   ]
  },
  {
   "cell_type": "markdown",
   "metadata": {},
   "source": [
    "### Quick dirty method to test the ROC plotting"
   ]
  },
  {
   "cell_type": "code",
   "execution_count": 31,
   "metadata": {
    "collapsed": true
   },
   "outputs": [],
   "source": [
    "def test_ROC(date):\n",
    "    tm =TradeModel('data/all_data/resampled_D/resampled_H_USDCAD_UTC_1 Min_Bid_2010.01.02_2016.12.08.csv',\\\n",
    "                   name='test', datetime_col='ds')\n",
    "    df=tm.df.copy()\n",
    "    \n",
    "    predictors =df.columns.tolist()\n",
    "    \n",
    "    df['target']=((df.High-df.High.shift(-1))*10000>=10)*1\n",
    "    \n",
    "    clf = xgboost.XGBClassifier()\n",
    "    \n",
    "    df_train = df[df.index<date]\n",
    "    df_test = df[df.index>=date]\n",
    " \n",
    "    print df_test.shape\n",
    "      \n",
    "    X_train,y_train = df_train[predictors].values,df_train.target.values\n",
    "    X_test, y_test  = df_test[predictors].values,df_test.target.values\n",
    "    \n",
    "    clf.fit(X_train,y_train)\n",
    "    \n",
    "    prediction = clf.predict_proba(X_test)\n",
    "    \n",
    "    return X_test, y_test,clf\n",
    "    "
   ]
  },
  {
   "cell_type": "code",
   "execution_count": 32,
   "metadata": {
    "collapsed": false
   },
   "outputs": [
    {
     "name": "stdout",
     "output_type": "stream",
     "text": [
      "(2424, 18)\n"
     ]
    }
   ],
   "source": [
    "X_test, y_test,clf = test_ROC(datetime(2016,12,8) - timedelta(100))"
   ]
  },
  {
   "cell_type": "code",
   "execution_count": 33,
   "metadata": {
    "collapsed": false
   },
   "outputs": [
    {
     "data": {
      "text/plain": [
       "array([0, 0, 0, ..., 0, 0, 0])"
      ]
     },
     "execution_count": 33,
     "metadata": {},
     "output_type": "execute_result"
    }
   ],
   "source": [
    "y_test"
   ]
  },
  {
   "cell_type": "code",
   "execution_count": 36,
   "metadata": {
    "collapsed": false
   },
   "outputs": [
    {
     "data": {
      "image/png": "[encoded data removed]",
      "text/plain": [
       "<matplotlib.figure.Figure at 0x7f172dec7cd0>"
      ]
     },
     "metadata": {},
     "output_type": "display_data"
    }
   ],
   "source": [
    "ax = make_roc('test',clf,y_test,X_test)"
   ]
  }
 ],
 "metadata": {
  "anaconda-cloud": {},
  "kernelspec": {
   "display_name": "Python [conda root]",
   "language": "python",
   "name": "conda-root-py"
  },
  "language_info": {
   "codemirror_mode": {
    "name": "ipython",
    "version": 2
   },
   "file_extension": ".py",
   "mimetype": "text/x-python",
   "name": "python",
   "nbconvert_exporter": "python",
   "pygments_lexer": "ipython2",
   "version": "2.7.12"
  }
 },
 "nbformat": 4,
 "nbformat_minor": 1
}
