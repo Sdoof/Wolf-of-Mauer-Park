{
 "cells": [
  {
   "cell_type": "markdown",
   "metadata": {},
   "source": [
    "# Prediction with classifier"
   ]
  },
  {
   "cell_type": "code",
   "execution_count": 5,
   "metadata": {
    "collapsed": false
   },
   "outputs": [],
   "source": [
    "%matplotlib inline\n",
    "import pandas as pd\n",
    "from datetime import datetime\n",
    "import numpy as np\n",
    "import seaborn as sns\n",
    "#import matplotlib.pyplot as plt\n",
    "import matplotlib.pylab as pl\n",
    "import xgboost\n",
    "from model.models import TradeModel\n",
    "from sklearn.model_selection import train_test_split\n",
    "from sklearn.metrics import confusion_matrix,classification_report\n",
    "from sklearn.grid_search import GridSearchCV\n",
    "from pandas_ml import ConfusionMatrix\n",
    "from service.files_service import _get_files\n",
    "\n"
   ]
  },
  {
   "cell_type": "markdown",
   "metadata": {},
   "source": [
    "Given a df with trade features(ATR,Keltner,Donchian), forecast if the next period will close with a pip higher than 10."
   ]
  },
  {
   "cell_type": "code",
   "execution_count": 6,
   "metadata": {
    "collapsed": false
   },
   "outputs": [],
   "source": [
    "all_files = _get_files(folder = 'data/all_data/resampled_D/',extension='.csv',as_dict=True,filter_on='_D_')"
   ]
  },
  {
   "cell_type": "code",
   "execution_count": 7,
   "metadata": {
    "collapsed": false
   },
   "outputs": [],
   "source": [
    "def make_prediction(tm,date):\n",
    "    df = tm.df.copy()\n",
    "    \n",
    "    predictors =df.columns.tolist()\n",
    "    df['target']=((df.Close-df.Close.shift(-1))*10000>=10)*1\n",
    "    \n",
    "    clf = xgboost.XGBClassifier()\n",
    "    \n",
    "    df_train = df[df.index<date]\n",
    "    df_test = df[df.index==date]\n",
    "      \n",
    "    X_train,y_train = df_train[predictors].values,df_train.target.values\n",
    "    X_test, y_test  = df_test[predictors].values,df_test.target.values\n",
    "    \n",
    "    clf = cv_optimize(clf,{},X_train,y_train)\n",
    "    \n",
    "    df_test['prediction'] = clf.predict(X_test)\n",
    "    \n",
    "    score =  clf.score(X_test,y_test)\n",
    "    #print confusion_matrix(y_test,df_test['prediction'])\n",
    "    #print classification_report(y_test,df_test['prediction'], target_names=['Not pip','pip'])\n",
    "    #df_test[['prediction','target']].plot(kind='bar')\n",
    "    \n",
    "    return y_test[0],df_test['prediction'][0]\n",
    "\n",
    "def cv_optimize(clf, parameters, Xtrain, ytrain, n_folds=5):\n",
    "    gs = GridSearchCV(clf, param_grid=parameters, cv=n_folds, n_jobs=-1)\n",
    "    gs.fit(Xtrain, ytrain)\n",
    "    \n",
    "    return gs.best_estimator_    "
   ]
  },
  {
   "cell_type": "code",
   "execution_count": 8,
   "metadata": {
    "collapsed": false
   },
   "outputs": [],
   "source": [
    "def compute_confusion_matrix(tm):\n",
    "    real_result = []\n",
    "    predicted_result=[]\n",
    "    test_sample=100\n",
    "    for dt in (tm.df.tail(test_sample).index.values):\n",
    "        real,predicted = make_prediction(tm, dt)\n",
    "        real_result.append(real)\n",
    "        predicted_result.append(predicted)\n",
    "    return ConfusionMatrix(real_result, predicted_result)"
   ]
  },
  {
   "cell_type": "code",
   "execution_count": 9,
   "metadata": {
    "collapsed": false
   },
   "outputs": [
    {
     "name": "stderr",
     "output_type": "stream",
     "text": [
      "/home/ramon/anaconda2/lib/python2.7/site-packages/ipykernel/__main__.py:17: SettingWithCopyWarning: \n",
      "A value is trying to be set on a copy of a slice from a DataFrame.\n",
      "Try using .loc[row_indexer,col_indexer] = value instead\n",
      "\n",
      "See the caveats in the documentation: http://pandas.pydata.org/pandas-docs/stable/indexing.html#indexing-view-versus-copy\n"
     ]
    }
   ],
   "source": [
    "confusion_matrixes = {}\n",
    "for k,v in all_files.iteritems():\n",
    "    tm =TradeModel('data/all_data/resampled_D/'+v, name=k, datetime_col='ds')\n",
    "    confusion_matrixes[k]=compute_confusion_matrix(tm)"
   ]
  },
  {
   "cell_type": "code",
   "execution_count": 13,
   "metadata": {
    "collapsed": false
   },
   "outputs": [
    {
     "data": {
      "text/plain": [
       "Predicted   0   1  __all__\n",
       "Actual                    \n",
       "0          42  11       53\n",
       "1          15  32       47\n",
       "__all__    57  43      100"
      ]
     },
     "execution_count": 13,
     "metadata": {},
     "output_type": "execute_result"
    }
   ],
   "source": [
    "confusion_matrixes['resampled_D_BRENTCMDUSD']"
   ]
  },
  {
   "cell_type": "code",
   "execution_count": 14,
   "metadata": {
    "collapsed": true
   },
   "outputs": [],
   "source": [
    "import pickle\n",
    "pickle.dump(confusion_matrixes, open('data/confusion_matrix1.p', \"wb\"))\n"
   ]
  },
  {
   "cell_type": "code",
   "execution_count": 135,
   "metadata": {
    "collapsed": false
   },
   "outputs": [],
   "source": [
    "cmo = pickle.load(open('data/confusion_matrix1.p', \"rb\"))"
   ]
  },
  {
   "cell_type": "code",
   "execution_count": 136,
   "metadata": {
    "collapsed": false
   },
   "outputs": [
    {
     "name": "stdout",
     "output_type": "stream",
     "text": [
      "0.666666666667\n",
      "0.775\n",
      "0.617647058824\n",
      "0.745098039216\n",
      "0.744186046512\n",
      "0.641025641026\n",
      "0.861111111111\n",
      "0.655172413793\n"
     ]
    }
   ],
   "source": [
    "df_CM_all = pd.DataFrame()\n",
    "for k,v in cmo.iteritems():\n",
    "    print v.stats_class.loc['PPV: Pos Pred Value (Precision)'][1]\n",
    "    \n",
    "    df_cm = cmo[k].to_dataframe()\n",
    "    df_cm.index=[k +'_Actual_Negative',k +'_Actual_Positive']\n",
    "    df_cm.columns=['Predicted_negative','Predicted_Positive']\n",
    "    df_CM_all = pd.concat([df_CM_all,df_cm],axis=0)\n"
   ]
  },
  {
   "cell_type": "code",
   "execution_count": 106,
   "metadata": {
    "collapsed": false
   },
   "outputs": [
    {
     "data": {
      "text/html": [
       "<div>\n",
       "<table border=\"1\" class=\"dataframe\">\n",
       "  <thead>\n",
       "    <tr style=\"text-align: right;\">\n",
       "      <th></th>\n",
       "      <th>Predicted_negative</th>\n",
       "      <th>Predicted_Positive</th>\n",
       "    </tr>\n",
       "  </thead>\n",
       "  <tbody>\n",
       "    <tr>\n",
       "      <th>resampled_D_LIGHTCMDUSD_Actual_Negative</th>\n",
       "      <td>23</td>\n",
       "      <td>22</td>\n",
       "    </tr>\n",
       "    <tr>\n",
       "      <th>resampled_D_LIGHTCMDUSD_Actual_Positive</th>\n",
       "      <td>11</td>\n",
       "      <td>44</td>\n",
       "    </tr>\n",
       "    <tr>\n",
       "      <th>resampled_D_EURRUB_Actual_Negative</th>\n",
       "      <td>41</td>\n",
       "      <td>9</td>\n",
       "    </tr>\n",
       "    <tr>\n",
       "      <th>resampled_D_EURRUB_Actual_Positive</th>\n",
       "      <td>19</td>\n",
       "      <td>31</td>\n",
       "    </tr>\n",
       "    <tr>\n",
       "      <th>resampled_D_USDNOK_Actual_Negative</th>\n",
       "      <td>48</td>\n",
       "      <td>13</td>\n",
       "    </tr>\n",
       "    <tr>\n",
       "      <th>resampled_D_USDNOK_Actual_Positive</th>\n",
       "      <td>18</td>\n",
       "      <td>21</td>\n",
       "    </tr>\n",
       "    <tr>\n",
       "      <th>resampled_D_USDMXN_Actual_Negative</th>\n",
       "      <td>34</td>\n",
       "      <td>13</td>\n",
       "    </tr>\n",
       "    <tr>\n",
       "      <th>resampled_D_USDMXN_Actual_Positive</th>\n",
       "      <td>15</td>\n",
       "      <td>38</td>\n",
       "    </tr>\n",
       "    <tr>\n",
       "      <th>resampled_D_BRENTCMDUSD_Actual_Negative</th>\n",
       "      <td>42</td>\n",
       "      <td>11</td>\n",
       "    </tr>\n",
       "    <tr>\n",
       "      <th>resampled_D_BRENTCMDUSD_Actual_Positive</th>\n",
       "      <td>15</td>\n",
       "      <td>32</td>\n",
       "    </tr>\n",
       "    <tr>\n",
       "      <th>resampled_D_USDRUB_Actual_Negative</th>\n",
       "      <td>41</td>\n",
       "      <td>14</td>\n",
       "    </tr>\n",
       "    <tr>\n",
       "      <th>resampled_D_USDRUB_Actual_Positive</th>\n",
       "      <td>20</td>\n",
       "      <td>25</td>\n",
       "    </tr>\n",
       "    <tr>\n",
       "      <th>resampled_D_EURNOK_Actual_Negative</th>\n",
       "      <td>45</td>\n",
       "      <td>5</td>\n",
       "    </tr>\n",
       "    <tr>\n",
       "      <th>resampled_D_EURNOK_Actual_Positive</th>\n",
       "      <td>19</td>\n",
       "      <td>31</td>\n",
       "    </tr>\n",
       "    <tr>\n",
       "      <th>resampled_D_USDCAD_Actual_Negative</th>\n",
       "      <td>59</td>\n",
       "      <td>10</td>\n",
       "    </tr>\n",
       "    <tr>\n",
       "      <th>resampled_D_USDCAD_Actual_Positive</th>\n",
       "      <td>12</td>\n",
       "      <td>19</td>\n",
       "    </tr>\n",
       "  </tbody>\n",
       "</table>\n",
       "</div>"
      ],
      "text/plain": [
       "                                         Predicted_negative  \\\n",
       "resampled_D_LIGHTCMDUSD_Actual_Negative                  23   \n",
       "resampled_D_LIGHTCMDUSD_Actual_Positive                  11   \n",
       "resampled_D_EURRUB_Actual_Negative                       41   \n",
       "resampled_D_EURRUB_Actual_Positive                       19   \n",
       "resampled_D_USDNOK_Actual_Negative                       48   \n",
       "resampled_D_USDNOK_Actual_Positive                       18   \n",
       "resampled_D_USDMXN_Actual_Negative                       34   \n",
       "resampled_D_USDMXN_Actual_Positive                       15   \n",
       "resampled_D_BRENTCMDUSD_Actual_Negative                  42   \n",
       "resampled_D_BRENTCMDUSD_Actual_Positive                  15   \n",
       "resampled_D_USDRUB_Actual_Negative                       41   \n",
       "resampled_D_USDRUB_Actual_Positive                       20   \n",
       "resampled_D_EURNOK_Actual_Negative                       45   \n",
       "resampled_D_EURNOK_Actual_Positive                       19   \n",
       "resampled_D_USDCAD_Actual_Negative                       59   \n",
       "resampled_D_USDCAD_Actual_Positive                       12   \n",
       "\n",
       "                                         Predicted_Positive  \n",
       "resampled_D_LIGHTCMDUSD_Actual_Negative                  22  \n",
       "resampled_D_LIGHTCMDUSD_Actual_Positive                  44  \n",
       "resampled_D_EURRUB_Actual_Negative                        9  \n",
       "resampled_D_EURRUB_Actual_Positive                       31  \n",
       "resampled_D_USDNOK_Actual_Negative                       13  \n",
       "resampled_D_USDNOK_Actual_Positive                       21  \n",
       "resampled_D_USDMXN_Actual_Negative                       13  \n",
       "resampled_D_USDMXN_Actual_Positive                       38  \n",
       "resampled_D_BRENTCMDUSD_Actual_Negative                  11  \n",
       "resampled_D_BRENTCMDUSD_Actual_Positive                  32  \n",
       "resampled_D_USDRUB_Actual_Negative                       14  \n",
       "resampled_D_USDRUB_Actual_Positive                       25  \n",
       "resampled_D_EURNOK_Actual_Negative                        5  \n",
       "resampled_D_EURNOK_Actual_Positive                       31  \n",
       "resampled_D_USDCAD_Actual_Negative                       10  \n",
       "resampled_D_USDCAD_Actual_Positive                       19  "
      ]
     },
     "execution_count": 106,
     "metadata": {},
     "output_type": "execute_result"
    }
   ],
   "source": [
    "df_CM_all['Pip_10_was_right']"
   ]
  },
  {
   "cell_type": "code",
   "execution_count": 91,
   "metadata": {
    "collapsed": false
   },
   "outputs": [
    {
     "data": {
      "text/html": [
       "<div>\n",
       "<table border=\"1\" class=\"dataframe\">\n",
       "  <thead>\n",
       "    <tr style=\"text-align: right;\">\n",
       "      <th></th>\n",
       "      <th>Predicted_negative</th>\n",
       "      <th>Predicted_Positive</th>\n",
       "    </tr>\n",
       "  </thead>\n",
       "  <tbody>\n",
       "    <tr>\n",
       "      <th>Actual_Negative</th>\n",
       "      <td>23</td>\n",
       "      <td>22</td>\n",
       "    </tr>\n",
       "    <tr>\n",
       "      <th>Actual_Positive</th>\n",
       "      <td>11</td>\n",
       "      <td>44</td>\n",
       "    </tr>\n",
       "  </tbody>\n",
       "</table>\n",
       "</div>"
      ],
      "text/plain": [
       "                 Predicted_negative  Predicted_Positive\n",
       "Actual_Negative                  23                  22\n",
       "Actual_Positive                  11                  44"
      ]
     },
     "execution_count": 91,
     "metadata": {},
     "output_type": "execute_result"
    }
   ],
   "source": []
  }
 ],
 "metadata": {
  "anaconda-cloud": {},
  "kernelspec": {
   "display_name": "Python [conda root]",
   "language": "python",
   "name": "conda-root-py"
  },
  "language_info": {
   "codemirror_mode": {
    "name": "ipython",
    "version": 2
   },
   "file_extension": ".py",
   "mimetype": "text/x-python",
   "name": "python",
   "nbconvert_exporter": "python",
   "pygments_lexer": "ipython2",
   "version": "2.7.12"
  }
 },
 "nbformat": 4,
 "nbformat_minor": 1
}
