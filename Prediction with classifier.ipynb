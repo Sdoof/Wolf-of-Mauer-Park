{
 "cells": [
  {
   "cell_type": "markdown",
   "metadata": {},
   "source": [
    "# Prediction with classifier"
   ]
  },
  {
   "cell_type": "code",
   "execution_count": 1,
   "metadata": {
    "collapsed": false
   },
   "outputs": [
    {
     "name": "stderr",
     "output_type": "stream",
     "text": [
      "/home/ramon/anaconda2/lib/python2.7/site-packages/sklearn/cross_validation.py:44: DeprecationWarning: This module was deprecated in version 0.18 in favor of the model_selection module into which all the refactored classes and functions are moved. Also note that the interface of the new CV iterators are different from that of this module. This module will be removed in 0.20.\n",
      "  \"This module will be removed in 0.20.\", DeprecationWarning)\n"
     ]
    }
   ],
   "source": [
    "%matplotlib inline\n",
    "import pandas as pd\n",
    "from datetime import datetime\n",
    "import numpy as np\n",
    "import seaborn as sns\n",
    "import matplotlib.pyplot as plt\n",
    "import xgboost\n",
    "from model.models import TradeModel\n",
    "from sklearn.model_selection import train_test_split\n",
    "\n"
   ]
  },
  {
   "cell_type": "markdown",
   "metadata": {},
   "source": [
    "Given a df with trade features(ATR,Keltner,Donchian), forecast if the next period will close with a pip higher than 10."
   ]
  },
  {
   "cell_type": "code",
   "execution_count": 2,
   "metadata": {
    "collapsed": false
   },
   "outputs": [],
   "source": [
    "tm =TradeModel('data/simple/EURUSD_UTC_Daily_Bid_2017.01.01_2017.02.20.csv', name='EURUSD')"
   ]
  },
  {
   "cell_type": "code",
   "execution_count": 3,
   "metadata": {
    "collapsed": false
   },
   "outputs": [
    {
     "name": "stdout",
     "output_type": "stream",
     "text": [
      "<class 'pandas.core.frame.DataFrame'>\n",
      "DatetimeIndex: 44 entries, 2017-01-01 to 2017-02-20\n",
      "Data columns (total 17 columns):\n",
      "Open               44 non-null float64\n",
      "High               44 non-null float64\n",
      "Low                44 non-null float64\n",
      "Close              44 non-null float64\n",
      "Volume             44 non-null float64\n",
      "KC_M_3             42 non-null float64\n",
      "KC_U_3             42 non-null float64\n",
      "KC_D_3             42 non-null float64\n",
      "Donchian_High_3    42 non-null float64\n",
      "Donchian_Low_3     42 non-null float64\n",
      "ATR                40 non-null float64\n",
      "EMA12              33 non-null float64\n",
      "EMA30              15 non-null float64\n",
      "cs_size            44 non-null float64\n",
      "cs_body_size       44 non-null float64\n",
      "cs_body_pos        44 non-null float64\n",
      "cs_body_ratio      44 non-null float64\n",
      "dtypes: float64(17)\n",
      "memory usage: 6.2 KB\n"
     ]
    }
   ],
   "source": [
    "tm.df.info()"
   ]
  },
  {
   "cell_type": "code",
   "execution_count": 15,
   "metadata": {
    "collapsed": true
   },
   "outputs": [],
   "source": [
    "def make_prediction(tm,date):\n",
    "    df = tm.df\n",
    "    \n",
    "    predictors =df.columns.tolist()\n",
    "    \n",
    "    df['Close_pip']=(df.Close-df.Close.shift(-1))*10000\n",
    "    df['target']=(df.Close_pip>=10)*1\n",
    "    \n",
    "       \n",
    "    clf = xgboost.XGBClassifier()\n",
    "    \n",
    "    df_train = df[df.index<date]\n",
    "    df_test = df[df.index>=date]\n",
    "   \n",
    "    \n",
    "    \n",
    "    X_train,y_train = df_train[predictors].values,df_train.target.values\n",
    "    X_test, y_test  = df_test[predictors].values,df_test.target.values\n",
    "    \n",
    "    clf.fit(X_train,y_train)\n",
    "    \n",
    "  \n",
    "    print clf.score(X_test,y_test)"
   ]
  },
  {
   "cell_type": "code",
   "execution_count": 33,
   "metadata": {
    "collapsed": false
   },
   "outputs": [
    {
     "name": "stdout",
     "output_type": "stream",
     "text": [
      "0.967741935484\n"
     ]
    }
   ],
   "source": [
    "make_prediction(tm, datetime(2017,1,16))"
   ]
  }
 ],
 "metadata": {
  "anaconda-cloud": {},
  "kernelspec": {
   "display_name": "Python [conda root]",
   "language": "python",
   "name": "conda-root-py"
  },
  "language_info": {
   "codemirror_mode": {
    "name": "ipython",
    "version": 2
   },
   "file_extension": ".py",
   "mimetype": "text/x-python",
   "name": "python",
   "nbconvert_exporter": "python",
   "pygments_lexer": "ipython2",
   "version": "2.7.12"
  }
 },
 "nbformat": 4,
 "nbformat_minor": 1
}
